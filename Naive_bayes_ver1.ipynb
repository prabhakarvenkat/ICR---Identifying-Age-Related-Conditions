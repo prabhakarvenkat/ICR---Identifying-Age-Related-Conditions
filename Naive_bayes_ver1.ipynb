{
 "cells": [
  {
   "cell_type": "code",
   "execution_count": 1,
   "id": "d5e4ed94",
   "metadata": {
    "_cell_guid": "b1076dfc-b9ad-4769-8c92-a6c4dae69d19",
    "_uuid": "8f2839f25d086af736a60e9eeb907d3b93b6e0e5",
    "execution": {
     "iopub.execute_input": "2023-07-27T15:24:06.378520Z",
     "iopub.status.busy": "2023-07-27T15:24:06.377989Z",
     "iopub.status.idle": "2023-07-27T15:24:06.392565Z",
     "shell.execute_reply": "2023-07-27T15:24:06.391269Z"
    },
    "papermill": {
     "duration": 0.025044,
     "end_time": "2023-07-27T15:24:06.394924",
     "exception": false,
     "start_time": "2023-07-27T15:24:06.369880",
     "status": "completed"
    },
    "tags": []
   },
   "outputs": [
    {
     "name": "stdout",
     "output_type": "stream",
     "text": [
      "/kaggle/input/icr-identify-age-related-conditions/sample_submission.csv\n",
      "/kaggle/input/icr-identify-age-related-conditions/greeks.csv\n",
      "/kaggle/input/icr-identify-age-related-conditions/train.csv\n",
      "/kaggle/input/icr-identify-age-related-conditions/test.csv\n"
     ]
    }
   ],
   "source": [
    "# This Python 3 environment comes with many helpful analytics libraries installed\n",
    "# It is defined by the kaggle/python Docker image: https://github.com/kaggle/docker-python\n",
    "# For example, here's several helpful packages to load\n",
    "\n",
    "import numpy as np # linear algebra\n",
    "import pandas as pd # data processing, CSV file I/O (e.g. pd.read_csv)\n",
    "\n",
    "# Input data files are available in the read-only \"../input/\" directory\n",
    "# For example, running this (by clicking run or pressing Shift+Enter) will list all files under the input directory\n",
    "\n",
    "import os\n",
    "for dirname, _, filenames in os.walk('/kaggle/input'):\n",
    "    for filename in filenames:\n",
    "        print(os.path.join(dirname, filename))\n",
    "\n",
    "# You can write up to 20GB to the current directory (/kaggle/working/) that gets preserved as output when you create a version using \"Save & Run All\" \n",
    "# You can also write temporary files to /kaggle/temp/, but they won't be saved outside of the current session"
   ]
  },
  {
   "cell_type": "code",
   "execution_count": 2,
   "id": "d78f65af",
   "metadata": {
    "execution": {
     "iopub.execute_input": "2023-07-27T15:24:06.408842Z",
     "iopub.status.busy": "2023-07-27T15:24:06.408058Z",
     "iopub.status.idle": "2023-07-27T15:24:08.282838Z",
     "shell.execute_reply": "2023-07-27T15:24:08.281621Z"
    },
    "papermill": {
     "duration": 1.884925,
     "end_time": "2023-07-27T15:24:08.285788",
     "exception": false,
     "start_time": "2023-07-27T15:24:06.400863",
     "status": "completed"
    },
    "tags": []
   },
   "outputs": [
    {
     "name": "stderr",
     "output_type": "stream",
     "text": [
      "/opt/conda/lib/python3.10/site-packages/scipy/__init__.py:146: UserWarning: A NumPy version >=1.16.5 and <1.23.0 is required for this version of SciPy (detected version 1.23.5\n",
      "  warnings.warn(f\"A NumPy version >={np_minversion} and <{np_maxversion}\"\n"
     ]
    }
   ],
   "source": [
    "pd.set_option('display.max_columns', None)\n",
    "pd.set_option('display.max_rows', None)\n",
    "\n",
    "import seaborn as sns\n",
    "from sklearn.model_selection import GridSearchCV, KFold\n",
    "from xgboost import XGBClassifier\n",
    "from sklearn.preprocessing import LabelEncoder\n",
    "from sklearn.preprocessing import StandardScaler\n",
    "from sklearn.metrics import classification_report, confusion_matrix\n",
    "from sklearn.model_selection import train_test_split\n",
    "from sklearn.metrics import make_scorer, balanced_accuracy_score\n",
    "from sklearn.metrics import accuracy_score"
   ]
  },
  {
   "cell_type": "code",
   "execution_count": 3,
   "id": "007568a4",
   "metadata": {
    "execution": {
     "iopub.execute_input": "2023-07-27T15:24:08.299977Z",
     "iopub.status.busy": "2023-07-27T15:24:08.298874Z",
     "iopub.status.idle": "2023-07-27T15:24:08.355640Z",
     "shell.execute_reply": "2023-07-27T15:24:08.354510Z"
    },
    "papermill": {
     "duration": 0.066352,
     "end_time": "2023-07-27T15:24:08.358157",
     "exception": false,
     "start_time": "2023-07-27T15:24:08.291805",
     "status": "completed"
    },
    "tags": []
   },
   "outputs": [],
   "source": [
    "train = pd.read_csv(\"/kaggle/input/icr-identify-age-related-conditions/train.csv\")\n",
    "test = pd.read_csv(\"/kaggle/input/icr-identify-age-related-conditions/test.csv\")\n",
    "greeks = pd.read_csv(\"/kaggle/input/icr-identify-age-related-conditions/greeks.csv\")\n",
    "sample_submission = pd.read_csv(\"/kaggle/input/icr-identify-age-related-conditions/sample_submission.csv\")"
   ]
  },
  {
   "cell_type": "code",
   "execution_count": 4,
   "id": "f33024e6",
   "metadata": {
    "execution": {
     "iopub.execute_input": "2023-07-27T15:24:08.372572Z",
     "iopub.status.busy": "2023-07-27T15:24:08.371359Z",
     "iopub.status.idle": "2023-07-27T15:24:08.402631Z",
     "shell.execute_reply": "2023-07-27T15:24:08.401810Z"
    },
    "papermill": {
     "duration": 0.041246,
     "end_time": "2023-07-27T15:24:08.405579",
     "exception": false,
     "start_time": "2023-07-27T15:24:08.364333",
     "status": "completed"
    },
    "tags": []
   },
   "outputs": [
    {
     "name": "stdout",
     "output_type": "stream",
     "text": [
      "<class 'pandas.core.frame.DataFrame'>\n",
      "RangeIndex: 617 entries, 0 to 616\n",
      "Data columns (total 58 columns):\n",
      " #   Column  Non-Null Count  Dtype  \n",
      "---  ------  --------------  -----  \n",
      " 0   Id      617 non-null    object \n",
      " 1   AB      617 non-null    float64\n",
      " 2   AF      617 non-null    float64\n",
      " 3   AH      617 non-null    float64\n",
      " 4   AM      617 non-null    float64\n",
      " 5   AR      617 non-null    float64\n",
      " 6   AX      617 non-null    float64\n",
      " 7   AY      617 non-null    float64\n",
      " 8   AZ      617 non-null    float64\n",
      " 9   BC      617 non-null    float64\n",
      " 10  BD      617 non-null    float64\n",
      " 11  BN      617 non-null    float64\n",
      " 12  BP      617 non-null    float64\n",
      " 13  BQ      557 non-null    float64\n",
      " 14  BR      617 non-null    float64\n",
      " 15  BZ      617 non-null    float64\n",
      " 16  CB      615 non-null    float64\n",
      " 17  CC      614 non-null    float64\n",
      " 18  CD      617 non-null    float64\n",
      " 19  CF      617 non-null    float64\n",
      " 20  CH      617 non-null    float64\n",
      " 21  CL      617 non-null    float64\n",
      " 22  CR      617 non-null    float64\n",
      " 23  CS      617 non-null    float64\n",
      " 24  CU      617 non-null    float64\n",
      " 25  CW      617 non-null    float64\n",
      " 26  DA      617 non-null    float64\n",
      " 27  DE      617 non-null    float64\n",
      " 28  DF      617 non-null    float64\n",
      " 29  DH      617 non-null    float64\n",
      " 30  DI      617 non-null    float64\n",
      " 31  DL      617 non-null    float64\n",
      " 32  DN      617 non-null    float64\n",
      " 33  DU      616 non-null    float64\n",
      " 34  DV      617 non-null    float64\n",
      " 35  DY      617 non-null    float64\n",
      " 36  EB      617 non-null    float64\n",
      " 37  EE      617 non-null    float64\n",
      " 38  EG      617 non-null    float64\n",
      " 39  EH      617 non-null    float64\n",
      " 40  EJ      617 non-null    object \n",
      " 41  EL      557 non-null    float64\n",
      " 42  EP      617 non-null    float64\n",
      " 43  EU      617 non-null    float64\n",
      " 44  FC      616 non-null    float64\n",
      " 45  FD      617 non-null    float64\n",
      " 46  FE      617 non-null    float64\n",
      " 47  FI      617 non-null    float64\n",
      " 48  FL      616 non-null    float64\n",
      " 49  FR      617 non-null    float64\n",
      " 50  FS      615 non-null    float64\n",
      " 51  GB      617 non-null    float64\n",
      " 52  GE      617 non-null    float64\n",
      " 53  GF      617 non-null    float64\n",
      " 54  GH      617 non-null    float64\n",
      " 55  GI      617 non-null    float64\n",
      " 56  GL      616 non-null    float64\n",
      " 57  Class   617 non-null    int64  \n",
      "dtypes: float64(55), int64(1), object(2)\n",
      "memory usage: 279.7+ KB\n"
     ]
    }
   ],
   "source": [
    "train.info()"
   ]
  },
  {
   "cell_type": "code",
   "execution_count": 5,
   "id": "531297a6",
   "metadata": {
    "execution": {
     "iopub.execute_input": "2023-07-27T15:24:08.421312Z",
     "iopub.status.busy": "2023-07-27T15:24:08.420135Z",
     "iopub.status.idle": "2023-07-27T15:24:08.430489Z",
     "shell.execute_reply": "2023-07-27T15:24:08.429201Z"
    },
    "papermill": {
     "duration": 0.021489,
     "end_time": "2023-07-27T15:24:08.432921",
     "exception": false,
     "start_time": "2023-07-27T15:24:08.411432",
     "status": "completed"
    },
    "tags": []
   },
   "outputs": [
    {
     "name": "stdout",
     "output_type": "stream",
     "text": [
      "Shape of the dataframe: (617, 58)\n",
      "\n",
      "Columns with NaN values: ['BQ', 'CB', 'CC', 'DU', 'EL', 'FC', 'FL', 'FS', 'GL']\n",
      "\n",
      "Numerical columns: ['AB', 'AF', 'AH', 'AM', 'AR', 'AX', 'AY', 'AZ', 'BC', 'BD ', 'BN', 'BP', 'BQ', 'BR', 'BZ', 'CB', 'CC', 'CD ', 'CF', 'CH', 'CL', 'CR', 'CS', 'CU', 'CW ', 'DA', 'DE', 'DF', 'DH', 'DI', 'DL', 'DN', 'DU', 'DV', 'DY', 'EB', 'EE', 'EG', 'EH', 'EL', 'EP', 'EU', 'FC', 'FD ', 'FE', 'FI', 'FL', 'FR', 'FS', 'GB', 'GE', 'GF', 'GH', 'GI', 'GL', 'Class']\n",
      "\n",
      "Categorical columns: ['Id', 'EJ']\n",
      "\n",
      "Class balance: 0    509\n",
      "1    108\n",
      "Name: Class, dtype: int64\n"
     ]
    }
   ],
   "source": [
    "nan_cols = train.columns[train.isnull().any()].tolist()\n",
    "numerical_cols = train.select_dtypes(include=[np.number]).columns.tolist()\n",
    "categorical_cols = train.select_dtypes(include=['object']).columns.tolist()\n",
    "print(f\"Shape of the dataframe: {train.shape}\\n\")\n",
    "print(f\"Columns with NaN values: {nan_cols}\\n\")\n",
    "print(f'Numerical columns: {numerical_cols}\\n')\n",
    "print(f'Categorical columns: {categorical_cols}\\n')\n",
    "print(f\"Class balance: {train['Class'].value_counts()}\")"
   ]
  },
  {
   "cell_type": "code",
   "execution_count": 6,
   "id": "8f2cc22e",
   "metadata": {
    "execution": {
     "iopub.execute_input": "2023-07-27T15:24:08.447619Z",
     "iopub.status.busy": "2023-07-27T15:24:08.447248Z",
     "iopub.status.idle": "2023-07-27T15:24:08.452830Z",
     "shell.execute_reply": "2023-07-27T15:24:08.451703Z"
    },
    "papermill": {
     "duration": 0.016006,
     "end_time": "2023-07-27T15:24:08.455159",
     "exception": false,
     "start_time": "2023-07-27T15:24:08.439153",
     "status": "completed"
    },
    "tags": []
   },
   "outputs": [],
   "source": [
    "def encode_discrete(df, columns):\n",
    "    df_copy = df.copy()\n",
    "    if isinstance(columns, str):\n",
    "        columns = [columns]\n",
    "    for col in columns:\n",
    "        le = LabelEncoder()\n",
    "        df_copy[col] = le.fit_transform(df_copy[col].astype(str))\n",
    "    return df_copy"
   ]
  },
  {
   "cell_type": "code",
   "execution_count": 7,
   "id": "c9725cea",
   "metadata": {
    "execution": {
     "iopub.execute_input": "2023-07-27T15:24:08.469027Z",
     "iopub.status.busy": "2023-07-27T15:24:08.468665Z",
     "iopub.status.idle": "2023-07-27T15:24:08.473611Z",
     "shell.execute_reply": "2023-07-27T15:24:08.472560Z"
    },
    "papermill": {
     "duration": 0.014604,
     "end_time": "2023-07-27T15:24:08.475779",
     "exception": false,
     "start_time": "2023-07-27T15:24:08.461175",
     "status": "completed"
    },
    "tags": []
   },
   "outputs": [],
   "source": [
    "def ffil(df):\n",
    "    df_copy = df.copy()\n",
    "    df_copy = df_copy.fillna(method = 'ffill')\n",
    "    return df_copy"
   ]
  },
  {
   "cell_type": "code",
   "execution_count": 8,
   "id": "6bf66f98",
   "metadata": {
    "execution": {
     "iopub.execute_input": "2023-07-27T15:24:08.489612Z",
     "iopub.status.busy": "2023-07-27T15:24:08.488759Z",
     "iopub.status.idle": "2023-07-27T15:24:08.494058Z",
     "shell.execute_reply": "2023-07-27T15:24:08.493352Z"
    },
    "papermill": {
     "duration": 0.014383,
     "end_time": "2023-07-27T15:24:08.496076",
     "exception": false,
     "start_time": "2023-07-27T15:24:08.481693",
     "status": "completed"
    },
    "tags": []
   },
   "outputs": [],
   "source": [
    "def move_class_label(df):\n",
    "    df_copy = df.copy()\n",
    "    if 'Class' in df_copy.columns:\n",
    "        class_col = df_copy.pop('Class')\n",
    "        df_copy['Class'] = class_col\n",
    "    \n",
    "    return df_copy"
   ]
  },
  {
   "cell_type": "code",
   "execution_count": 9,
   "id": "60f41ec4",
   "metadata": {
    "execution": {
     "iopub.execute_input": "2023-07-27T15:24:08.509796Z",
     "iopub.status.busy": "2023-07-27T15:24:08.509163Z",
     "iopub.status.idle": "2023-07-27T15:24:08.523624Z",
     "shell.execute_reply": "2023-07-27T15:24:08.522610Z"
    },
    "papermill": {
     "duration": 0.023993,
     "end_time": "2023-07-27T15:24:08.525949",
     "exception": false,
     "start_time": "2023-07-27T15:24:08.501956",
     "status": "completed"
    },
    "tags": []
   },
   "outputs": [],
   "source": [
    "def preprocess_datasets(df):\n",
    "    df = encode_discrete(df, \"EJ\")\n",
    "    df = ffil(df)\n",
    "    df = move_class_label(df)\n",
    "    return df\n",
    "\n",
    "train = preprocess_datasets(train)\n",
    "test = preprocess_datasets(test)"
   ]
  },
  {
   "cell_type": "code",
   "execution_count": 10,
   "id": "43027d09",
   "metadata": {
    "execution": {
     "iopub.execute_input": "2023-07-27T15:24:08.539868Z",
     "iopub.status.busy": "2023-07-27T15:24:08.539272Z",
     "iopub.status.idle": "2023-07-27T15:24:08.546770Z",
     "shell.execute_reply": "2023-07-27T15:24:08.545927Z"
    },
    "papermill": {
     "duration": 0.017221,
     "end_time": "2023-07-27T15:24:08.549096",
     "exception": false,
     "start_time": "2023-07-27T15:24:08.531875",
     "status": "completed"
    },
    "tags": []
   },
   "outputs": [],
   "source": [
    "X = train.iloc[:, 1:-1]\n",
    "y = train.iloc[:, -1]\n",
    "\n",
    "X_train, X_valid, y_train, y_valid = train_test_split(X, y, test_size = 0.2, random_state = 42)"
   ]
  },
  {
   "cell_type": "code",
   "execution_count": 11,
   "id": "cc8456a2",
   "metadata": {
    "execution": {
     "iopub.execute_input": "2023-07-27T15:24:08.564144Z",
     "iopub.status.busy": "2023-07-27T15:24:08.563529Z",
     "iopub.status.idle": "2023-07-27T15:24:08.575638Z",
     "shell.execute_reply": "2023-07-27T15:24:08.574430Z"
    },
    "papermill": {
     "duration": 0.022347,
     "end_time": "2023-07-27T15:24:08.578293",
     "exception": false,
     "start_time": "2023-07-27T15:24:08.555946",
     "status": "completed"
    },
    "tags": []
   },
   "outputs": [],
   "source": [
    "scaler = StandardScaler()\n",
    "X_train = scaler.fit_transform(X_train)\n",
    "X_valid = scaler.transform(X_valid)"
   ]
  },
  {
   "cell_type": "code",
   "execution_count": 12,
   "id": "96d890d6",
   "metadata": {
    "execution": {
     "iopub.execute_input": "2023-07-27T15:24:08.591896Z",
     "iopub.status.busy": "2023-07-27T15:24:08.591517Z",
     "iopub.status.idle": "2023-07-27T15:24:31.965907Z",
     "shell.execute_reply": "2023-07-27T15:24:31.964404Z"
    },
    "papermill": {
     "duration": 23.384678,
     "end_time": "2023-07-27T15:24:31.968806",
     "exception": false,
     "start_time": "2023-07-27T15:24:08.584128",
     "status": "completed"
    },
    "tags": []
   },
   "outputs": [
    {
     "name": "stdout",
     "output_type": "stream",
     "text": [
      "Fitting 5 folds for each of 36 candidates, totalling 180 fits\n"
     ]
    },
    {
     "name": "stderr",
     "output_type": "stream",
     "text": [
      "/opt/conda/lib/python3.10/site-packages/scipy/__init__.py:146: UserWarning: A NumPy version >=1.16.5 and <1.23.0 is required for this version of SciPy (detected version 1.23.5\n",
      "  warnings.warn(f\"A NumPy version >={np_minversion} and <{np_maxversion}\"\n",
      "/opt/conda/lib/python3.10/site-packages/scipy/__init__.py:146: UserWarning: A NumPy version >=1.16.5 and <1.23.0 is required for this version of SciPy (detected version 1.23.5\n",
      "  warnings.warn(f\"A NumPy version >={np_minversion} and <{np_maxversion}\"\n",
      "/opt/conda/lib/python3.10/site-packages/scipy/__init__.py:146: UserWarning: A NumPy version >=1.16.5 and <1.23.0 is required for this version of SciPy (detected version 1.23.5\n",
      "  warnings.warn(f\"A NumPy version >={np_minversion} and <{np_maxversion}\"\n",
      "/opt/conda/lib/python3.10/site-packages/scipy/__init__.py:146: UserWarning: A NumPy version >=1.16.5 and <1.23.0 is required for this version of SciPy (detected version 1.23.5\n",
      "  warnings.warn(f\"A NumPy version >={np_minversion} and <{np_maxversion}\"\n"
     ]
    },
    {
     "name": "stdout",
     "output_type": "stream",
     "text": [
      "Best parameters: {'learning_rate': 0.2, 'max_depth': 6, 'n_estimators': 100}\n",
      "Best accuracy score: 0.8110341899913127\n"
     ]
    }
   ],
   "source": [
    "def train_xgb(X, y):\n",
    "    param_grid = {\n",
    "        'n_estimators': [50, 100, 200],\n",
    "        'max_depth': [2, 4, 6, 8],\n",
    "        'learning_rate': [0.01, 0.1, 0.2],\n",
    "    }\n",
    "\n",
    "    xgb = XGBClassifier(eval_metric='logloss')\n",
    "\n",
    "    grid_search = GridSearchCV(\n",
    "        xgb,\n",
    "        param_grid,\n",
    "        cv=KFold(n_splits=5, shuffle=True, random_state=42),  # 5-fold cross-validation\n",
    "        scoring=make_scorer(balanced_accuracy_score),  # Use balanced accuracy as the scoring metric\n",
    "        verbose=1,  # If you want to see what Grid Search is doing, set verbose=2\n",
    "        n_jobs=-1,  # Use all available processors\n",
    "    )\n",
    "    grid_search.fit(X, y) \n",
    "    print(f\"Best parameters: {grid_search.best_params_}\")\n",
    "    print(f\"Best accuracy score: {grid_search.best_score_}\")    \n",
    "    return grid_search\n",
    "\n",
    "grid_search = train_xgb(X_train, y_train)"
   ]
  },
  {
   "cell_type": "code",
   "execution_count": 13,
   "id": "4cf3c60b",
   "metadata": {
    "execution": {
     "iopub.execute_input": "2023-07-27T15:24:31.983985Z",
     "iopub.status.busy": "2023-07-27T15:24:31.983208Z",
     "iopub.status.idle": "2023-07-27T15:24:31.994601Z",
     "shell.execute_reply": "2023-07-27T15:24:31.993373Z"
    },
    "papermill": {
     "duration": 0.023193,
     "end_time": "2023-07-27T15:24:31.998170",
     "exception": false,
     "start_time": "2023-07-27T15:24:31.974977",
     "status": "completed"
    },
    "tags": []
   },
   "outputs": [],
   "source": [
    "model = grid_search.best_estimator_\n",
    "y_valid_predictions = model.predict(X_valid)"
   ]
  },
  {
   "cell_type": "code",
   "execution_count": 14,
   "id": "ff150925",
   "metadata": {
    "execution": {
     "iopub.execute_input": "2023-07-27T15:24:32.011890Z",
     "iopub.status.busy": "2023-07-27T15:24:32.011528Z",
     "iopub.status.idle": "2023-07-27T15:24:32.024801Z",
     "shell.execute_reply": "2023-07-27T15:24:32.023875Z"
    },
    "papermill": {
     "duration": 0.022772,
     "end_time": "2023-07-27T15:24:32.027054",
     "exception": false,
     "start_time": "2023-07-27T15:24:32.004282",
     "status": "completed"
    },
    "tags": []
   },
   "outputs": [
    {
     "name": "stdout",
     "output_type": "stream",
     "text": [
      "LogLoss:  0.9354838709677419\n",
      "Accuracy:  0.9354838709677419\n"
     ]
    }
   ],
   "source": [
    "def evaluate_model(model, y_actual, y_predicted):\n",
    "    print('LogLoss: ', model.score(y_actual, y_predicted))\n",
    "    print('Accuracy: ', accuracy_score(y_actual, y_predicted))\n",
    "    \n",
    "evaluate_model(model, y_valid, y_valid_predictions)"
   ]
  },
  {
   "cell_type": "code",
   "execution_count": 15,
   "id": "880d50fc",
   "metadata": {
    "execution": {
     "iopub.execute_input": "2023-07-27T15:24:32.041808Z",
     "iopub.status.busy": "2023-07-27T15:24:32.041141Z",
     "iopub.status.idle": "2023-07-27T15:24:32.062189Z",
     "shell.execute_reply": "2023-07-27T15:24:32.061020Z"
    },
    "papermill": {
     "duration": 0.031408,
     "end_time": "2023-07-27T15:24:32.064717",
     "exception": false,
     "start_time": "2023-07-27T15:24:32.033309",
     "status": "completed"
    },
    "tags": []
   },
   "outputs": [
    {
     "name": "stdout",
     "output_type": "stream",
     "text": [
      "Classification Report:\n",
      "              precision    recall  f1-score   support\n",
      "\n",
      "           0       0.93      0.99      0.96       101\n",
      "           1       0.94      0.70      0.80        23\n",
      "\n",
      "    accuracy                           0.94       124\n",
      "   macro avg       0.94      0.84      0.88       124\n",
      "weighted avg       0.94      0.94      0.93       124\n",
      "\n",
      "Confusion Matrix:\n",
      "[[100   1]\n",
      " [  7  16]]\n"
     ]
    }
   ],
   "source": [
    "y_pred = model.predict(X_valid)\n",
    "\n",
    "def get_classification_report(y_actual, y_predicted):\n",
    "    print('Classification Report:')\n",
    "    print(classification_report(y_actual, y_predicted))\n",
    "    print('Confusion Matrix:')\n",
    "    print(confusion_matrix(y_actual, y_predicted))\n",
    "    \n",
    "get_classification_report(y_actual=y_valid, y_predicted=y_pred)"
   ]
  },
  {
   "cell_type": "code",
   "execution_count": 16,
   "id": "477f5e60",
   "metadata": {
    "execution": {
     "iopub.execute_input": "2023-07-27T15:24:32.079261Z",
     "iopub.status.busy": "2023-07-27T15:24:32.078629Z",
     "iopub.status.idle": "2023-07-27T15:24:32.399393Z",
     "shell.execute_reply": "2023-07-27T15:24:32.398473Z"
    },
    "papermill": {
     "duration": 0.330628,
     "end_time": "2023-07-27T15:24:32.401630",
     "exception": false,
     "start_time": "2023-07-27T15:24:32.071002",
     "status": "completed"
    },
    "tags": []
   },
   "outputs": [
    {
     "data": {
      "text/plain": [
       "Text(50.722222222222214, 0.5, 'Truth')"
      ]
     },
     "execution_count": 16,
     "metadata": {},
     "output_type": "execute_result"
    },
    {
     "data": {
      "image/png": "[encoded data removed]",
      "text/plain": [
       "<Figure size 640x480 with 2 Axes>"
      ]
     },
     "metadata": {},
     "output_type": "display_data"
    }
   ],
   "source": [
    "cm = confusion_matrix(y_valid, y_pred)\n",
    "class_names = ['Normal', 'Diseased']\n",
    "ax = sns.heatmap(cm, annot = True, fmt = '.0f', cmap = \"Blues\", annot_kws = {\"size\": 16},\\\n",
    "           xticklabels = class_names, yticklabels = class_names)\n",
    "ax.set_xlabel(\"Prediction\")\n",
    "ax.set_ylabel(\"Truth\")"
   ]
  },
  {
   "cell_type": "code",
   "execution_count": 17,
   "id": "8e1b3a57",
   "metadata": {
    "execution": {
     "iopub.execute_input": "2023-07-27T15:24:32.417254Z",
     "iopub.status.busy": "2023-07-27T15:24:32.416493Z",
     "iopub.status.idle": "2023-07-27T15:24:59.597550Z",
     "shell.execute_reply": "2023-07-27T15:24:59.596508Z"
    },
    "papermill": {
     "duration": 27.191357,
     "end_time": "2023-07-27T15:24:59.599924",
     "exception": false,
     "start_time": "2023-07-27T15:24:32.408567",
     "status": "completed"
    },
    "tags": []
   },
   "outputs": [
    {
     "name": "stdout",
     "output_type": "stream",
     "text": [
      "Fitting 5 folds for each of 36 candidates, totalling 180 fits\n",
      "Best parameters: {'learning_rate': 0.1, 'max_depth': 8, 'n_estimators': 50}\n",
      "Best accuracy score: 0.858039092613453\n",
      "Results on full training data:\n",
      "LogLoss:  0.17504051863857376\n",
      "Accuracy:  1.0\n"
     ]
    }
   ],
   "source": [
    "X_full = scaler.fit_transform(X)\n",
    "grid_search_for_submission = train_xgb(X_full, y)\n",
    "model = grid_search_for_submission.best_estimator_\n",
    "y_full_predictions = model.predict(X_full)\n",
    "\n",
    "print(\"Results on full training data:\")\n",
    "evaluate_model(model, y, y_full_predictions)"
   ]
  },
  {
   "cell_type": "code",
   "execution_count": 18,
   "id": "ebe8e7ba",
   "metadata": {
    "execution": {
     "iopub.execute_input": "2023-07-27T15:24:59.616093Z",
     "iopub.status.busy": "2023-07-27T15:24:59.615451Z",
     "iopub.status.idle": "2023-07-27T15:24:59.621177Z",
     "shell.execute_reply": "2023-07-27T15:24:59.620095Z"
    },
    "papermill": {
     "duration": 0.016592,
     "end_time": "2023-07-27T15:24:59.623912",
     "exception": false,
     "start_time": "2023-07-27T15:24:59.607320",
     "status": "completed"
    },
    "tags": []
   },
   "outputs": [],
   "source": [
    "X_submission = test.iloc[:, 1:]"
   ]
  },
  {
   "cell_type": "code",
   "execution_count": 19,
   "id": "d1cc18e6",
   "metadata": {
    "execution": {
     "iopub.execute_input": "2023-07-27T15:24:59.639502Z",
     "iopub.status.busy": "2023-07-27T15:24:59.639112Z",
     "iopub.status.idle": "2023-07-27T15:24:59.653400Z",
     "shell.execute_reply": "2023-07-27T15:24:59.652502Z"
    },
    "papermill": {
     "duration": 0.024828,
     "end_time": "2023-07-27T15:24:59.655739",
     "exception": false,
     "start_time": "2023-07-27T15:24:59.630911",
     "status": "completed"
    },
    "tags": []
   },
   "outputs": [
    {
     "data": {
      "text/plain": [
       "array([[0.7650116 , 0.23498839],\n",
       "       [0.7650116 , 0.23498839],\n",
       "       [0.7650116 , 0.23498839],\n",
       "       [0.7650116 , 0.23498839],\n",
       "       [0.7650116 , 0.23498839]], dtype=float32)"
      ]
     },
     "execution_count": 19,
     "metadata": {},
     "output_type": "execute_result"
    }
   ],
   "source": [
    "X_submission = scaler.transform(X_submission)\n",
    "y_submission_pred = model.predict_proba(X_submission)\n",
    "\n",
    "y_submission_pred"
   ]
  },
  {
   "cell_type": "code",
   "execution_count": 20,
   "id": "080b9a65",
   "metadata": {
    "execution": {
     "iopub.execute_input": "2023-07-27T15:24:59.671279Z",
     "iopub.status.busy": "2023-07-27T15:24:59.670890Z",
     "iopub.status.idle": "2023-07-27T15:24:59.679245Z",
     "shell.execute_reply": "2023-07-27T15:24:59.678446Z"
    },
    "papermill": {
     "duration": 0.018746,
     "end_time": "2023-07-27T15:24:59.681447",
     "exception": false,
     "start_time": "2023-07-27T15:24:59.662701",
     "status": "completed"
    },
    "tags": []
   },
   "outputs": [],
   "source": [
    "submission = pd.DataFrame(test[\"Id\"], columns = [\"Id\"])\n",
    "y_pred_df = pd.DataFrame(y_submission_pred, columns = ['0', '1'])\n",
    "submission[\"class_0\"] = y_pred_df['0']\n",
    "submission[\"class_1\"] = y_pred_df['1']"
   ]
  },
  {
   "cell_type": "code",
   "execution_count": 21,
   "id": "146e4d53",
   "metadata": {
    "execution": {
     "iopub.execute_input": "2023-07-27T15:24:59.697552Z",
     "iopub.status.busy": "2023-07-27T15:24:59.696549Z",
     "iopub.status.idle": "2023-07-27T15:24:59.711208Z",
     "shell.execute_reply": "2023-07-27T15:24:59.710110Z"
    },
    "papermill": {
     "duration": 0.0251,
     "end_time": "2023-07-27T15:24:59.713487",
     "exception": false,
     "start_time": "2023-07-27T15:24:59.688387",
     "status": "completed"
    },
    "tags": []
   },
   "outputs": [
    {
     "data": {
      "text/html": [
       "<div>\n",
       "<style scoped>\n",
       "    .dataframe tbody tr th:only-of-type {\n",
       "        vertical-align: middle;\n",
       "    }\n",
       "\n",
       "    .dataframe tbody tr th {\n",
       "        vertical-align: top;\n",
       "    }\n",
       "\n",
       "    .dataframe thead th {\n",
       "        text-align: right;\n",
       "    }\n",
       "</style>\n",
       "<table border=\"1\" class=\"dataframe\">\n",
       "  <thead>\n",
       "    <tr style=\"text-align: right;\">\n",
       "      <th></th>\n",
       "      <th>Id</th>\n",
       "      <th>class_0</th>\n",
       "      <th>class_1</th>\n",
       "    </tr>\n",
       "  </thead>\n",
       "  <tbody>\n",
       "    <tr>\n",
       "      <th>0</th>\n",
       "      <td>00eed32682bb</td>\n",
       "      <td>0.765012</td>\n",
       "      <td>0.234988</td>\n",
       "    </tr>\n",
       "    <tr>\n",
       "      <th>1</th>\n",
       "      <td>010ebe33f668</td>\n",
       "      <td>0.765012</td>\n",
       "      <td>0.234988</td>\n",
       "    </tr>\n",
       "    <tr>\n",
       "      <th>2</th>\n",
       "      <td>02fa521e1838</td>\n",
       "      <td>0.765012</td>\n",
       "      <td>0.234988</td>\n",
       "    </tr>\n",
       "    <tr>\n",
       "      <th>3</th>\n",
       "      <td>040e15f562a2</td>\n",
       "      <td>0.765012</td>\n",
       "      <td>0.234988</td>\n",
       "    </tr>\n",
       "    <tr>\n",
       "      <th>4</th>\n",
       "      <td>046e85c7cc7f</td>\n",
       "      <td>0.765012</td>\n",
       "      <td>0.234988</td>\n",
       "    </tr>\n",
       "  </tbody>\n",
       "</table>\n",
       "</div>"
      ],
      "text/plain": [
       "             Id   class_0   class_1\n",
       "0  00eed32682bb  0.765012  0.234988\n",
       "1  010ebe33f668  0.765012  0.234988\n",
       "2  02fa521e1838  0.765012  0.234988\n",
       "3  040e15f562a2  0.765012  0.234988\n",
       "4  046e85c7cc7f  0.765012  0.234988"
      ]
     },
     "execution_count": 21,
     "metadata": {},
     "output_type": "execute_result"
    }
   ],
   "source": [
    "submission"
   ]
  },
  {
   "cell_type": "code",
   "execution_count": 22,
   "id": "e1666e47",
   "metadata": {
    "execution": {
     "iopub.execute_input": "2023-07-27T15:24:59.729455Z",
     "iopub.status.busy": "2023-07-27T15:24:59.728660Z",
     "iopub.status.idle": "2023-07-27T15:24:59.736956Z",
     "shell.execute_reply": "2023-07-27T15:24:59.735893Z"
    },
    "papermill": {
     "duration": 0.019006,
     "end_time": "2023-07-27T15:24:59.739504",
     "exception": false,
     "start_time": "2023-07-27T15:24:59.720498",
     "status": "completed"
    },
    "tags": []
   },
   "outputs": [],
   "source": [
    "submission.to_csv('submission.csv',index = False)"
   ]
  }
 ],
 "metadata": {
  "kernelspec": {
   "display_name": "Python 3",
   "language": "python",
   "name": "python3"
  },
  "language_info": {
   "codemirror_mode": {
    "name": "ipython",
    "version": 3
   },
   "file_extension": ".py",
   "mimetype": "text/x-python",
   "name": "python",
   "nbconvert_exporter": "python",
   "pygments_lexer": "ipython3",
   "version": "3.10.12"
  },
  "papermill": {
   "default_parameters": {},
   "duration": 65.777315,
   "end_time": "2023-07-27T15:25:02.369277",
   "environment_variables": {},
   "exception": null,
   "input_path": "__notebook__.ipynb",
   "output_path": "__notebook__.ipynb",
   "parameters": {},
   "start_time": "2023-07-27T15:23:56.591962",
   "version": "2.4.0"
  }
 },
 "nbformat": 4,
 "nbformat_minor": 5
}
