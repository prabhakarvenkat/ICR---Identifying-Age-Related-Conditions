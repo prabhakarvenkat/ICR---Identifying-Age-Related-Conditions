{
 "cells": [
  {
   "cell_type": "code",
   "execution_count": 1,
   "id": "7ec041c8",
   "metadata": {
    "_cell_guid": "b1076dfc-b9ad-4769-8c92-a6c4dae69d19",
    "_uuid": "8f2839f25d086af736a60e9eeb907d3b93b6e0e5",
    "execution": {
     "iopub.execute_input": "2023-07-24T16:44:11.827497Z",
     "iopub.status.busy": "2023-07-24T16:44:11.827091Z",
     "iopub.status.idle": "2023-07-24T16:44:11.842480Z",
     "shell.execute_reply": "2023-07-24T16:44:11.841069Z"
    },
    "papermill": {
     "duration": 0.038107,
     "end_time": "2023-07-24T16:44:11.844975",
     "exception": false,
     "start_time": "2023-07-24T16:44:11.806868",
     "status": "completed"
    },
    "tags": []
   },
   "outputs": [
    {
     "name": "stdout",
     "output_type": "stream",
     "text": [
      "/kaggle/input/icr-identify-age-related-conditions/sample_submission.csv\n",
      "/kaggle/input/icr-identify-age-related-conditions/greeks.csv\n",
      "/kaggle/input/icr-identify-age-related-conditions/train.csv\n",
      "/kaggle/input/icr-identify-age-related-conditions/test.csv\n"
     ]
    }
   ],
   "source": [
    "# This Python 3 environment comes with many helpful analytics libraries installed\n",
    "# It is defined by the kaggle/python Docker image: https://github.com/kaggle/docker-python\n",
    "# For example, here's several helpful packages to load\n",
    "\n",
    "import numpy as np # linear algebra\n",
    "import pandas as pd # data processing, CSV file I/O (e.g. pd.read_csv)\n",
    "\n",
    "# Input data files are available in the read-only \"../input/\" directory\n",
    "# For example, running this (by clicking run or pressing Shift+Enter) will list all files under the input directory\n",
    "\n",
    "import os\n",
    "for dirname, _, filenames in os.walk('/kaggle/input'):\n",
    "    for filename in filenames:\n",
    "        print(os.path.join(dirname, filename))\n",
    "\n",
    "# You can write up to 20GB to the current directory (/kaggle/working/) that gets preserved as output when you create a version using \"Save & Run All\" \n",
    "# You can also write temporary files to /kaggle/temp/, but they won't be saved outside of the current session"
   ]
  },
  {
   "cell_type": "code",
   "execution_count": 2,
   "id": "bf665cc3",
   "metadata": {
    "execution": {
     "iopub.execute_input": "2023-07-24T16:44:11.884566Z",
     "iopub.status.busy": "2023-07-24T16:44:11.883586Z",
     "iopub.status.idle": "2023-07-24T16:44:14.200337Z",
     "shell.execute_reply": "2023-07-24T16:44:14.199061Z"
    },
    "papermill": {
     "duration": 2.340334,
     "end_time": "2023-07-24T16:44:14.203977",
     "exception": false,
     "start_time": "2023-07-24T16:44:11.863643",
     "status": "completed"
    },
    "tags": []
   },
   "outputs": [
    {
     "name": "stderr",
     "output_type": "stream",
     "text": [
      "/opt/conda/lib/python3.10/site-packages/scipy/__init__.py:146: UserWarning: A NumPy version >=1.16.5 and <1.23.0 is required for this version of SciPy (detected version 1.23.5\n",
      "  warnings.warn(f\"A NumPy version >={np_minversion} and <{np_maxversion}\"\n"
     ]
    }
   ],
   "source": [
    "from fastai.imports import *\n",
    "import os\n",
    "import pandas as pd\n",
    "import numpy as np\n",
    "\n",
    "pd.set_option('display.max_columns', None)\n",
    "pd.set_option('display.max_rows', None)\n",
    "\n",
    "%matplotlib inline\n",
    "import seaborn as sns\n",
    "from numpy import random\n",
    "from sklearn.model_selection import train_test_split\n",
    "from sklearn.metrics import mean_absolute_error\n",
    "from sklearn.tree import DecisionTreeClassifier, export_graphviz\n",
    "import graphviz\n",
    "from sklearn.ensemble import RandomForestClassifier"
   ]
  },
  {
   "cell_type": "code",
   "execution_count": 3,
   "id": "c3b90dfc",
   "metadata": {
    "execution": {
     "iopub.execute_input": "2023-07-24T16:44:14.245013Z",
     "iopub.status.busy": "2023-07-24T16:44:14.243722Z",
     "iopub.status.idle": "2023-07-24T16:44:14.311313Z",
     "shell.execute_reply": "2023-07-24T16:44:14.309839Z"
    },
    "papermill": {
     "duration": 0.091846,
     "end_time": "2023-07-24T16:44:14.315134",
     "exception": false,
     "start_time": "2023-07-24T16:44:14.223288",
     "status": "completed"
    },
    "tags": []
   },
   "outputs": [],
   "source": [
    "train_df = pd.read_csv(\"/kaggle/input/icr-identify-age-related-conditions/train.csv\")\n",
    "test_df = pd.read_csv(\"/kaggle/input/icr-identify-age-related-conditions/test.csv\")\n",
    "greeks_df = pd.read_csv(\"/kaggle/input/icr-identify-age-related-conditions/greeks.csv\")\n",
    "sample_submission_df = pd.read_csv(\"/kaggle/input/icr-identify-age-related-conditions/sample_submission.csv\")"
   ]
  },
  {
   "cell_type": "code",
   "execution_count": 4,
   "id": "ee096853",
   "metadata": {
    "execution": {
     "iopub.execute_input": "2023-07-24T16:44:14.353515Z",
     "iopub.status.busy": "2023-07-24T16:44:14.353113Z",
     "iopub.status.idle": "2023-07-24T16:44:14.424332Z",
     "shell.execute_reply": "2023-07-24T16:44:14.423047Z"
    },
    "papermill": {
     "duration": 0.09367,
     "end_time": "2023-07-24T16:44:14.427193",
     "exception": false,
     "start_time": "2023-07-24T16:44:14.333523",
     "status": "completed"
    },
    "tags": []
   },
   "outputs": [
    {
     "data": {
      "text/html": [
       "<div>\n",
       "<style scoped>\n",
       "    .dataframe tbody tr th:only-of-type {\n",
       "        vertical-align: middle;\n",
       "    }\n",
       "\n",
       "    .dataframe tbody tr th {\n",
       "        vertical-align: top;\n",
       "    }\n",
       "\n",
       "    .dataframe thead th {\n",
       "        text-align: right;\n",
       "    }\n",
       "</style>\n",
       "<table border=\"1\" class=\"dataframe\">\n",
       "  <thead>\n",
       "    <tr style=\"text-align: right;\">\n",
       "      <th></th>\n",
       "      <th>Id</th>\n",
       "      <th>AB</th>\n",
       "      <th>AF</th>\n",
       "      <th>AH</th>\n",
       "      <th>AM</th>\n",
       "      <th>AR</th>\n",
       "      <th>AX</th>\n",
       "      <th>AY</th>\n",
       "      <th>AZ</th>\n",
       "      <th>BC</th>\n",
       "      <th>BD</th>\n",
       "      <th>BN</th>\n",
       "      <th>BP</th>\n",
       "      <th>BQ</th>\n",
       "      <th>BR</th>\n",
       "      <th>BZ</th>\n",
       "      <th>CB</th>\n",
       "      <th>CC</th>\n",
       "      <th>CD</th>\n",
       "      <th>CF</th>\n",
       "      <th>CH</th>\n",
       "      <th>CL</th>\n",
       "      <th>CR</th>\n",
       "      <th>CS</th>\n",
       "      <th>CU</th>\n",
       "      <th>CW</th>\n",
       "      <th>DA</th>\n",
       "      <th>DE</th>\n",
       "      <th>DF</th>\n",
       "      <th>DH</th>\n",
       "      <th>DI</th>\n",
       "      <th>DL</th>\n",
       "      <th>DN</th>\n",
       "      <th>DU</th>\n",
       "      <th>DV</th>\n",
       "      <th>DY</th>\n",
       "      <th>EB</th>\n",
       "      <th>EE</th>\n",
       "      <th>EG</th>\n",
       "      <th>EH</th>\n",
       "      <th>EJ</th>\n",
       "      <th>EL</th>\n",
       "      <th>EP</th>\n",
       "      <th>EU</th>\n",
       "      <th>FC</th>\n",
       "      <th>FD</th>\n",
       "      <th>FE</th>\n",
       "      <th>FI</th>\n",
       "      <th>FL</th>\n",
       "      <th>FR</th>\n",
       "      <th>FS</th>\n",
       "      <th>GB</th>\n",
       "      <th>GE</th>\n",
       "      <th>GF</th>\n",
       "      <th>GH</th>\n",
       "      <th>GI</th>\n",
       "      <th>GL</th>\n",
       "      <th>Class</th>\n",
       "    </tr>\n",
       "  </thead>\n",
       "  <tbody>\n",
       "    <tr>\n",
       "      <th>0</th>\n",
       "      <td>000ff2bfdfe9</td>\n",
       "      <td>0.209377</td>\n",
       "      <td>3109.03329</td>\n",
       "      <td>85.200147</td>\n",
       "      <td>22.394407</td>\n",
       "      <td>8.138688</td>\n",
       "      <td>0.699861</td>\n",
       "      <td>0.025578</td>\n",
       "      <td>9.812214</td>\n",
       "      <td>5.555634</td>\n",
       "      <td>4126.58731</td>\n",
       "      <td>22.5984</td>\n",
       "      <td>175.638726</td>\n",
       "      <td>152.707705</td>\n",
       "      <td>823.928241</td>\n",
       "      <td>257.432377</td>\n",
       "      <td>47.223358</td>\n",
       "      <td>0.563481</td>\n",
       "      <td>23.387600</td>\n",
       "      <td>4.851915</td>\n",
       "      <td>0.023482</td>\n",
       "      <td>1.050225</td>\n",
       "      <td>0.069225</td>\n",
       "      <td>13.784111</td>\n",
       "      <td>1.302012</td>\n",
       "      <td>36.205956</td>\n",
       "      <td>69.08340</td>\n",
       "      <td>295.570575</td>\n",
       "      <td>0.23868</td>\n",
       "      <td>0.284232</td>\n",
       "      <td>89.245560</td>\n",
       "      <td>84.31664</td>\n",
       "      <td>29.657104</td>\n",
       "      <td>5.310690</td>\n",
       "      <td>1.74307</td>\n",
       "      <td>23.187704</td>\n",
       "      <td>7.294176</td>\n",
       "      <td>1.987283</td>\n",
       "      <td>1433.166750</td>\n",
       "      <td>0.949104</td>\n",
       "      <td>B</td>\n",
       "      <td>30.879420</td>\n",
       "      <td>78.526968</td>\n",
       "      <td>3.828384</td>\n",
       "      <td>13.394640</td>\n",
       "      <td>10.265073</td>\n",
       "      <td>9028.291921</td>\n",
       "      <td>3.583450</td>\n",
       "      <td>7.298162</td>\n",
       "      <td>1.73855</td>\n",
       "      <td>0.094822</td>\n",
       "      <td>11.339138</td>\n",
       "      <td>72.611063</td>\n",
       "      <td>2003.810319</td>\n",
       "      <td>22.136229</td>\n",
       "      <td>69.834944</td>\n",
       "      <td>0.120343</td>\n",
       "      <td>1</td>\n",
       "    </tr>\n",
       "    <tr>\n",
       "      <th>1</th>\n",
       "      <td>007255e47698</td>\n",
       "      <td>0.145282</td>\n",
       "      <td>978.76416</td>\n",
       "      <td>85.200147</td>\n",
       "      <td>36.968889</td>\n",
       "      <td>8.138688</td>\n",
       "      <td>3.632190</td>\n",
       "      <td>0.025578</td>\n",
       "      <td>13.517790</td>\n",
       "      <td>1.229900</td>\n",
       "      <td>5496.92824</td>\n",
       "      <td>19.4205</td>\n",
       "      <td>155.868030</td>\n",
       "      <td>14.754720</td>\n",
       "      <td>51.216883</td>\n",
       "      <td>257.432377</td>\n",
       "      <td>30.284345</td>\n",
       "      <td>0.484710</td>\n",
       "      <td>50.628208</td>\n",
       "      <td>6.085041</td>\n",
       "      <td>0.031442</td>\n",
       "      <td>1.113875</td>\n",
       "      <td>1.117800</td>\n",
       "      <td>28.310953</td>\n",
       "      <td>1.357182</td>\n",
       "      <td>37.476568</td>\n",
       "      <td>70.79836</td>\n",
       "      <td>178.553100</td>\n",
       "      <td>0.23868</td>\n",
       "      <td>0.363489</td>\n",
       "      <td>110.581815</td>\n",
       "      <td>75.74548</td>\n",
       "      <td>37.532000</td>\n",
       "      <td>0.005518</td>\n",
       "      <td>1.74307</td>\n",
       "      <td>17.222328</td>\n",
       "      <td>4.926396</td>\n",
       "      <td>0.858603</td>\n",
       "      <td>1111.287150</td>\n",
       "      <td>0.003042</td>\n",
       "      <td>A</td>\n",
       "      <td>109.125159</td>\n",
       "      <td>95.415086</td>\n",
       "      <td>52.260480</td>\n",
       "      <td>17.175984</td>\n",
       "      <td>0.296850</td>\n",
       "      <td>6785.003474</td>\n",
       "      <td>10.358927</td>\n",
       "      <td>0.173229</td>\n",
       "      <td>0.49706</td>\n",
       "      <td>0.568932</td>\n",
       "      <td>9.292698</td>\n",
       "      <td>72.611063</td>\n",
       "      <td>27981.562750</td>\n",
       "      <td>29.135430</td>\n",
       "      <td>32.131996</td>\n",
       "      <td>21.978000</td>\n",
       "      <td>0</td>\n",
       "    </tr>\n",
       "    <tr>\n",
       "      <th>2</th>\n",
       "      <td>013f2bd269f5</td>\n",
       "      <td>0.470030</td>\n",
       "      <td>2635.10654</td>\n",
       "      <td>85.200147</td>\n",
       "      <td>32.360553</td>\n",
       "      <td>8.138688</td>\n",
       "      <td>6.732840</td>\n",
       "      <td>0.025578</td>\n",
       "      <td>12.824570</td>\n",
       "      <td>1.229900</td>\n",
       "      <td>5135.78024</td>\n",
       "      <td>26.4825</td>\n",
       "      <td>128.988531</td>\n",
       "      <td>219.320160</td>\n",
       "      <td>482.141594</td>\n",
       "      <td>257.432377</td>\n",
       "      <td>32.563713</td>\n",
       "      <td>0.495852</td>\n",
       "      <td>85.955376</td>\n",
       "      <td>5.376488</td>\n",
       "      <td>0.036218</td>\n",
       "      <td>1.050225</td>\n",
       "      <td>0.700350</td>\n",
       "      <td>39.364743</td>\n",
       "      <td>1.009611</td>\n",
       "      <td>21.459644</td>\n",
       "      <td>70.81970</td>\n",
       "      <td>321.426625</td>\n",
       "      <td>0.23868</td>\n",
       "      <td>0.210441</td>\n",
       "      <td>120.056438</td>\n",
       "      <td>65.46984</td>\n",
       "      <td>28.053464</td>\n",
       "      <td>1.289739</td>\n",
       "      <td>1.74307</td>\n",
       "      <td>36.861352</td>\n",
       "      <td>7.813674</td>\n",
       "      <td>8.146651</td>\n",
       "      <td>1494.076488</td>\n",
       "      <td>0.377208</td>\n",
       "      <td>B</td>\n",
       "      <td>109.125159</td>\n",
       "      <td>78.526968</td>\n",
       "      <td>5.390628</td>\n",
       "      <td>224.207424</td>\n",
       "      <td>8.745201</td>\n",
       "      <td>8338.906181</td>\n",
       "      <td>11.626917</td>\n",
       "      <td>7.709560</td>\n",
       "      <td>0.97556</td>\n",
       "      <td>1.198821</td>\n",
       "      <td>37.077772</td>\n",
       "      <td>88.609437</td>\n",
       "      <td>13676.957810</td>\n",
       "      <td>28.022851</td>\n",
       "      <td>35.192676</td>\n",
       "      <td>0.196941</td>\n",
       "      <td>0</td>\n",
       "    </tr>\n",
       "    <tr>\n",
       "      <th>3</th>\n",
       "      <td>043ac50845d5</td>\n",
       "      <td>0.252107</td>\n",
       "      <td>3819.65177</td>\n",
       "      <td>120.201618</td>\n",
       "      <td>77.112203</td>\n",
       "      <td>8.138688</td>\n",
       "      <td>3.685344</td>\n",
       "      <td>0.025578</td>\n",
       "      <td>11.053708</td>\n",
       "      <td>1.229900</td>\n",
       "      <td>4169.67738</td>\n",
       "      <td>23.6577</td>\n",
       "      <td>237.282264</td>\n",
       "      <td>11.050410</td>\n",
       "      <td>661.518640</td>\n",
       "      <td>257.432377</td>\n",
       "      <td>15.201914</td>\n",
       "      <td>0.717882</td>\n",
       "      <td>88.159360</td>\n",
       "      <td>2.347652</td>\n",
       "      <td>0.029054</td>\n",
       "      <td>1.400300</td>\n",
       "      <td>0.636075</td>\n",
       "      <td>41.116960</td>\n",
       "      <td>0.722727</td>\n",
       "      <td>21.530392</td>\n",
       "      <td>47.27586</td>\n",
       "      <td>196.607985</td>\n",
       "      <td>0.23868</td>\n",
       "      <td>0.292431</td>\n",
       "      <td>139.824570</td>\n",
       "      <td>71.57120</td>\n",
       "      <td>24.354856</td>\n",
       "      <td>2.655345</td>\n",
       "      <td>1.74307</td>\n",
       "      <td>52.003884</td>\n",
       "      <td>7.386060</td>\n",
       "      <td>3.813326</td>\n",
       "      <td>15691.552180</td>\n",
       "      <td>0.614484</td>\n",
       "      <td>B</td>\n",
       "      <td>31.674357</td>\n",
       "      <td>78.526968</td>\n",
       "      <td>31.323372</td>\n",
       "      <td>59.301984</td>\n",
       "      <td>7.884336</td>\n",
       "      <td>10965.766040</td>\n",
       "      <td>14.852022</td>\n",
       "      <td>6.122162</td>\n",
       "      <td>0.49706</td>\n",
       "      <td>0.284466</td>\n",
       "      <td>18.529584</td>\n",
       "      <td>82.416803</td>\n",
       "      <td>2094.262452</td>\n",
       "      <td>39.948656</td>\n",
       "      <td>90.493248</td>\n",
       "      <td>0.155829</td>\n",
       "      <td>0</td>\n",
       "    </tr>\n",
       "    <tr>\n",
       "      <th>4</th>\n",
       "      <td>044fb8a146ec</td>\n",
       "      <td>0.380297</td>\n",
       "      <td>3733.04844</td>\n",
       "      <td>85.200147</td>\n",
       "      <td>14.103738</td>\n",
       "      <td>8.138688</td>\n",
       "      <td>3.942255</td>\n",
       "      <td>0.054810</td>\n",
       "      <td>3.396778</td>\n",
       "      <td>102.151980</td>\n",
       "      <td>5728.73412</td>\n",
       "      <td>24.0108</td>\n",
       "      <td>324.546318</td>\n",
       "      <td>149.717165</td>\n",
       "      <td>6074.859475</td>\n",
       "      <td>257.432377</td>\n",
       "      <td>82.213495</td>\n",
       "      <td>0.536467</td>\n",
       "      <td>72.644264</td>\n",
       "      <td>30.537722</td>\n",
       "      <td>0.025472</td>\n",
       "      <td>1.050225</td>\n",
       "      <td>0.693150</td>\n",
       "      <td>31.724726</td>\n",
       "      <td>0.827550</td>\n",
       "      <td>34.415360</td>\n",
       "      <td>74.06532</td>\n",
       "      <td>200.178160</td>\n",
       "      <td>0.23868</td>\n",
       "      <td>0.207708</td>\n",
       "      <td>97.920120</td>\n",
       "      <td>52.83888</td>\n",
       "      <td>26.019912</td>\n",
       "      <td>1.144902</td>\n",
       "      <td>1.74307</td>\n",
       "      <td>9.064856</td>\n",
       "      <td>7.350720</td>\n",
       "      <td>3.490846</td>\n",
       "      <td>1403.656300</td>\n",
       "      <td>0.164268</td>\n",
       "      <td>B</td>\n",
       "      <td>109.125159</td>\n",
       "      <td>91.994825</td>\n",
       "      <td>51.141336</td>\n",
       "      <td>29.102640</td>\n",
       "      <td>4.274640</td>\n",
       "      <td>16198.049590</td>\n",
       "      <td>13.666727</td>\n",
       "      <td>8.153058</td>\n",
       "      <td>48.50134</td>\n",
       "      <td>0.121914</td>\n",
       "      <td>16.408728</td>\n",
       "      <td>146.109943</td>\n",
       "      <td>8524.370502</td>\n",
       "      <td>45.381316</td>\n",
       "      <td>36.262628</td>\n",
       "      <td>0.096614</td>\n",
       "      <td>1</td>\n",
       "    </tr>\n",
       "  </tbody>\n",
       "</table>\n",
       "</div>"
      ],
      "text/plain": [
       "             Id        AB          AF          AH         AM        AR  \\\n",
       "0  000ff2bfdfe9  0.209377  3109.03329   85.200147  22.394407  8.138688   \n",
       "1  007255e47698  0.145282   978.76416   85.200147  36.968889  8.138688   \n",
       "2  013f2bd269f5  0.470030  2635.10654   85.200147  32.360553  8.138688   \n",
       "3  043ac50845d5  0.252107  3819.65177  120.201618  77.112203  8.138688   \n",
       "4  044fb8a146ec  0.380297  3733.04844   85.200147  14.103738  8.138688   \n",
       "\n",
       "         AX        AY         AZ          BC         BD        BN          BP  \\\n",
       "0  0.699861  0.025578   9.812214    5.555634  4126.58731  22.5984  175.638726   \n",
       "1  3.632190  0.025578  13.517790    1.229900  5496.92824  19.4205  155.868030   \n",
       "2  6.732840  0.025578  12.824570    1.229900  5135.78024  26.4825  128.988531   \n",
       "3  3.685344  0.025578  11.053708    1.229900  4169.67738  23.6577  237.282264   \n",
       "4  3.942255  0.054810   3.396778  102.151980  5728.73412  24.0108  324.546318   \n",
       "\n",
       "           BQ           BR          BZ         CB        CC        CD   \\\n",
       "0  152.707705   823.928241  257.432377  47.223358  0.563481  23.387600   \n",
       "1   14.754720    51.216883  257.432377  30.284345  0.484710  50.628208   \n",
       "2  219.320160   482.141594  257.432377  32.563713  0.495852  85.955376   \n",
       "3   11.050410   661.518640  257.432377  15.201914  0.717882  88.159360   \n",
       "4  149.717165  6074.859475  257.432377  82.213495  0.536467  72.644264   \n",
       "\n",
       "          CF        CH        CL        CR         CS        CU        CW   \\\n",
       "0   4.851915  0.023482  1.050225  0.069225  13.784111  1.302012  36.205956   \n",
       "1   6.085041  0.031442  1.113875  1.117800  28.310953  1.357182  37.476568   \n",
       "2   5.376488  0.036218  1.050225  0.700350  39.364743  1.009611  21.459644   \n",
       "3   2.347652  0.029054  1.400300  0.636075  41.116960  0.722727  21.530392   \n",
       "4  30.537722  0.025472  1.050225  0.693150  31.724726  0.827550  34.415360   \n",
       "\n",
       "         DA          DE       DF        DH          DI        DL         DN  \\\n",
       "0  69.08340  295.570575  0.23868  0.284232   89.245560  84.31664  29.657104   \n",
       "1  70.79836  178.553100  0.23868  0.363489  110.581815  75.74548  37.532000   \n",
       "2  70.81970  321.426625  0.23868  0.210441  120.056438  65.46984  28.053464   \n",
       "3  47.27586  196.607985  0.23868  0.292431  139.824570  71.57120  24.354856   \n",
       "4  74.06532  200.178160  0.23868  0.207708   97.920120  52.83888  26.019912   \n",
       "\n",
       "         DU       DV         DY        EB        EE            EG        EH  \\\n",
       "0  5.310690  1.74307  23.187704  7.294176  1.987283   1433.166750  0.949104   \n",
       "1  0.005518  1.74307  17.222328  4.926396  0.858603   1111.287150  0.003042   \n",
       "2  1.289739  1.74307  36.861352  7.813674  8.146651   1494.076488  0.377208   \n",
       "3  2.655345  1.74307  52.003884  7.386060  3.813326  15691.552180  0.614484   \n",
       "4  1.144902  1.74307   9.064856  7.350720  3.490846   1403.656300  0.164268   \n",
       "\n",
       "  EJ          EL         EP         EU          FC        FD             FE  \\\n",
       "0  B   30.879420  78.526968   3.828384   13.394640  10.265073   9028.291921   \n",
       "1  A  109.125159  95.415086  52.260480   17.175984   0.296850   6785.003474   \n",
       "2  B  109.125159  78.526968   5.390628  224.207424   8.745201   8338.906181   \n",
       "3  B   31.674357  78.526968  31.323372   59.301984   7.884336  10965.766040   \n",
       "4  B  109.125159  91.994825  51.141336   29.102640   4.274640  16198.049590   \n",
       "\n",
       "          FI        FL        FR        FS         GB          GE  \\\n",
       "0   3.583450  7.298162   1.73855  0.094822  11.339138   72.611063   \n",
       "1  10.358927  0.173229   0.49706  0.568932   9.292698   72.611063   \n",
       "2  11.626917  7.709560   0.97556  1.198821  37.077772   88.609437   \n",
       "3  14.852022  6.122162   0.49706  0.284466  18.529584   82.416803   \n",
       "4  13.666727  8.153058  48.50134  0.121914  16.408728  146.109943   \n",
       "\n",
       "             GF         GH         GI         GL  Class  \n",
       "0   2003.810319  22.136229  69.834944   0.120343      1  \n",
       "1  27981.562750  29.135430  32.131996  21.978000      0  \n",
       "2  13676.957810  28.022851  35.192676   0.196941      0  \n",
       "3   2094.262452  39.948656  90.493248   0.155829      0  \n",
       "4   8524.370502  45.381316  36.262628   0.096614      1  "
      ]
     },
     "execution_count": 4,
     "metadata": {},
     "output_type": "execute_result"
    }
   ],
   "source": [
    "train_df.head()"
   ]
  },
  {
   "cell_type": "code",
   "execution_count": 5,
   "id": "0f8cad4e",
   "metadata": {
    "execution": {
     "iopub.execute_input": "2023-07-24T16:44:14.468316Z",
     "iopub.status.busy": "2023-07-24T16:44:14.466605Z",
     "iopub.status.idle": "2023-07-24T16:44:14.670578Z",
     "shell.execute_reply": "2023-07-24T16:44:14.669435Z"
    },
    "papermill": {
     "duration": 0.227361,
     "end_time": "2023-07-24T16:44:14.673619",
     "exception": false,
     "start_time": "2023-07-24T16:44:14.446258",
     "status": "completed"
    },
    "tags": []
   },
   "outputs": [
    {
     "data": {
      "text/html": [
       "<div>\n",
       "<style scoped>\n",
       "    .dataframe tbody tr th:only-of-type {\n",
       "        vertical-align: middle;\n",
       "    }\n",
       "\n",
       "    .dataframe tbody tr th {\n",
       "        vertical-align: top;\n",
       "    }\n",
       "\n",
       "    .dataframe thead th {\n",
       "        text-align: right;\n",
       "    }\n",
       "</style>\n",
       "<table border=\"1\" class=\"dataframe\">\n",
       "  <thead>\n",
       "    <tr style=\"text-align: right;\">\n",
       "      <th></th>\n",
       "      <th>AB</th>\n",
       "      <th>AF</th>\n",
       "      <th>AH</th>\n",
       "      <th>AM</th>\n",
       "      <th>AR</th>\n",
       "      <th>AX</th>\n",
       "      <th>AY</th>\n",
       "      <th>AZ</th>\n",
       "      <th>BC</th>\n",
       "      <th>BD</th>\n",
       "      <th>BN</th>\n",
       "      <th>BP</th>\n",
       "      <th>BQ</th>\n",
       "      <th>BR</th>\n",
       "      <th>BZ</th>\n",
       "      <th>CB</th>\n",
       "      <th>CC</th>\n",
       "      <th>CD</th>\n",
       "      <th>CF</th>\n",
       "      <th>CH</th>\n",
       "      <th>CL</th>\n",
       "      <th>CR</th>\n",
       "      <th>CS</th>\n",
       "      <th>CU</th>\n",
       "      <th>CW</th>\n",
       "      <th>DA</th>\n",
       "      <th>DE</th>\n",
       "      <th>DF</th>\n",
       "      <th>DH</th>\n",
       "      <th>DI</th>\n",
       "      <th>DL</th>\n",
       "      <th>DN</th>\n",
       "      <th>DU</th>\n",
       "      <th>DV</th>\n",
       "      <th>DY</th>\n",
       "      <th>EB</th>\n",
       "      <th>EE</th>\n",
       "      <th>EG</th>\n",
       "      <th>EH</th>\n",
       "      <th>EL</th>\n",
       "      <th>EP</th>\n",
       "      <th>EU</th>\n",
       "      <th>FC</th>\n",
       "      <th>FD</th>\n",
       "      <th>FE</th>\n",
       "      <th>FI</th>\n",
       "      <th>FL</th>\n",
       "      <th>FR</th>\n",
       "      <th>FS</th>\n",
       "      <th>GB</th>\n",
       "      <th>GE</th>\n",
       "      <th>GF</th>\n",
       "      <th>GH</th>\n",
       "      <th>GI</th>\n",
       "      <th>GL</th>\n",
       "      <th>Class</th>\n",
       "    </tr>\n",
       "  </thead>\n",
       "  <tbody>\n",
       "    <tr>\n",
       "      <th>count</th>\n",
       "      <td>617.000000</td>\n",
       "      <td>617.000000</td>\n",
       "      <td>617.000000</td>\n",
       "      <td>617.000000</td>\n",
       "      <td>617.000000</td>\n",
       "      <td>617.000000</td>\n",
       "      <td>617.000000</td>\n",
       "      <td>617.000000</td>\n",
       "      <td>617.000000</td>\n",
       "      <td>617.000000</td>\n",
       "      <td>617.000000</td>\n",
       "      <td>617.000000</td>\n",
       "      <td>557.000000</td>\n",
       "      <td>617.000000</td>\n",
       "      <td>617.000000</td>\n",
       "      <td>615.000000</td>\n",
       "      <td>614.000000</td>\n",
       "      <td>617.000000</td>\n",
       "      <td>617.000000</td>\n",
       "      <td>617.000000</td>\n",
       "      <td>617.000000</td>\n",
       "      <td>617.000000</td>\n",
       "      <td>617.000000</td>\n",
       "      <td>617.000000</td>\n",
       "      <td>617.000000</td>\n",
       "      <td>617.000000</td>\n",
       "      <td>617.000000</td>\n",
       "      <td>617.000000</td>\n",
       "      <td>617.000000</td>\n",
       "      <td>617.000000</td>\n",
       "      <td>617.000000</td>\n",
       "      <td>617.000000</td>\n",
       "      <td>616.000000</td>\n",
       "      <td>617.000000</td>\n",
       "      <td>617.000000</td>\n",
       "      <td>617.000000</td>\n",
       "      <td>617.000000</td>\n",
       "      <td>617.000000</td>\n",
       "      <td>617.000000</td>\n",
       "      <td>557.000000</td>\n",
       "      <td>617.000000</td>\n",
       "      <td>617.000000</td>\n",
       "      <td>616.000000</td>\n",
       "      <td>617.000000</td>\n",
       "      <td>617.000000</td>\n",
       "      <td>617.000000</td>\n",
       "      <td>616.000000</td>\n",
       "      <td>617.000000</td>\n",
       "      <td>615.000000</td>\n",
       "      <td>617.000000</td>\n",
       "      <td>617.000000</td>\n",
       "      <td>617.000000</td>\n",
       "      <td>617.000000</td>\n",
       "      <td>617.000000</td>\n",
       "      <td>616.000000</td>\n",
       "      <td>617.000000</td>\n",
       "    </tr>\n",
       "    <tr>\n",
       "      <th>mean</th>\n",
       "      <td>0.477149</td>\n",
       "      <td>3502.013221</td>\n",
       "      <td>118.624513</td>\n",
       "      <td>38.968552</td>\n",
       "      <td>10.128242</td>\n",
       "      <td>5.545576</td>\n",
       "      <td>0.060320</td>\n",
       "      <td>10.566447</td>\n",
       "      <td>8.053012</td>\n",
       "      <td>5350.388655</td>\n",
       "      <td>21.419492</td>\n",
       "      <td>231.322223</td>\n",
       "      <td>98.328737</td>\n",
       "      <td>1218.133238</td>\n",
       "      <td>550.632525</td>\n",
       "      <td>77.104151</td>\n",
       "      <td>0.688801</td>\n",
       "      <td>90.251735</td>\n",
       "      <td>11.241064</td>\n",
       "      <td>0.030615</td>\n",
       "      <td>1.403761</td>\n",
       "      <td>0.742262</td>\n",
       "      <td>36.917590</td>\n",
       "      <td>1.383792</td>\n",
       "      <td>27.165653</td>\n",
       "      <td>51.128326</td>\n",
       "      <td>401.901299</td>\n",
       "      <td>0.633884</td>\n",
       "      <td>0.367002</td>\n",
       "      <td>146.972099</td>\n",
       "      <td>94.795377</td>\n",
       "      <td>26.370568</td>\n",
       "      <td>1.802900</td>\n",
       "      <td>1.924830</td>\n",
       "      <td>26.388989</td>\n",
       "      <td>9.072700</td>\n",
       "      <td>3.064778</td>\n",
       "      <td>1731.248215</td>\n",
       "      <td>0.305107</td>\n",
       "      <td>69.582596</td>\n",
       "      <td>105.060712</td>\n",
       "      <td>69.117005</td>\n",
       "      <td>71.341526</td>\n",
       "      <td>6.930086</td>\n",
       "      <td>10306.810737</td>\n",
       "      <td>10.111079</td>\n",
       "      <td>5.433199</td>\n",
       "      <td>3.533905</td>\n",
       "      <td>0.421501</td>\n",
       "      <td>20.724856</td>\n",
       "      <td>131.714987</td>\n",
       "      <td>14679.595398</td>\n",
       "      <td>31.489716</td>\n",
       "      <td>50.584437</td>\n",
       "      <td>8.530961</td>\n",
       "      <td>0.175041</td>\n",
       "    </tr>\n",
       "    <tr>\n",
       "      <th>std</th>\n",
       "      <td>0.468388</td>\n",
       "      <td>2300.322717</td>\n",
       "      <td>127.838950</td>\n",
       "      <td>69.728226</td>\n",
       "      <td>10.518877</td>\n",
       "      <td>2.551696</td>\n",
       "      <td>0.416817</td>\n",
       "      <td>4.350645</td>\n",
       "      <td>65.166943</td>\n",
       "      <td>3021.326641</td>\n",
       "      <td>3.478278</td>\n",
       "      <td>183.992505</td>\n",
       "      <td>96.479371</td>\n",
       "      <td>7575.293707</td>\n",
       "      <td>2076.371275</td>\n",
       "      <td>159.049302</td>\n",
       "      <td>0.263994</td>\n",
       "      <td>51.585130</td>\n",
       "      <td>13.571133</td>\n",
       "      <td>0.014808</td>\n",
       "      <td>1.922210</td>\n",
       "      <td>0.281195</td>\n",
       "      <td>17.266347</td>\n",
       "      <td>0.538717</td>\n",
       "      <td>14.645993</td>\n",
       "      <td>21.210888</td>\n",
       "      <td>317.745623</td>\n",
       "      <td>1.912384</td>\n",
       "      <td>0.112989</td>\n",
       "      <td>86.084419</td>\n",
       "      <td>28.243187</td>\n",
       "      <td>8.038825</td>\n",
       "      <td>9.034721</td>\n",
       "      <td>1.484555</td>\n",
       "      <td>18.116679</td>\n",
       "      <td>6.200281</td>\n",
       "      <td>2.058344</td>\n",
       "      <td>1790.227476</td>\n",
       "      <td>1.847499</td>\n",
       "      <td>38.555707</td>\n",
       "      <td>68.445620</td>\n",
       "      <td>390.187057</td>\n",
       "      <td>165.551545</td>\n",
       "      <td>64.754262</td>\n",
       "      <td>11331.294051</td>\n",
       "      <td>2.934025</td>\n",
       "      <td>11.496257</td>\n",
       "      <td>50.181948</td>\n",
       "      <td>1.305365</td>\n",
       "      <td>9.991907</td>\n",
       "      <td>144.181524</td>\n",
       "      <td>19352.959387</td>\n",
       "      <td>9.864239</td>\n",
       "      <td>36.266251</td>\n",
       "      <td>10.327010</td>\n",
       "      <td>0.380310</td>\n",
       "    </tr>\n",
       "    <tr>\n",
       "      <th>min</th>\n",
       "      <td>0.081187</td>\n",
       "      <td>192.593280</td>\n",
       "      <td>85.200147</td>\n",
       "      <td>3.177522</td>\n",
       "      <td>8.138688</td>\n",
       "      <td>0.699861</td>\n",
       "      <td>0.025578</td>\n",
       "      <td>3.396778</td>\n",
       "      <td>1.229900</td>\n",
       "      <td>1693.624320</td>\n",
       "      <td>9.886800</td>\n",
       "      <td>72.948951</td>\n",
       "      <td>1.331155</td>\n",
       "      <td>51.216883</td>\n",
       "      <td>257.432377</td>\n",
       "      <td>12.499760</td>\n",
       "      <td>0.176874</td>\n",
       "      <td>23.387600</td>\n",
       "      <td>0.510888</td>\n",
       "      <td>0.003184</td>\n",
       "      <td>1.050225</td>\n",
       "      <td>0.069225</td>\n",
       "      <td>13.784111</td>\n",
       "      <td>0.137925</td>\n",
       "      <td>7.030640</td>\n",
       "      <td>6.906400</td>\n",
       "      <td>35.998895</td>\n",
       "      <td>0.238680</td>\n",
       "      <td>0.040995</td>\n",
       "      <td>60.232470</td>\n",
       "      <td>10.345600</td>\n",
       "      <td>6.339496</td>\n",
       "      <td>0.005518</td>\n",
       "      <td>1.743070</td>\n",
       "      <td>0.804068</td>\n",
       "      <td>4.926396</td>\n",
       "      <td>0.286201</td>\n",
       "      <td>185.594100</td>\n",
       "      <td>0.003042</td>\n",
       "      <td>5.394675</td>\n",
       "      <td>78.526968</td>\n",
       "      <td>3.828384</td>\n",
       "      <td>7.534128</td>\n",
       "      <td>0.296850</td>\n",
       "      <td>1563.136688</td>\n",
       "      <td>3.583450</td>\n",
       "      <td>0.173229</td>\n",
       "      <td>0.497060</td>\n",
       "      <td>0.067730</td>\n",
       "      <td>4.102182</td>\n",
       "      <td>72.611063</td>\n",
       "      <td>13.038894</td>\n",
       "      <td>9.432735</td>\n",
       "      <td>0.897628</td>\n",
       "      <td>0.001129</td>\n",
       "      <td>0.000000</td>\n",
       "    </tr>\n",
       "    <tr>\n",
       "      <th>25%</th>\n",
       "      <td>0.252107</td>\n",
       "      <td>2197.345480</td>\n",
       "      <td>85.200147</td>\n",
       "      <td>12.270314</td>\n",
       "      <td>8.138688</td>\n",
       "      <td>4.128294</td>\n",
       "      <td>0.025578</td>\n",
       "      <td>8.129580</td>\n",
       "      <td>1.229900</td>\n",
       "      <td>4155.702870</td>\n",
       "      <td>19.420500</td>\n",
       "      <td>156.847239</td>\n",
       "      <td>27.834425</td>\n",
       "      <td>424.990642</td>\n",
       "      <td>257.432377</td>\n",
       "      <td>23.317567</td>\n",
       "      <td>0.563688</td>\n",
       "      <td>64.724192</td>\n",
       "      <td>5.066306</td>\n",
       "      <td>0.023482</td>\n",
       "      <td>1.050225</td>\n",
       "      <td>0.589575</td>\n",
       "      <td>29.782467</td>\n",
       "      <td>1.070298</td>\n",
       "      <td>7.030640</td>\n",
       "      <td>37.942520</td>\n",
       "      <td>188.815690</td>\n",
       "      <td>0.238680</td>\n",
       "      <td>0.295164</td>\n",
       "      <td>102.703553</td>\n",
       "      <td>78.232240</td>\n",
       "      <td>20.888264</td>\n",
       "      <td>0.005518</td>\n",
       "      <td>1.743070</td>\n",
       "      <td>14.715792</td>\n",
       "      <td>5.965392</td>\n",
       "      <td>1.648679</td>\n",
       "      <td>1111.160625</td>\n",
       "      <td>0.003042</td>\n",
       "      <td>30.927468</td>\n",
       "      <td>78.526968</td>\n",
       "      <td>4.324656</td>\n",
       "      <td>25.815384</td>\n",
       "      <td>0.296850</td>\n",
       "      <td>5164.666260</td>\n",
       "      <td>8.523098</td>\n",
       "      <td>0.173229</td>\n",
       "      <td>0.497060</td>\n",
       "      <td>0.067730</td>\n",
       "      <td>14.036718</td>\n",
       "      <td>72.611063</td>\n",
       "      <td>2798.992584</td>\n",
       "      <td>25.034888</td>\n",
       "      <td>23.011684</td>\n",
       "      <td>0.124392</td>\n",
       "      <td>0.000000</td>\n",
       "    </tr>\n",
       "    <tr>\n",
       "      <th>50%</th>\n",
       "      <td>0.354659</td>\n",
       "      <td>3120.318960</td>\n",
       "      <td>85.200147</td>\n",
       "      <td>20.533110</td>\n",
       "      <td>8.138688</td>\n",
       "      <td>5.031912</td>\n",
       "      <td>0.025578</td>\n",
       "      <td>10.461320</td>\n",
       "      <td>1.229900</td>\n",
       "      <td>4997.960730</td>\n",
       "      <td>21.186000</td>\n",
       "      <td>193.908816</td>\n",
       "      <td>61.642115</td>\n",
       "      <td>627.417402</td>\n",
       "      <td>257.432377</td>\n",
       "      <td>42.554330</td>\n",
       "      <td>0.658715</td>\n",
       "      <td>79.819104</td>\n",
       "      <td>9.123000</td>\n",
       "      <td>0.027860</td>\n",
       "      <td>1.050225</td>\n",
       "      <td>0.730800</td>\n",
       "      <td>34.835130</td>\n",
       "      <td>1.351665</td>\n",
       "      <td>36.019104</td>\n",
       "      <td>49.180940</td>\n",
       "      <td>307.509595</td>\n",
       "      <td>0.238680</td>\n",
       "      <td>0.358023</td>\n",
       "      <td>130.050630</td>\n",
       "      <td>96.264960</td>\n",
       "      <td>25.248800</td>\n",
       "      <td>0.251741</td>\n",
       "      <td>1.743070</td>\n",
       "      <td>21.642456</td>\n",
       "      <td>8.149404</td>\n",
       "      <td>2.616119</td>\n",
       "      <td>1493.817413</td>\n",
       "      <td>0.085176</td>\n",
       "      <td>71.949306</td>\n",
       "      <td>78.526968</td>\n",
       "      <td>22.641144</td>\n",
       "      <td>36.394008</td>\n",
       "      <td>1.870155</td>\n",
       "      <td>7345.143424</td>\n",
       "      <td>9.945452</td>\n",
       "      <td>3.028141</td>\n",
       "      <td>1.131000</td>\n",
       "      <td>0.250601</td>\n",
       "      <td>18.771436</td>\n",
       "      <td>72.611063</td>\n",
       "      <td>7838.273610</td>\n",
       "      <td>30.608946</td>\n",
       "      <td>41.007968</td>\n",
       "      <td>0.337827</td>\n",
       "      <td>0.000000</td>\n",
       "    </tr>\n",
       "    <tr>\n",
       "      <th>75%</th>\n",
       "      <td>0.559763</td>\n",
       "      <td>4361.637390</td>\n",
       "      <td>113.739540</td>\n",
       "      <td>39.139886</td>\n",
       "      <td>8.138688</td>\n",
       "      <td>6.431634</td>\n",
       "      <td>0.036845</td>\n",
       "      <td>12.969516</td>\n",
       "      <td>5.081244</td>\n",
       "      <td>6035.885700</td>\n",
       "      <td>23.657700</td>\n",
       "      <td>247.803462</td>\n",
       "      <td>134.009015</td>\n",
       "      <td>975.649259</td>\n",
       "      <td>257.432377</td>\n",
       "      <td>77.310097</td>\n",
       "      <td>0.772206</td>\n",
       "      <td>99.813520</td>\n",
       "      <td>13.565901</td>\n",
       "      <td>0.034427</td>\n",
       "      <td>1.228445</td>\n",
       "      <td>0.859350</td>\n",
       "      <td>40.529401</td>\n",
       "      <td>1.660617</td>\n",
       "      <td>37.935832</td>\n",
       "      <td>61.408760</td>\n",
       "      <td>507.896200</td>\n",
       "      <td>0.238680</td>\n",
       "      <td>0.426348</td>\n",
       "      <td>165.836955</td>\n",
       "      <td>110.640680</td>\n",
       "      <td>30.544224</td>\n",
       "      <td>1.058690</td>\n",
       "      <td>1.743070</td>\n",
       "      <td>34.058344</td>\n",
       "      <td>10.503048</td>\n",
       "      <td>3.910070</td>\n",
       "      <td>1905.701475</td>\n",
       "      <td>0.237276</td>\n",
       "      <td>109.125159</td>\n",
       "      <td>112.766654</td>\n",
       "      <td>49.085352</td>\n",
       "      <td>56.714448</td>\n",
       "      <td>4.880214</td>\n",
       "      <td>10647.951650</td>\n",
       "      <td>11.516657</td>\n",
       "      <td>6.238814</td>\n",
       "      <td>1.512060</td>\n",
       "      <td>0.535067</td>\n",
       "      <td>25.608406</td>\n",
       "      <td>127.591671</td>\n",
       "      <td>19035.709240</td>\n",
       "      <td>36.863947</td>\n",
       "      <td>67.931664</td>\n",
       "      <td>21.978000</td>\n",
       "      <td>0.000000</td>\n",
       "    </tr>\n",
       "    <tr>\n",
       "      <th>max</th>\n",
       "      <td>6.161666</td>\n",
       "      <td>28688.187660</td>\n",
       "      <td>1910.123198</td>\n",
       "      <td>630.518230</td>\n",
       "      <td>178.943634</td>\n",
       "      <td>38.270880</td>\n",
       "      <td>10.315851</td>\n",
       "      <td>38.971568</td>\n",
       "      <td>1463.693448</td>\n",
       "      <td>53060.599240</td>\n",
       "      <td>29.307300</td>\n",
       "      <td>2447.810550</td>\n",
       "      <td>344.644105</td>\n",
       "      <td>179250.252900</td>\n",
       "      <td>50092.459300</td>\n",
       "      <td>2271.436167</td>\n",
       "      <td>4.103032</td>\n",
       "      <td>633.534408</td>\n",
       "      <td>200.967526</td>\n",
       "      <td>0.224074</td>\n",
       "      <td>31.688153</td>\n",
       "      <td>3.039675</td>\n",
       "      <td>267.942823</td>\n",
       "      <td>4.951507</td>\n",
       "      <td>64.521624</td>\n",
       "      <td>210.330920</td>\n",
       "      <td>2103.405190</td>\n",
       "      <td>37.895013</td>\n",
       "      <td>1.060404</td>\n",
       "      <td>1049.168078</td>\n",
       "      <td>326.236200</td>\n",
       "      <td>62.808096</td>\n",
       "      <td>161.355315</td>\n",
       "      <td>25.192930</td>\n",
       "      <td>152.355164</td>\n",
       "      <td>94.958580</td>\n",
       "      <td>18.324926</td>\n",
       "      <td>30243.758780</td>\n",
       "      <td>42.569748</td>\n",
       "      <td>109.125159</td>\n",
       "      <td>1063.594578</td>\n",
       "      <td>6501.264480</td>\n",
       "      <td>3030.655824</td>\n",
       "      <td>1578.654237</td>\n",
       "      <td>143224.682300</td>\n",
       "      <td>35.851039</td>\n",
       "      <td>137.932739</td>\n",
       "      <td>1244.227020</td>\n",
       "      <td>31.365763</td>\n",
       "      <td>135.781294</td>\n",
       "      <td>1497.351958</td>\n",
       "      <td>143790.071200</td>\n",
       "      <td>81.210825</td>\n",
       "      <td>191.194764</td>\n",
       "      <td>21.978000</td>\n",
       "      <td>1.000000</td>\n",
       "    </tr>\n",
       "  </tbody>\n",
       "</table>\n",
       "</div>"
      ],
      "text/plain": [
       "               AB            AF           AH          AM          AR  \\\n",
       "count  617.000000    617.000000   617.000000  617.000000  617.000000   \n",
       "mean     0.477149   3502.013221   118.624513   38.968552   10.128242   \n",
       "std      0.468388   2300.322717   127.838950   69.728226   10.518877   \n",
       "min      0.081187    192.593280    85.200147    3.177522    8.138688   \n",
       "25%      0.252107   2197.345480    85.200147   12.270314    8.138688   \n",
       "50%      0.354659   3120.318960    85.200147   20.533110    8.138688   \n",
       "75%      0.559763   4361.637390   113.739540   39.139886    8.138688   \n",
       "max      6.161666  28688.187660  1910.123198  630.518230  178.943634   \n",
       "\n",
       "               AX          AY          AZ           BC           BD   \\\n",
       "count  617.000000  617.000000  617.000000   617.000000    617.000000   \n",
       "mean     5.545576    0.060320   10.566447     8.053012   5350.388655   \n",
       "std      2.551696    0.416817    4.350645    65.166943   3021.326641   \n",
       "min      0.699861    0.025578    3.396778     1.229900   1693.624320   \n",
       "25%      4.128294    0.025578    8.129580     1.229900   4155.702870   \n",
       "50%      5.031912    0.025578   10.461320     1.229900   4997.960730   \n",
       "75%      6.431634    0.036845   12.969516     5.081244   6035.885700   \n",
       "max     38.270880   10.315851   38.971568  1463.693448  53060.599240   \n",
       "\n",
       "               BN           BP          BQ             BR            BZ  \\\n",
       "count  617.000000   617.000000  557.000000     617.000000    617.000000   \n",
       "mean    21.419492   231.322223   98.328737    1218.133238    550.632525   \n",
       "std      3.478278   183.992505   96.479371    7575.293707   2076.371275   \n",
       "min      9.886800    72.948951    1.331155      51.216883    257.432377   \n",
       "25%     19.420500   156.847239   27.834425     424.990642    257.432377   \n",
       "50%     21.186000   193.908816   61.642115     627.417402    257.432377   \n",
       "75%     23.657700   247.803462  134.009015     975.649259    257.432377   \n",
       "max     29.307300  2447.810550  344.644105  179250.252900  50092.459300   \n",
       "\n",
       "                CB          CC         CD           CF          CH  \\\n",
       "count   615.000000  614.000000  617.000000  617.000000  617.000000   \n",
       "mean     77.104151    0.688801   90.251735   11.241064    0.030615   \n",
       "std     159.049302    0.263994   51.585130   13.571133    0.014808   \n",
       "min      12.499760    0.176874   23.387600    0.510888    0.003184   \n",
       "25%      23.317567    0.563688   64.724192    5.066306    0.023482   \n",
       "50%      42.554330    0.658715   79.819104    9.123000    0.027860   \n",
       "75%      77.310097    0.772206   99.813520   13.565901    0.034427   \n",
       "max    2271.436167    4.103032  633.534408  200.967526    0.224074   \n",
       "\n",
       "               CL          CR          CS          CU         CW           DA  \\\n",
       "count  617.000000  617.000000  617.000000  617.000000  617.000000  617.000000   \n",
       "mean     1.403761    0.742262   36.917590    1.383792   27.165653   51.128326   \n",
       "std      1.922210    0.281195   17.266347    0.538717   14.645993   21.210888   \n",
       "min      1.050225    0.069225   13.784111    0.137925    7.030640    6.906400   \n",
       "25%      1.050225    0.589575   29.782467    1.070298    7.030640   37.942520   \n",
       "50%      1.050225    0.730800   34.835130    1.351665   36.019104   49.180940   \n",
       "75%      1.228445    0.859350   40.529401    1.660617   37.935832   61.408760   \n",
       "max     31.688153    3.039675  267.942823    4.951507   64.521624  210.330920   \n",
       "\n",
       "                DE          DF          DH           DI          DL  \\\n",
       "count   617.000000  617.000000  617.000000   617.000000  617.000000   \n",
       "mean    401.901299    0.633884    0.367002   146.972099   94.795377   \n",
       "std     317.745623    1.912384    0.112989    86.084419   28.243187   \n",
       "min      35.998895    0.238680    0.040995    60.232470   10.345600   \n",
       "25%     188.815690    0.238680    0.295164   102.703553   78.232240   \n",
       "50%     307.509595    0.238680    0.358023   130.050630   96.264960   \n",
       "75%     507.896200    0.238680    0.426348   165.836955  110.640680   \n",
       "max    2103.405190   37.895013    1.060404  1049.168078  326.236200   \n",
       "\n",
       "               DN          DU          DV          DY          EB          EE  \\\n",
       "count  617.000000  616.000000  617.000000  617.000000  617.000000  617.000000   \n",
       "mean    26.370568    1.802900    1.924830   26.388989    9.072700    3.064778   \n",
       "std      8.038825    9.034721    1.484555   18.116679    6.200281    2.058344   \n",
       "min      6.339496    0.005518    1.743070    0.804068    4.926396    0.286201   \n",
       "25%     20.888264    0.005518    1.743070   14.715792    5.965392    1.648679   \n",
       "50%     25.248800    0.251741    1.743070   21.642456    8.149404    2.616119   \n",
       "75%     30.544224    1.058690    1.743070   34.058344   10.503048    3.910070   \n",
       "max     62.808096  161.355315   25.192930  152.355164   94.958580   18.324926   \n",
       "\n",
       "                 EG          EH          EL           EP           EU  \\\n",
       "count    617.000000  617.000000  557.000000   617.000000   617.000000   \n",
       "mean    1731.248215    0.305107   69.582596   105.060712    69.117005   \n",
       "std     1790.227476    1.847499   38.555707    68.445620   390.187057   \n",
       "min      185.594100    0.003042    5.394675    78.526968     3.828384   \n",
       "25%     1111.160625    0.003042   30.927468    78.526968     4.324656   \n",
       "50%     1493.817413    0.085176   71.949306    78.526968    22.641144   \n",
       "75%     1905.701475    0.237276  109.125159   112.766654    49.085352   \n",
       "max    30243.758780   42.569748  109.125159  1063.594578  6501.264480   \n",
       "\n",
       "                FC          FD              FE          FI          FL  \\\n",
       "count   616.000000   617.000000     617.000000  617.000000  616.000000   \n",
       "mean     71.341526     6.930086   10306.810737   10.111079    5.433199   \n",
       "std     165.551545    64.754262   11331.294051    2.934025   11.496257   \n",
       "min       7.534128     0.296850    1563.136688    3.583450    0.173229   \n",
       "25%      25.815384     0.296850    5164.666260    8.523098    0.173229   \n",
       "50%      36.394008     1.870155    7345.143424    9.945452    3.028141   \n",
       "75%      56.714448     4.880214   10647.951650   11.516657    6.238814   \n",
       "max    3030.655824  1578.654237  143224.682300   35.851039  137.932739   \n",
       "\n",
       "                FR          FS          GB           GE             GF  \\\n",
       "count   617.000000  615.000000  617.000000   617.000000     617.000000   \n",
       "mean      3.533905    0.421501   20.724856   131.714987   14679.595398   \n",
       "std      50.181948    1.305365    9.991907   144.181524   19352.959387   \n",
       "min       0.497060    0.067730    4.102182    72.611063      13.038894   \n",
       "25%       0.497060    0.067730   14.036718    72.611063    2798.992584   \n",
       "50%       1.131000    0.250601   18.771436    72.611063    7838.273610   \n",
       "75%       1.512060    0.535067   25.608406   127.591671   19035.709240   \n",
       "max    1244.227020   31.365763  135.781294  1497.351958  143790.071200   \n",
       "\n",
       "               GH          GI          GL       Class  \n",
       "count  617.000000  617.000000  616.000000  617.000000  \n",
       "mean    31.489716   50.584437    8.530961    0.175041  \n",
       "std      9.864239   36.266251   10.327010    0.380310  \n",
       "min      9.432735    0.897628    0.001129    0.000000  \n",
       "25%     25.034888   23.011684    0.124392    0.000000  \n",
       "50%     30.608946   41.007968    0.337827    0.000000  \n",
       "75%     36.863947   67.931664   21.978000    0.000000  \n",
       "max     81.210825  191.194764   21.978000    1.000000  "
      ]
     },
     "execution_count": 5,
     "metadata": {},
     "output_type": "execute_result"
    }
   ],
   "source": [
    "train_df.describe()"
   ]
  },
  {
   "cell_type": "code",
   "execution_count": 6,
   "id": "9d4496a1",
   "metadata": {
    "execution": {
     "iopub.execute_input": "2023-07-24T16:44:14.716229Z",
     "iopub.status.busy": "2023-07-24T16:44:14.715836Z",
     "iopub.status.idle": "2023-07-24T16:44:14.936888Z",
     "shell.execute_reply": "2023-07-24T16:44:14.934929Z"
    },
    "papermill": {
     "duration": 0.247879,
     "end_time": "2023-07-24T16:44:14.942040",
     "exception": false,
     "start_time": "2023-07-24T16:44:14.694161",
     "status": "completed"
    },
    "tags": []
   },
   "outputs": [
    {
     "data": {
      "text/plain": [
       "<Axes: ylabel='Class'>"
      ]
     },
     "execution_count": 6,
     "metadata": {},
     "output_type": "execute_result"
    },
    {
     "data": {
      "image/png": "[encoded data removed]",
      "text/plain": [
       "<Figure size 640x480 with 1 Axes>"
      ]
     },
     "metadata": {},
     "output_type": "display_data"
    }
   ],
   "source": [
    "train_df.Class.value_counts().plot.pie()"
   ]
  },
  {
   "cell_type": "code",
   "execution_count": 7,
   "id": "0224fd32",
   "metadata": {
    "execution": {
     "iopub.execute_input": "2023-07-24T16:44:15.009821Z",
     "iopub.status.busy": "2023-07-24T16:44:15.009423Z",
     "iopub.status.idle": "2023-07-24T16:44:15.019078Z",
     "shell.execute_reply": "2023-07-24T16:44:15.018230Z"
    },
    "papermill": {
     "duration": 0.034162,
     "end_time": "2023-07-24T16:44:15.021361",
     "exception": false,
     "start_time": "2023-07-24T16:44:14.987199",
     "status": "completed"
    },
    "tags": []
   },
   "outputs": [
    {
     "data": {
      "text/plain": [
       "Id        0\n",
       "AB        0\n",
       "AF        0\n",
       "AH        0\n",
       "AM        0\n",
       "AR        0\n",
       "AX        0\n",
       "AY        0\n",
       "AZ        0\n",
       "BC        0\n",
       "BD        0\n",
       "BN        0\n",
       "BP        0\n",
       "BQ       60\n",
       "BR        0\n",
       "BZ        0\n",
       "CB        2\n",
       "CC        3\n",
       "CD        0\n",
       "CF        0\n",
       "CH        0\n",
       "CL        0\n",
       "CR        0\n",
       "CS        0\n",
       "CU        0\n",
       "CW        0\n",
       "DA        0\n",
       "DE        0\n",
       "DF        0\n",
       "DH        0\n",
       "DI        0\n",
       "DL        0\n",
       "DN        0\n",
       "DU        1\n",
       "DV        0\n",
       "DY        0\n",
       "EB        0\n",
       "EE        0\n",
       "EG        0\n",
       "EH        0\n",
       "EJ        0\n",
       "EL       60\n",
       "EP        0\n",
       "EU        0\n",
       "FC        1\n",
       "FD        0\n",
       "FE        0\n",
       "FI        0\n",
       "FL        1\n",
       "FR        0\n",
       "FS        2\n",
       "GB        0\n",
       "GE        0\n",
       "GF        0\n",
       "GH        0\n",
       "GI        0\n",
       "GL        1\n",
       "Class     0\n",
       "dtype: int64"
      ]
     },
     "execution_count": 7,
     "metadata": {},
     "output_type": "execute_result"
    }
   ],
   "source": [
    "train_df.isna().sum()"
   ]
  },
  {
   "cell_type": "code",
   "execution_count": 8,
   "id": "fa6c03f8",
   "metadata": {
    "execution": {
     "iopub.execute_input": "2023-07-24T16:44:15.065115Z",
     "iopub.status.busy": "2023-07-24T16:44:15.064712Z",
     "iopub.status.idle": "2023-07-24T16:44:15.088971Z",
     "shell.execute_reply": "2023-07-24T16:44:15.086866Z"
    },
    "papermill": {
     "duration": 0.050126,
     "end_time": "2023-07-24T16:44:15.092480",
     "exception": false,
     "start_time": "2023-07-24T16:44:15.042354",
     "status": "completed"
    },
    "tags": []
   },
   "outputs": [
    {
     "name": "stdout",
     "output_type": "stream",
     "text": [
      "<class 'pandas.core.frame.DataFrame'>\n",
      "RangeIndex: 617 entries, 0 to 616\n",
      "Data columns (total 58 columns):\n",
      " #   Column  Non-Null Count  Dtype  \n",
      "---  ------  --------------  -----  \n",
      " 0   Id      617 non-null    object \n",
      " 1   AB      617 non-null    float64\n",
      " 2   AF      617 non-null    float64\n",
      " 3   AH      617 non-null    float64\n",
      " 4   AM      617 non-null    float64\n",
      " 5   AR      617 non-null    float64\n",
      " 6   AX      617 non-null    float64\n",
      " 7   AY      617 non-null    float64\n",
      " 8   AZ      617 non-null    float64\n",
      " 9   BC      617 non-null    float64\n",
      " 10  BD      617 non-null    float64\n",
      " 11  BN      617 non-null    float64\n",
      " 12  BP      617 non-null    float64\n",
      " 13  BQ      557 non-null    float64\n",
      " 14  BR      617 non-null    float64\n",
      " 15  BZ      617 non-null    float64\n",
      " 16  CB      615 non-null    float64\n",
      " 17  CC      614 non-null    float64\n",
      " 18  CD      617 non-null    float64\n",
      " 19  CF      617 non-null    float64\n",
      " 20  CH      617 non-null    float64\n",
      " 21  CL      617 non-null    float64\n",
      " 22  CR      617 non-null    float64\n",
      " 23  CS      617 non-null    float64\n",
      " 24  CU      617 non-null    float64\n",
      " 25  CW      617 non-null    float64\n",
      " 26  DA      617 non-null    float64\n",
      " 27  DE      617 non-null    float64\n",
      " 28  DF      617 non-null    float64\n",
      " 29  DH      617 non-null    float64\n",
      " 30  DI      617 non-null    float64\n",
      " 31  DL      617 non-null    float64\n",
      " 32  DN      617 non-null    float64\n",
      " 33  DU      616 non-null    float64\n",
      " 34  DV      617 non-null    float64\n",
      " 35  DY      617 non-null    float64\n",
      " 36  EB      617 non-null    float64\n",
      " 37  EE      617 non-null    float64\n",
      " 38  EG      617 non-null    float64\n",
      " 39  EH      617 non-null    float64\n",
      " 40  EJ      617 non-null    object \n",
      " 41  EL      557 non-null    float64\n",
      " 42  EP      617 non-null    float64\n",
      " 43  EU      617 non-null    float64\n",
      " 44  FC      616 non-null    float64\n",
      " 45  FD      617 non-null    float64\n",
      " 46  FE      617 non-null    float64\n",
      " 47  FI      617 non-null    float64\n",
      " 48  FL      616 non-null    float64\n",
      " 49  FR      617 non-null    float64\n",
      " 50  FS      615 non-null    float64\n",
      " 51  GB      617 non-null    float64\n",
      " 52  GE      617 non-null    float64\n",
      " 53  GF      617 non-null    float64\n",
      " 54  GH      617 non-null    float64\n",
      " 55  GI      617 non-null    float64\n",
      " 56  GL      616 non-null    float64\n",
      " 57  Class   617 non-null    int64  \n",
      "dtypes: float64(55), int64(1), object(2)\n",
      "memory usage: 279.7+ KB\n"
     ]
    }
   ],
   "source": [
    "train_df.info()"
   ]
  },
  {
   "cell_type": "code",
   "execution_count": 9,
   "id": "57aa29b6",
   "metadata": {
    "execution": {
     "iopub.execute_input": "2023-07-24T16:44:15.136436Z",
     "iopub.status.busy": "2023-07-24T16:44:15.135977Z",
     "iopub.status.idle": "2023-07-24T16:44:15.175777Z",
     "shell.execute_reply": "2023-07-24T16:44:15.174551Z"
    },
    "papermill": {
     "duration": 0.065128,
     "end_time": "2023-07-24T16:44:15.178796",
     "exception": false,
     "start_time": "2023-07-24T16:44:15.113668",
     "status": "completed"
    },
    "tags": []
   },
   "outputs": [],
   "source": [
    "modes = train_df.mode().iloc[0]"
   ]
  },
  {
   "cell_type": "code",
   "execution_count": 10,
   "id": "236e131c",
   "metadata": {
    "execution": {
     "iopub.execute_input": "2023-07-24T16:44:15.228183Z",
     "iopub.status.busy": "2023-07-24T16:44:15.227729Z",
     "iopub.status.idle": "2023-07-24T16:44:15.295632Z",
     "shell.execute_reply": "2023-07-24T16:44:15.294176Z"
    },
    "papermill": {
     "duration": 0.094191,
     "end_time": "2023-07-24T16:44:15.298576",
     "exception": false,
     "start_time": "2023-07-24T16:44:15.204385",
     "status": "completed"
    },
    "tags": []
   },
   "outputs": [],
   "source": [
    "def process_data(df):\n",
    "    df.fillna(modes, inplace=True)\n",
    "    df[\"EJ\"] = pd.Categorical(df.EJ)\n",
    "    \n",
    "process_data(train_df)\n",
    "process_data(test_df)"
   ]
  },
  {
   "cell_type": "code",
   "execution_count": 11,
   "id": "4d7d57b7",
   "metadata": {
    "execution": {
     "iopub.execute_input": "2023-07-24T16:44:15.342144Z",
     "iopub.status.busy": "2023-07-24T16:44:15.341506Z",
     "iopub.status.idle": "2023-07-24T16:44:15.361922Z",
     "shell.execute_reply": "2023-07-24T16:44:15.360200Z"
    },
    "papermill": {
     "duration": 0.046219,
     "end_time": "2023-07-24T16:44:15.365510",
     "exception": false,
     "start_time": "2023-07-24T16:44:15.319291",
     "status": "completed"
    },
    "tags": []
   },
   "outputs": [
    {
     "name": "stdout",
     "output_type": "stream",
     "text": [
      "<class 'pandas.core.frame.DataFrame'>\n",
      "RangeIndex: 617 entries, 0 to 616\n",
      "Data columns (total 58 columns):\n",
      " #   Column  Non-Null Count  Dtype   \n",
      "---  ------  --------------  -----   \n",
      " 0   Id      617 non-null    object  \n",
      " 1   AB      617 non-null    float64 \n",
      " 2   AF      617 non-null    float64 \n",
      " 3   AH      617 non-null    float64 \n",
      " 4   AM      617 non-null    float64 \n",
      " 5   AR      617 non-null    float64 \n",
      " 6   AX      617 non-null    float64 \n",
      " 7   AY      617 non-null    float64 \n",
      " 8   AZ      617 non-null    float64 \n",
      " 9   BC      617 non-null    float64 \n",
      " 10  BD      617 non-null    float64 \n",
      " 11  BN      617 non-null    float64 \n",
      " 12  BP      617 non-null    float64 \n",
      " 13  BQ      617 non-null    float64 \n",
      " 14  BR      617 non-null    float64 \n",
      " 15  BZ      617 non-null    float64 \n",
      " 16  CB      617 non-null    float64 \n",
      " 17  CC      617 non-null    float64 \n",
      " 18  CD      617 non-null    float64 \n",
      " 19  CF      617 non-null    float64 \n",
      " 20  CH      617 non-null    float64 \n",
      " 21  CL      617 non-null    float64 \n",
      " 22  CR      617 non-null    float64 \n",
      " 23  CS      617 non-null    float64 \n",
      " 24  CU      617 non-null    float64 \n",
      " 25  CW      617 non-null    float64 \n",
      " 26  DA      617 non-null    float64 \n",
      " 27  DE      617 non-null    float64 \n",
      " 28  DF      617 non-null    float64 \n",
      " 29  DH      617 non-null    float64 \n",
      " 30  DI      617 non-null    float64 \n",
      " 31  DL      617 non-null    float64 \n",
      " 32  DN      617 non-null    float64 \n",
      " 33  DU      617 non-null    float64 \n",
      " 34  DV      617 non-null    float64 \n",
      " 35  DY      617 non-null    float64 \n",
      " 36  EB      617 non-null    float64 \n",
      " 37  EE      617 non-null    float64 \n",
      " 38  EG      617 non-null    float64 \n",
      " 39  EH      617 non-null    float64 \n",
      " 40  EJ      617 non-null    category\n",
      " 41  EL      617 non-null    float64 \n",
      " 42  EP      617 non-null    float64 \n",
      " 43  EU      617 non-null    float64 \n",
      " 44  FC      617 non-null    float64 \n",
      " 45  FD      617 non-null    float64 \n",
      " 46  FE      617 non-null    float64 \n",
      " 47  FI      617 non-null    float64 \n",
      " 48  FL      617 non-null    float64 \n",
      " 49  FR      617 non-null    float64 \n",
      " 50  FS      617 non-null    float64 \n",
      " 51  GB      617 non-null    float64 \n",
      " 52  GE      617 non-null    float64 \n",
      " 53  GF      617 non-null    float64 \n",
      " 54  GH      617 non-null    float64 \n",
      " 55  GI      617 non-null    float64 \n",
      " 56  GL      617 non-null    float64 \n",
      " 57  Class   617 non-null    int64   \n",
      "dtypes: category(1), float64(55), int64(1), object(1)\n",
      "memory usage: 275.6+ KB\n"
     ]
    }
   ],
   "source": [
    "train_df.info()"
   ]
  },
  {
   "cell_type": "code",
   "execution_count": 12,
   "id": "88337216",
   "metadata": {
    "execution": {
     "iopub.execute_input": "2023-07-24T16:44:15.416908Z",
     "iopub.status.busy": "2023-07-24T16:44:15.416024Z",
     "iopub.status.idle": "2023-07-24T16:44:15.427154Z",
     "shell.execute_reply": "2023-07-24T16:44:15.425966Z"
    },
    "papermill": {
     "duration": 0.040073,
     "end_time": "2023-07-24T16:44:15.430393",
     "exception": false,
     "start_time": "2023-07-24T16:44:15.390320",
     "status": "completed"
    },
    "tags": []
   },
   "outputs": [
    {
     "data": {
      "text/plain": [
       "(0    B\n",
       " 1    A\n",
       " 2    B\n",
       " 3    B\n",
       " 4    B\n",
       " Name: EJ, dtype: category\n",
       " Categories (2, object): ['A', 'B'],\n",
       " 0    1\n",
       " 1    0\n",
       " 2    1\n",
       " 3    1\n",
       " 4    1\n",
       " dtype: int8)"
      ]
     },
     "execution_count": 12,
     "metadata": {},
     "output_type": "execute_result"
    }
   ],
   "source": [
    "train_df.EJ.head(), train_df.EJ.cat.codes.head()"
   ]
  },
  {
   "cell_type": "code",
   "execution_count": 13,
   "id": "14fb9aa1",
   "metadata": {
    "execution": {
     "iopub.execute_input": "2023-07-24T16:44:15.484517Z",
     "iopub.status.busy": "2023-07-24T16:44:15.483724Z",
     "iopub.status.idle": "2023-07-24T16:44:15.489773Z",
     "shell.execute_reply": "2023-07-24T16:44:15.488952Z"
    },
    "papermill": {
     "duration": 0.031671,
     "end_time": "2023-07-24T16:44:15.492329",
     "exception": false,
     "start_time": "2023-07-24T16:44:15.460658",
     "status": "completed"
    },
    "tags": []
   },
   "outputs": [],
   "source": [
    "categoricals = [\"EJ\"]\n",
    "dependent = \"Class\"\n",
    "conts = [column for column in train_df.columns if not column in categoricals + [dependent] + [\"Id\"]]"
   ]
  },
  {
   "cell_type": "code",
   "execution_count": 14,
   "id": "c1a60f26",
   "metadata": {
    "execution": {
     "iopub.execute_input": "2023-07-24T16:44:15.536967Z",
     "iopub.status.busy": "2023-07-24T16:44:15.536243Z",
     "iopub.status.idle": "2023-07-24T16:44:16.110589Z",
     "shell.execute_reply": "2023-07-24T16:44:16.109397Z"
    },
    "papermill": {
     "duration": 0.599525,
     "end_time": "2023-07-24T16:44:16.113242",
     "exception": false,
     "start_time": "2023-07-24T16:44:15.513717",
     "status": "completed"
    },
    "tags": []
   },
   "outputs": [
    {
     "data": {
      "text/plain": [
       "[Text(0.5, 1.0, 'Histogram')]"
      ]
     },
     "execution_count": 14,
     "metadata": {},
     "output_type": "execute_result"
    },
    {
     "data": {
      "image/png": "[encoded data removed]",
      "text/plain": [
       "<Figure size 1100x500 with 2 Axes>"
      ]
     },
     "metadata": {},
     "output_type": "display_data"
    }
   ],
   "source": [
    "fig, axs = plt.subplots(1, 2, figsize=(11, 5))\n",
    "sns.barplot(data=train_df, y=dependent, x=\"EJ\", ax=axs[0]).set(title=\"Positive Diagnosis Rate\")\n",
    "sns.countplot(data=train_df, x=\"EJ\", ax=axs[1]).set(title=\"Histogram\")"
   ]
  },
  {
   "cell_type": "code",
   "execution_count": 15,
   "id": "9213fd64",
   "metadata": {
    "execution": {
     "iopub.execute_input": "2023-07-24T16:44:16.159486Z",
     "iopub.status.busy": "2023-07-24T16:44:16.158831Z",
     "iopub.status.idle": "2023-07-24T16:44:16.677796Z",
     "shell.execute_reply": "2023-07-24T16:44:16.676554Z"
    },
    "papermill": {
     "duration": 0.544704,
     "end_time": "2023-07-24T16:44:16.680245",
     "exception": false,
     "start_time": "2023-07-24T16:44:16.135541",
     "status": "completed"
    },
    "tags": []
   },
   "outputs": [
    {
     "data": {
      "text/plain": [
       "<Axes: xlabel='AB', ylabel='Density'>"
      ]
     },
     "execution_count": 15,
     "metadata": {},
     "output_type": "execute_result"
    },
    {
     "data": {
      "image/png": "[encoded data removed]",
      "text/plain": [
       "<Figure size 1100x500 with 2 Axes>"
      ]
     },
     "metadata": {},
     "output_type": "display_data"
    }
   ],
   "source": [
    "fig, (ax1, ax2) = plt.subplots(nrows=1, ncols=2, figsize=(11, 5))\n",
    "sns.boxenplot(data=train_df, x=dependent, y=\"AB\", ax=ax1)\n",
    "sns.kdeplot(data=train_df, x=\"AB\", ax=ax2)"
   ]
  },
  {
   "cell_type": "code",
   "execution_count": 16,
   "id": "8e026db2",
   "metadata": {
    "execution": {
     "iopub.execute_input": "2023-07-24T16:44:16.727198Z",
     "iopub.status.busy": "2023-07-24T16:44:16.726717Z",
     "iopub.status.idle": "2023-07-24T16:44:16.733786Z",
     "shell.execute_reply": "2023-07-24T16:44:16.732415Z"
    },
    "papermill": {
     "duration": 0.033511,
     "end_time": "2023-07-24T16:44:16.736496",
     "exception": false,
     "start_time": "2023-07-24T16:44:16.702985",
     "status": "completed"
    },
    "tags": []
   },
   "outputs": [],
   "source": [
    "def score(col, y, split_value):\n",
    "    lhs = col <= split_value\n",
    "    return (_side_score(lhs, y) + _side_score(~lhs, y))/len(y)\n",
    "\n",
    "def _side_score(side, y):\n",
    "    count = side.sum()\n",
    "    if count <=1: return 0\n",
    "    return y[side].std() * count "
   ]
  },
  {
   "cell_type": "code",
   "execution_count": 17,
   "id": "0e8ba4c9",
   "metadata": {
    "execution": {
     "iopub.execute_input": "2023-07-24T16:44:16.785021Z",
     "iopub.status.busy": "2023-07-24T16:44:16.784601Z",
     "iopub.status.idle": "2023-07-24T16:44:16.794431Z",
     "shell.execute_reply": "2023-07-24T16:44:16.793242Z"
    },
    "papermill": {
     "duration": 0.037087,
     "end_time": "2023-07-24T16:44:16.796937",
     "exception": false,
     "start_time": "2023-07-24T16:44:16.759850",
     "status": "completed"
    },
    "tags": []
   },
   "outputs": [
    {
     "data": {
      "text/plain": [
       "0.36017711175753037"
      ]
     },
     "execution_count": 17,
     "metadata": {},
     "output_type": "execute_result"
    }
   ],
   "source": [
    "score(train_df.AB, train_df[dependent], 0.5)"
   ]
  },
  {
   "cell_type": "code",
   "execution_count": 18,
   "id": "d3c0d15d",
   "metadata": {
    "execution": {
     "iopub.execute_input": "2023-07-24T16:44:16.845942Z",
     "iopub.status.busy": "2023-07-24T16:44:16.845463Z",
     "iopub.status.idle": "2023-07-24T16:44:16.860957Z",
     "shell.execute_reply": "2023-07-24T16:44:16.859816Z"
    },
    "papermill": {
     "duration": 0.043549,
     "end_time": "2023-07-24T16:44:16.863292",
     "exception": false,
     "start_time": "2023-07-24T16:44:16.819743",
     "status": "completed"
    },
    "tags": []
   },
   "outputs": [
    {
     "data": {
      "text/html": [
       "<div>\n",
       "<style scoped>\n",
       "    .dataframe tbody tr th:only-of-type {\n",
       "        vertical-align: middle;\n",
       "    }\n",
       "\n",
       "    .dataframe tbody tr th {\n",
       "        vertical-align: top;\n",
       "    }\n",
       "\n",
       "    .dataframe thead th {\n",
       "        text-align: right;\n",
       "    }\n",
       "</style>\n",
       "<table border=\"1\" class=\"dataframe\">\n",
       "  <thead>\n",
       "    <tr style=\"text-align: right;\">\n",
       "      <th></th>\n",
       "      <th>EJ</th>\n",
       "    </tr>\n",
       "  </thead>\n",
       "  <tbody>\n",
       "    <tr>\n",
       "      <th>0</th>\n",
       "      <td>1</td>\n",
       "    </tr>\n",
       "    <tr>\n",
       "      <th>1</th>\n",
       "      <td>0</td>\n",
       "    </tr>\n",
       "    <tr>\n",
       "      <th>2</th>\n",
       "      <td>1</td>\n",
       "    </tr>\n",
       "    <tr>\n",
       "      <th>3</th>\n",
       "      <td>1</td>\n",
       "    </tr>\n",
       "    <tr>\n",
       "      <th>4</th>\n",
       "      <td>1</td>\n",
       "    </tr>\n",
       "  </tbody>\n",
       "</table>\n",
       "</div>"
      ],
      "text/plain": [
       "   EJ\n",
       "0   1\n",
       "1   0\n",
       "2   1\n",
       "3   1\n",
       "4   1"
      ]
     },
     "execution_count": 18,
     "metadata": {},
     "output_type": "execute_result"
    }
   ],
   "source": [
    "train_df_n = train_df.copy()\n",
    "train_df_n[categoricals] = train_df_n[categoricals].apply(lambda x: x.cat.codes)\n",
    "train_df_n[categoricals].head()"
   ]
  },
  {
   "cell_type": "code",
   "execution_count": 19,
   "id": "4fb70875",
   "metadata": {
    "execution": {
     "iopub.execute_input": "2023-07-24T16:44:16.910659Z",
     "iopub.status.busy": "2023-07-24T16:44:16.910276Z",
     "iopub.status.idle": "2023-07-24T16:44:16.918831Z",
     "shell.execute_reply": "2023-07-24T16:44:16.917666Z"
    },
    "papermill": {
     "duration": 0.035136,
     "end_time": "2023-07-24T16:44:16.921154",
     "exception": false,
     "start_time": "2023-07-24T16:44:16.886018",
     "status": "completed"
    },
    "tags": []
   },
   "outputs": [
    {
     "data": {
      "text/plain": [
       "0.3803100751041243"
      ]
     },
     "execution_count": 19,
     "metadata": {},
     "output_type": "execute_result"
    }
   ],
   "source": [
    "score(train_df_n.EJ, train_df_n[dependent], 1)"
   ]
  },
  {
   "cell_type": "code",
   "execution_count": 20,
   "id": "74ede026",
   "metadata": {
    "execution": {
     "iopub.execute_input": "2023-07-24T16:44:16.968332Z",
     "iopub.status.busy": "2023-07-24T16:44:16.967926Z",
     "iopub.status.idle": "2023-07-24T16:44:16.978154Z",
     "shell.execute_reply": "2023-07-24T16:44:16.977068Z"
    },
    "papermill": {
     "duration": 0.036582,
     "end_time": "2023-07-24T16:44:16.980412",
     "exception": false,
     "start_time": "2023-07-24T16:44:16.943830",
     "status": "completed"
    },
    "tags": []
   },
   "outputs": [
    {
     "data": {
      "text/plain": [
       "array([0.081187 , 0.08546  , 0.098279 , 0.102552 , 0.111098 , 0.119644 ,\n",
       "       0.1217805, 0.1303265, 0.132463 , 0.136736 , 0.141009 , 0.145282 ,\n",
       "       0.149555 , 0.153828 , 0.1559645, 0.158101 , 0.1602375, 0.162374 ,\n",
       "       0.166647 , 0.17092  , 0.175193 , 0.179466 , 0.183739 , 0.1858755,\n",
       "       0.188012 , 0.1901485, 0.192285 , 0.196558 , 0.200831 , 0.2029675,\n",
       "       0.205104 , 0.209377 , 0.21365  , 0.217923 , 0.222196 , 0.2243325,\n",
       "       0.226469 , 0.230742 , 0.235015 , 0.239288 , 0.243561 , 0.247834 ,\n",
       "       0.252107 , 0.25638  , 0.260653 , 0.2627895, 0.264926 , 0.269199 ,\n",
       "       0.2713355, 0.273472 ])"
      ]
     },
     "execution_count": 20,
     "metadata": {},
     "output_type": "execute_result"
    }
   ],
   "source": [
    "col = train_df_n[\"AB\"]\n",
    "y = train_df_n[dependent]\n",
    "uniques = col.unique()\n",
    "uniques.sort()\n",
    "uniques[:50]"
   ]
  },
  {
   "cell_type": "code",
   "execution_count": 21,
   "id": "413a02f2",
   "metadata": {
    "execution": {
     "iopub.execute_input": "2023-07-24T16:44:17.030099Z",
     "iopub.status.busy": "2023-07-24T16:44:17.029658Z",
     "iopub.status.idle": "2023-07-24T16:44:17.247190Z",
     "shell.execute_reply": "2023-07-24T16:44:17.245780Z"
    },
    "papermill": {
     "duration": 0.244833,
     "end_time": "2023-07-24T16:44:17.249646",
     "exception": false,
     "start_time": "2023-07-24T16:44:17.004813",
     "status": "completed"
    },
    "tags": []
   },
   "outputs": [
    {
     "data": {
      "text/plain": [
       "0.410208"
      ]
     },
     "execution_count": 21,
     "metadata": {},
     "output_type": "execute_result"
    }
   ],
   "source": [
    "scores = np.array([score(col, y, split) for split in uniques])\n",
    "uniques[scores.argmin()]"
   ]
  },
  {
   "cell_type": "code",
   "execution_count": 22,
   "id": "eed27115",
   "metadata": {
    "execution": {
     "iopub.execute_input": "2023-07-24T16:44:17.299049Z",
     "iopub.status.busy": "2023-07-24T16:44:17.298621Z",
     "iopub.status.idle": "2023-07-24T16:44:17.305637Z",
     "shell.execute_reply": "2023-07-24T16:44:17.304339Z"
    },
    "papermill": {
     "duration": 0.035016,
     "end_time": "2023-07-24T16:44:17.308302",
     "exception": false,
     "start_time": "2023-07-24T16:44:17.273286",
     "status": "completed"
    },
    "tags": []
   },
   "outputs": [],
   "source": [
    "def min_column(df, col_name):\n",
    "    col, y = df[col_name], df[dependent]\n",
    "    uniques = col.unique()\n",
    "    scores = np.array([score(col, y, split) for split in uniques])\n",
    "    index = scores.argmin()\n",
    "    return uniques[index], scores[index]"
   ]
  },
  {
   "cell_type": "code",
   "execution_count": 23,
   "id": "0e6b0a27",
   "metadata": {
    "execution": {
     "iopub.execute_input": "2023-07-24T16:44:17.357431Z",
     "iopub.status.busy": "2023-07-24T16:44:17.357028Z",
     "iopub.status.idle": "2023-07-24T16:44:17.570213Z",
     "shell.execute_reply": "2023-07-24T16:44:17.568909Z"
    },
    "papermill": {
     "duration": 0.24057,
     "end_time": "2023-07-24T16:44:17.572930",
     "exception": false,
     "start_time": "2023-07-24T16:44:17.332360",
     "status": "completed"
    },
    "tags": []
   },
   "outputs": [
    {
     "data": {
      "text/plain": [
       "(0.410208, 0.3561906829723693)"
      ]
     },
     "execution_count": 23,
     "metadata": {},
     "output_type": "execute_result"
    }
   ],
   "source": [
    "min_column(train_df_n, \"AB\")"
   ]
  },
  {
   "cell_type": "code",
   "execution_count": 24,
   "id": "43357eb1",
   "metadata": {
    "execution": {
     "iopub.execute_input": "2023-07-24T16:44:17.622176Z",
     "iopub.status.busy": "2023-07-24T16:44:17.621775Z",
     "iopub.status.idle": "2023-07-24T16:44:17.634131Z",
     "shell.execute_reply": "2023-07-24T16:44:17.632967Z"
    },
    "papermill": {
     "duration": 0.039634,
     "end_time": "2023-07-24T16:44:17.636535",
     "exception": false,
     "start_time": "2023-07-24T16:44:17.596901",
     "status": "completed"
    },
    "tags": []
   },
   "outputs": [
    {
     "data": {
      "text/plain": [
       "(0, 0.3773339803468088)"
      ]
     },
     "execution_count": 24,
     "metadata": {},
     "output_type": "execute_result"
    }
   ],
   "source": [
    "min_column(train_df_n, \"EJ\")"
   ]
  },
  {
   "cell_type": "code",
   "execution_count": 25,
   "id": "a6492aec",
   "metadata": {
    "execution": {
     "iopub.execute_input": "2023-07-24T16:44:17.686744Z",
     "iopub.status.busy": "2023-07-24T16:44:17.686346Z",
     "iopub.status.idle": "2023-07-24T16:44:38.570938Z",
     "shell.execute_reply": "2023-07-24T16:44:38.569633Z"
    },
    "papermill": {
     "duration": 20.912843,
     "end_time": "2023-07-24T16:44:38.573740",
     "exception": false,
     "start_time": "2023-07-24T16:44:17.660897",
     "status": "completed"
    },
    "tags": []
   },
   "outputs": [],
   "source": [
    "columns = conts + categoricals\n",
    "splits = {col: min_column(train_df_n, col) for col in columns}"
   ]
  },
  {
   "cell_type": "code",
   "execution_count": 26,
   "id": "bb3dc767",
   "metadata": {
    "execution": {
     "iopub.execute_input": "2023-07-24T16:44:38.623190Z",
     "iopub.status.busy": "2023-07-24T16:44:38.622692Z",
     "iopub.status.idle": "2023-07-24T16:44:38.634639Z",
     "shell.execute_reply": "2023-07-24T16:44:38.633366Z"
    },
    "papermill": {
     "duration": 0.039474,
     "end_time": "2023-07-24T16:44:38.636901",
     "exception": false,
     "start_time": "2023-07-24T16:44:38.597427",
     "status": "completed"
    },
    "tags": []
   },
   "outputs": [
    {
     "data": {
      "text/plain": [
       "{'AB': (0.410208, 0.3561906829723693),\n",
       " 'AF': (2808.64232, 0.35583548065304915),\n",
       " 'AH': (193.801377, 0.3761985927636321),\n",
       " 'AM': (149.318758, 0.367338331639673),\n",
       " 'AR': (16.327194, 0.3678281215243884),\n",
       " 'AX': (17.877462, 0.37677322461475915),\n",
       " 'AY': (0.6019965, 0.37677322461475915),\n",
       " 'AZ': (10.971782, 0.3782810033906922),\n",
       " 'BC': (13.500788, 0.35968813799570454),\n",
       " 'BD ': (12083.34891, 0.3749922782916859),\n",
       " 'BN': (21.186, 0.3651185274145938),\n",
       " 'BP': (196.710795, 0.3725348222558456),\n",
       " 'BQ': (115.695865, 0.3668876611761174),\n",
       " 'BR': (3466.745415, 0.374094640781585),\n",
       " 'BZ': (2885.319798, 0.376211243844383),\n",
       " 'CB': (13.32695, 0.37775055805021784),\n",
       " 'CC': (0.5478777, 0.3665150807004323),\n",
       " 'CD ': (85.955376, 0.3635292346687648),\n",
       " 'CF': (1.8504485, 0.367406050093466),\n",
       " 'CH': (0.016318, 0.3782672405025747),\n",
       " 'CL': (1.24754, 0.37657306471010377),\n",
       " 'CR': (0.527325, 0.35228611051878406),\n",
       " 'CS': (62.2516675, 0.37277362672289577),\n",
       " 'CU': (1.274427, 0.37534114864714596),\n",
       " 'CW ': (35.67944, 0.3772898765041537),\n",
       " 'DA': (27.36564, 0.353137425790351),\n",
       " 'DE': (149.18453, 0.3625701653246753),\n",
       " 'DF': (0.500175, 0.36551421649454285),\n",
       " 'DH': (0.240504, 0.3671902453269601),\n",
       " 'DI': (253.8155925, 0.3550252288774408),\n",
       " 'DL': (134.1642, 0.37162996473999704),\n",
       " 'DN': (59.068544, 0.3749922782916859),\n",
       " 'DU': (2.27601, 0.3207517917154871),\n",
       " 'DV': (2.19891, 0.37819979248926816),\n",
       " 'DY': (4.474032, 0.3708655621394996),\n",
       " 'EB': (6.269316, 0.3625606667600181),\n",
       " 'EE': (1.463253, 0.36191183975348784),\n",
       " 'EG': (6845.912275, 0.37731357741606586),\n",
       " 'EH': (0.389376, 0.3593626675299252),\n",
       " 'EL': (46.05744, 0.37829464648148575),\n",
       " 'EP': (224.078075, 0.37429306818140773),\n",
       " 'EU': (8.497392, 0.3699652228963962),\n",
       " 'FC': (13.33752, 0.37580636037706155),\n",
       " 'FD ': (8.151501, 0.3607755013721559),\n",
       " 'FE': (15667.04141, 0.3658514670660312),\n",
       " 'FI': (8.9724075, 0.3657210528731738),\n",
       " 'FL': (7.925430474, 0.3436877494985317),\n",
       " 'FR': (2.73702, 0.365585424163423),\n",
       " 'FS': (0.839852, 0.37680072033409695),\n",
       " 'GB': (40.435794, 0.37726637931071944),\n",
       " 'GE': (363.134821, 0.37718575251296815),\n",
       " 'GF': (14737.27446, 0.37078665888029855),\n",
       " 'GH': (61.028121, 0.3762112438443829),\n",
       " 'GI': (117.6047, 0.3767203577225661),\n",
       " 'GL': (0.121055405, 0.3450719268397208),\n",
       " 'EJ': (0, 0.3773339803468088)}"
      ]
     },
     "execution_count": 26,
     "metadata": {},
     "output_type": "execute_result"
    }
   ],
   "source": [
    "splits"
   ]
  },
  {
   "cell_type": "code",
   "execution_count": 27,
   "id": "52639ab5",
   "metadata": {
    "execution": {
     "iopub.execute_input": "2023-07-24T16:44:38.686199Z",
     "iopub.status.busy": "2023-07-24T16:44:38.685810Z",
     "iopub.status.idle": "2023-07-24T16:44:38.694136Z",
     "shell.execute_reply": "2023-07-24T16:44:38.692987Z"
    },
    "papermill": {
     "duration": 0.035929,
     "end_time": "2023-07-24T16:44:38.696448",
     "exception": false,
     "start_time": "2023-07-24T16:44:38.660519",
     "status": "completed"
    },
    "tags": []
   },
   "outputs": [
    {
     "data": {
      "text/plain": [
       "('DU', (2.27601, 0.3207517917154871))"
      ]
     },
     "execution_count": 27,
     "metadata": {},
     "output_type": "execute_result"
    }
   ],
   "source": [
    "min_score = 1\n",
    "for k, v in splits.items():\n",
    "    if v[1] < min_score:\n",
    "        min_score = v[1]\n",
    "        min_score_column = k\n",
    "min_score_column, splits[min_score_column]"
   ]
  },
  {
   "cell_type": "code",
   "execution_count": 28,
   "id": "db228b40",
   "metadata": {
    "execution": {
     "iopub.execute_input": "2023-07-24T16:44:38.746055Z",
     "iopub.status.busy": "2023-07-24T16:44:38.745633Z",
     "iopub.status.idle": "2023-07-24T16:44:38.754438Z",
     "shell.execute_reply": "2023-07-24T16:44:38.753288Z"
    },
    "papermill": {
     "duration": 0.036495,
     "end_time": "2023-07-24T16:44:38.756872",
     "exception": false,
     "start_time": "2023-07-24T16:44:38.720377",
     "status": "completed"
    },
    "tags": []
   },
   "outputs": [],
   "source": [
    "random.seed(42)\n",
    "model_train, model_val = train_test_split(train_df_n,  test_size=0.25)"
   ]
  },
  {
   "cell_type": "code",
   "execution_count": 29,
   "id": "af257808",
   "metadata": {
    "execution": {
     "iopub.execute_input": "2023-07-24T16:44:38.806052Z",
     "iopub.status.busy": "2023-07-24T16:44:38.805634Z",
     "iopub.status.idle": "2023-07-24T16:44:38.813349Z",
     "shell.execute_reply": "2023-07-24T16:44:38.812218Z"
    },
    "papermill": {
     "duration": 0.035087,
     "end_time": "2023-07-24T16:44:38.815789",
     "exception": false,
     "start_time": "2023-07-24T16:44:38.780702",
     "status": "completed"
    },
    "tags": []
   },
   "outputs": [
    {
     "data": {
      "text/plain": [
       "((462, 58), (155, 58))"
      ]
     },
     "execution_count": 29,
     "metadata": {},
     "output_type": "execute_result"
    }
   ],
   "source": [
    "model_train.shape, model_val.shape"
   ]
  },
  {
   "cell_type": "code",
   "execution_count": 30,
   "id": "826b8577",
   "metadata": {
    "execution": {
     "iopub.execute_input": "2023-07-24T16:44:38.865624Z",
     "iopub.status.busy": "2023-07-24T16:44:38.865223Z",
     "iopub.status.idle": "2023-07-24T16:44:38.874010Z",
     "shell.execute_reply": "2023-07-24T16:44:38.872794Z"
    },
    "papermill": {
     "duration": 0.036331,
     "end_time": "2023-07-24T16:44:38.876334",
     "exception": false,
     "start_time": "2023-07-24T16:44:38.840003",
     "status": "completed"
    },
    "tags": []
   },
   "outputs": [],
   "source": [
    "def x_y(df):\n",
    "    return df[conts + categoricals], df[dependent]\n",
    "\n",
    "model_train_x, model_train_y = x_y(model_train)\n",
    "model_val_x, model_val_y = x_y(model_val)"
   ]
  },
  {
   "cell_type": "code",
   "execution_count": 31,
   "id": "200f56c2",
   "metadata": {
    "execution": {
     "iopub.execute_input": "2023-07-24T16:44:38.926349Z",
     "iopub.status.busy": "2023-07-24T16:44:38.925940Z",
     "iopub.status.idle": "2023-07-24T16:44:54.658739Z",
     "shell.execute_reply": "2023-07-24T16:44:54.657510Z"
    },
    "papermill": {
     "duration": 15.761202,
     "end_time": "2023-07-24T16:44:54.661616",
     "exception": false,
     "start_time": "2023-07-24T16:44:38.900414",
     "status": "completed"
    },
    "tags": []
   },
   "outputs": [],
   "source": [
    "one_r_splits = {col: min_column(model_train, col) for col in model_train_x.columns}"
   ]
  },
  {
   "cell_type": "code",
   "execution_count": 32,
   "id": "f8283bdf",
   "metadata": {
    "execution": {
     "iopub.execute_input": "2023-07-24T16:44:54.712831Z",
     "iopub.status.busy": "2023-07-24T16:44:54.712370Z",
     "iopub.status.idle": "2023-07-24T16:44:54.724108Z",
     "shell.execute_reply": "2023-07-24T16:44:54.722940Z"
    },
    "papermill": {
     "duration": 0.039814,
     "end_time": "2023-07-24T16:44:54.726650",
     "exception": false,
     "start_time": "2023-07-24T16:44:54.686836",
     "status": "completed"
    },
    "tags": []
   },
   "outputs": [
    {
     "data": {
      "text/plain": [
       "{'AB': (0.581128, 0.3500151266645586),\n",
       " 'AF': (2807.2121, 0.3482960305933906),\n",
       " 'AH': (196.117971, 0.37031622929971825),\n",
       " 'AM': (113.124119, 0.3677805771621117),\n",
       " 'AR': (15.870966, 0.36607803019531715),\n",
       " 'AX': (17.877462, 0.3701715230565572),\n",
       " 'AY': (0.038976, 0.372511904676532),\n",
       " 'AZ': (23.626198, 0.3735437010139049),\n",
       " 'BC': (13.500788, 0.35865783745331065),\n",
       " 'BD ': (10563.27538, 0.37017152305655715),\n",
       " 'BN': (20.8329, 0.36082123208699335),\n",
       " 'BP': (282.245337, 0.36079488319104713),\n",
       " 'BQ': (69.65249, 0.36180119785038894),\n",
       " 'BR': (5161.327397, 0.36527011004085347),\n",
       " 'BZ': (2885.319798, 0.36963503519601426),\n",
       " 'CB': (12.931737, 0.37244503925274197),\n",
       " 'CC': (0.61375644, 0.3617285103240913),\n",
       " 'CD ': (85.68186, 0.3631411826566342),\n",
       " 'CF': (1.8504485, 0.36160897217069404),\n",
       " 'CH': (0.012338, 0.3725637613110524),\n",
       " 'CL': (1.24754, 0.3725459888575431),\n",
       " 'CR': (0.527325, 0.34941117879168376),\n",
       " 'CS': (62.2516675, 0.3671272819598272),\n",
       " 'CU': (1.125468, 0.366462462615929),\n",
       " 'CW ': (35.67944, 0.3672847631433858),\n",
       " 'DA': (29.1194, 0.3463316955107069),\n",
       " 'DE': (155.36692, 0.36119828797693376),\n",
       " 'DF': (0.500175, 0.3650918054126017),\n",
       " 'DH': (0.2719335, 0.362288870397952),\n",
       " 'DI': (192.67764, 0.34941117879168376),\n",
       " 'DL': (134.1642, 0.3646293261032984),\n",
       " 'DN': (21.024744, 0.36748569748798376),\n",
       " 'DU': (2.262216, 0.3196074664465314),\n",
       " 'DV': (1.74307, 0.37176172009930203),\n",
       " 'DY': (3.890072, 0.3676248337188574),\n",
       " 'EB': (6.269316, 0.35697558261424034),\n",
       " 'EE': (1.463253, 0.35748838200348587),\n",
       " 'EG': (6845.912275, 0.3720728224305451),\n",
       " 'EH': (1.521, 0.3527183592451205),\n",
       " 'EL': (11.094798, 0.3725637613110524),\n",
       " 'EP': (224.078075, 0.36960833445153146),\n",
       " 'EU': (6.537624, 0.36450134846788734),\n",
       " 'FC': (13.286112, 0.3705960987901368),\n",
       " 'FD ': (8.151501, 0.35395076856984536),\n",
       " 'FE': (28141.50595, 0.3638562145037893),\n",
       " 'FI': (8.9724075, 0.3603920499475795),\n",
       " 'FL': (6.720894827, 0.34161499102282883),\n",
       " 'FR': (2.86346, 0.3523235128808954),\n",
       " 'FS': (0.88049, 0.36984546183970063),\n",
       " 'GB': (34.845292, 0.36994696490448187),\n",
       " 'GE': (771.058022, 0.3735437010139049),\n",
       " 'GF': (14412.89425, 0.36657418543636233),\n",
       " 'GH': (62.47559, 0.3677289926805099),\n",
       " 'GI': (105.603748, 0.3712885732260451),\n",
       " 'GL': (0.121055405, 0.34590901176068733),\n",
       " 'EJ': (0, 0.37298104861476167)}"
      ]
     },
     "execution_count": 32,
     "metadata": {},
     "output_type": "execute_result"
    }
   ],
   "source": [
    "one_r_splits"
   ]
  },
  {
   "cell_type": "code",
   "execution_count": 33,
   "id": "ac1adab1",
   "metadata": {
    "execution": {
     "iopub.execute_input": "2023-07-24T16:44:54.777147Z",
     "iopub.status.busy": "2023-07-24T16:44:54.776679Z",
     "iopub.status.idle": "2023-07-24T16:44:54.786283Z",
     "shell.execute_reply": "2023-07-24T16:44:54.785073Z"
    },
    "papermill": {
     "duration": 0.037629,
     "end_time": "2023-07-24T16:44:54.788679",
     "exception": false,
     "start_time": "2023-07-24T16:44:54.751050",
     "status": "completed"
    },
    "tags": []
   },
   "outputs": [
    {
     "data": {
      "text/plain": [
       "('DU', (2.262216, 0.3196074664465314))"
      ]
     },
     "execution_count": 33,
     "metadata": {},
     "output_type": "execute_result"
    }
   ],
   "source": [
    "def get_best_split(splits):\n",
    "    min_score = 1\n",
    "    for k, v in splits.items():\n",
    "        if v[1] < min_score:\n",
    "            min_score = v[1]\n",
    "            min_score_column = k\n",
    "    return min_score_column, splits[min_score_column]\n",
    "\n",
    "column, split = get_best_split(one_r_splits)\n",
    "column, split"
   ]
  },
  {
   "cell_type": "code",
   "execution_count": 34,
   "id": "ee885f6f",
   "metadata": {
    "execution": {
     "iopub.execute_input": "2023-07-24T16:44:54.839569Z",
     "iopub.status.busy": "2023-07-24T16:44:54.839186Z",
     "iopub.status.idle": "2023-07-24T16:44:54.845066Z",
     "shell.execute_reply": "2023-07-24T16:44:54.843841Z"
    },
    "papermill": {
     "duration": 0.034188,
     "end_time": "2023-07-24T16:44:54.847548",
     "exception": false,
     "start_time": "2023-07-24T16:44:54.813360",
     "status": "completed"
    },
    "tags": []
   },
   "outputs": [],
   "source": [
    "preds = model_val_x[\"DU\"] <= 2.262216"
   ]
  },
  {
   "cell_type": "code",
   "execution_count": 35,
   "id": "bae2f1e0",
   "metadata": {
    "execution": {
     "iopub.execute_input": "2023-07-24T16:44:54.897930Z",
     "iopub.status.busy": "2023-07-24T16:44:54.897509Z",
     "iopub.status.idle": "2023-07-24T16:44:54.905883Z",
     "shell.execute_reply": "2023-07-24T16:44:54.904775Z"
    },
    "papermill": {
     "duration": 0.035999,
     "end_time": "2023-07-24T16:44:54.908032",
     "exception": false,
     "start_time": "2023-07-24T16:44:54.872033",
     "status": "completed"
    },
    "tags": []
   },
   "outputs": [
    {
     "data": {
      "text/plain": [
       "0.864516129032258"
      ]
     },
     "execution_count": 35,
     "metadata": {},
     "output_type": "execute_result"
    }
   ],
   "source": [
    "mean_absolute_error(model_val_y, preds)"
   ]
  },
  {
   "cell_type": "code",
   "execution_count": 36,
   "id": "f73a3e24",
   "metadata": {
    "execution": {
     "iopub.execute_input": "2023-07-24T16:44:54.958253Z",
     "iopub.status.busy": "2023-07-24T16:44:54.957855Z",
     "iopub.status.idle": "2023-07-24T16:44:54.968775Z",
     "shell.execute_reply": "2023-07-24T16:44:54.967628Z"
    },
    "papermill": {
     "duration": 0.039026,
     "end_time": "2023-07-24T16:44:54.971216",
     "exception": false,
     "start_time": "2023-07-24T16:44:54.932190",
     "status": "completed"
    },
    "tags": []
   },
   "outputs": [
    {
     "data": {
      "text/plain": [
       "25.950508209640226"
      ]
     },
     "execution_count": 36,
     "metadata": {},
     "output_type": "execute_result"
    }
   ],
   "source": [
    "def balanced_logarithmic_loss(y_true, y_pred):\n",
    "    N_1 = np.sum(y_true == 1, axis=0)\n",
    "    N_0 = np.sum(y_true == 0, axis=0)\n",
    "\n",
    "    y_pred = np.maximum(np.minimum(y_pred, 1 - 1e-15), 1e-15)\n",
    "    loss_numerator = - (1/N_0) * np.sum((1 - y_true) * np.log(1-y_pred)) - (1/N_1) * np.sum(y_true * np.log(y_pred))\n",
    "\n",
    "    return loss_numerator / 2\n",
    "\n",
    "balanced_logarithmic_loss(model_val_y.to_numpy(), preds.to_numpy())"
   ]
  },
  {
   "cell_type": "code",
   "execution_count": 37,
   "id": "0353351c",
   "metadata": {
    "execution": {
     "iopub.execute_input": "2023-07-24T16:44:55.022104Z",
     "iopub.status.busy": "2023-07-24T16:44:55.021669Z",
     "iopub.status.idle": "2023-07-24T16:44:55.031420Z",
     "shell.execute_reply": "2023-07-24T16:44:55.030445Z"
    },
    "papermill": {
     "duration": 0.038255,
     "end_time": "2023-07-24T16:44:55.033907",
     "exception": false,
     "start_time": "2023-07-24T16:44:54.995652",
     "status": "completed"
    },
    "tags": []
   },
   "outputs": [
    {
     "data": {
      "text/plain": [
       "((396, 58), (66, 58))"
      ]
     },
     "execution_count": 37,
     "metadata": {},
     "output_type": "execute_result"
    }
   ],
   "source": [
    "lhs = model_train[\"DU\"] <= 2.262216\n",
    "left_group = model_train[lhs]\n",
    "right_group = model_train[~lhs]\n",
    "left_group.shape, right_group.shape"
   ]
  },
  {
   "cell_type": "code",
   "execution_count": 38,
   "id": "5c9ef555",
   "metadata": {
    "execution": {
     "iopub.execute_input": "2023-07-24T16:44:55.086834Z",
     "iopub.status.busy": "2023-07-24T16:44:55.086398Z",
     "iopub.status.idle": "2023-07-24T16:45:10.755543Z",
     "shell.execute_reply": "2023-07-24T16:45:10.754179Z"
    },
    "papermill": {
     "duration": 15.699515,
     "end_time": "2023-07-24T16:45:10.758597",
     "exception": false,
     "start_time": "2023-07-24T16:44:55.059082",
     "status": "completed"
    },
    "tags": []
   },
   "outputs": [
    {
     "data": {
      "text/plain": [
       "({'AB': (0.363205, 0.2205227532918278),\n",
       "  'AF': (1744.8442, 0.26422367520400314),\n",
       "  'AH': (186.276801, 0.28281828339030296),\n",
       "  'AM': (16.333578, 0.2678889313583875),\n",
       "  'AR': (15.870966, 0.2866140712941824),\n",
       "  'AX': (5.244528, 0.2773853964685262),\n",
       "  'AY': (0.6019965, 0.2874443162878375),\n",
       "  'AZ': (8.186298, 0.2851965412728709),\n",
       "  'BC': (13.500788, 0.254228411937528),\n",
       "  'BD ': (10563.27538, 0.28342483094474047),\n",
       "  'BN': (15.1833, 0.2815221656802702),\n",
       "  'BP': (318.7728, 0.27010283692431253),\n",
       "  'BQ': (11.865775, 0.2794184862139197),\n",
       "  'BR': (5161.327397, 0.2752096532354187),\n",
       "  'BZ': (1703.832302, 0.28396363710150363),\n",
       "  'CB': (12.931737, 0.28032816063022753),\n",
       "  'CC': (0.61375644, 0.2699890428677908),\n",
       "  'CD ': (88.048368, 0.2693262549530457),\n",
       "  'CF': (2.548358, 0.27644641567153155),\n",
       "  'CH': (0.016716, 0.2836102268644721),\n",
       "  'CL': (1.152065, 0.2817474069769845),\n",
       "  'CR': (0.6729, 0.25077109773069917),\n",
       "  'CS': (55.8007175, 0.2831938474420979),\n",
       "  'CU': (1.059264, 0.2763697098465586),\n",
       "  'CW ': (44.301128, 0.28402599531661465),\n",
       "  'DA': (38.83104, 0.24522761095128734),\n",
       "  'DE': (151.051665, 0.2694259159914128),\n",
       "  'DF': (0.500175, 0.2709760197318968),\n",
       "  'DH': (0.240504, 0.26672971464460576),\n",
       "  'DI': (194.021745, 0.24826322692985892),\n",
       "  'DL': (113.1762, 0.25651840267368864),\n",
       "  'DN': (59.068544, 0.27934746754006307),\n",
       "  'DV': (3.04325, 0.28815065732759965),\n",
       "  'DY': (8.91662, 0.2751628343696961),\n",
       "  'EB': (17.691204, 0.28033350160822096),\n",
       "  'EE': (1.443098, 0.2525775803204561),\n",
       "  'EG': (2330.295275, 0.28380953536491194),\n",
       "  'EH': (0.03042, 0.2776192844889819),\n",
       "  'EL': (24.567972, 0.2708402531316478),\n",
       "  'EP': (224.078075, 0.2873304659747274),\n",
       "  'EU': (6.537624, 0.22930957657304885),\n",
       "  'FC': (26.663616, 0.28636197449296075),\n",
       "  'FD ': (5.325489, 0.270404190514022),\n",
       "  'FE': (15667.04141, 0.2782594217449274),\n",
       "  'FI': (7.822947, 0.2738422457069847),\n",
       "  'FL': (0.296625, 0.2858261205083379),\n",
       "  'FR': (2.86346, 0.256970642908978),\n",
       "  'FS': (1.21914, 0.2865342615078834),\n",
       "  'GB': (34.845292, 0.2833625612804258),\n",
       "  'GE': (771.058022, 0.29019098509591523),\n",
       "  'GF': (1571.342004, 0.2846660155262617),\n",
       "  'GH': (43.20081, 0.2795202987385677),\n",
       "  'GI': (8.701076, 0.28277685434606015),\n",
       "  'GL': (0.561, 0.2841560493396353),\n",
       "  'EJ': (0, 0.2877201690556401)},\n",
       " {'AB': (0.235015, 0.4583176806743689),\n",
       "  'AF': (2668.16616, 0.4708737384176801),\n",
       "  'AH': (170.365458, 0.47075213362693974),\n",
       "  'AM': (44.401689, 0.4646573463122341),\n",
       "  'AR': (14.727774, 0.44553059864417316),\n",
       "  'AX': (6.272172, 0.4432056139475385),\n",
       "  'AY': (0.1068795, 0.45870530538108095),\n",
       "  'AZ': (17.89768, 0.4828616963629532),\n",
       "  'BC': (11.733246, 0.4689554885298609),\n",
       "  'BD ': (7678.43794, 0.4785433967084947),\n",
       "  'BN': (19.0674, 0.4789832263550328),\n",
       "  'BP': (752.38011, 0.4789832263550328),\n",
       "  'BQ': (40.66405, 0.46574855874267257),\n",
       "  'BR': (906.218837, 0.47604720080279034),\n",
       "  'BZ': (2165.826792, 0.48286169636295323),\n",
       "  'CB': (64.134798, 0.48142065877400064),\n",
       "  'CC': (0.28939032, 0.47684593482996557),\n",
       "  'CD ': (38.878912, 0.4645771635252842),\n",
       "  'CF': (2.600055, 0.4493931256642845),\n",
       "  'CH': (0.048158, 0.4789832263550328),\n",
       "  'CL': (3.341625, 0.47684593482996557),\n",
       "  'CR': (0.42195, 0.4645771635252842),\n",
       "  'CS': (26.776673, 0.4519701054647674),\n",
       "  'CU': (0.408258, 0.45870530538108095),\n",
       "  'CW ': (45.734856, 0.47684593482996557),\n",
       "  'DA': (31.61424, 0.4323589687324282),\n",
       "  'DE': (38.189785, 0.4789832263550328),\n",
       "  'DF': (2.976129, 0.4789832263550328),\n",
       "  'DH': (0.524736, 0.4689554885298609),\n",
       "  'DI': (148.8737475, 0.4630168573674233),\n",
       "  'DL': (134.1642, 0.4689554885298609),\n",
       "  'DN': (27.275528, 0.4646573463122341),\n",
       "  'DV': (2.08236, 0.4645771635252842),\n",
       "  'DY': (8.184424, 0.47684593482996557),\n",
       "  'EB': (4.926396, 0.4482172507605322),\n",
       "  'EE': (2.450848, 0.4806126011483664),\n",
       "  'EG': (979.1558875, 0.42561760588538),\n",
       "  'EH': (1.521, 0.4323589687324282),\n",
       "  'EL': (52.693641, 0.4784120740720739),\n",
       "  'EP': (98.5989875, 0.45771848227839446),\n",
       "  'EU': (77.304492, 0.45870530538108095),\n",
       "  'FC': (34.489056, 0.4519040862043542),\n",
       "  'FD ': (31.863879, 0.4519701054647674),\n",
       "  'FE': (20522.19526, 0.4389950342373603),\n",
       "  'FI': (8.616819, 0.42587247147903806),\n",
       "  'FL': (23.9606794, 0.42561760588538),\n",
       "  'FR': (2.51111, 0.47075213362693974),\n",
       "  'FS': (1.571336, 0.4689554885298609),\n",
       "  'GB': (9.888026, 0.47075213362693974),\n",
       "  'GE': (218.570828, 0.4645771635252842),\n",
       "  'GF': (840.636873, 0.47684593482996557),\n",
       "  'GH': (17.767775, 0.44553059864417316),\n",
       "  'GI': (90.493248, 0.42561760588538),\n",
       "  'GL': (0.047863636, 0.40470758822889663),\n",
       "  'EJ': (1, 0.4888023515980042)})"
      ]
     },
     "execution_count": 38,
     "metadata": {},
     "output_type": "execute_result"
    }
   ],
   "source": [
    "second_level_columns = [c for c in (conts + categoricals) if c != \"DU\"]\n",
    "left_splits = {col: min_column(left_group, col) for col in second_level_columns}\n",
    "right_splits = {col: min_column(right_group, col) for col in second_level_columns}\n",
    "left_splits, right_splits"
   ]
  },
  {
   "cell_type": "code",
   "execution_count": 39,
   "id": "26273a6e",
   "metadata": {
    "execution": {
     "iopub.execute_input": "2023-07-24T16:45:10.811960Z",
     "iopub.status.busy": "2023-07-24T16:45:10.811092Z",
     "iopub.status.idle": "2023-07-24T16:45:10.819217Z",
     "shell.execute_reply": "2023-07-24T16:45:10.818021Z"
    },
    "papermill": {
     "duration": 0.037608,
     "end_time": "2023-07-24T16:45:10.821589",
     "exception": false,
     "start_time": "2023-07-24T16:45:10.783981",
     "status": "completed"
    },
    "tags": []
   },
   "outputs": [
    {
     "data": {
      "text/plain": [
       "(('AB', (0.363205, 0.2205227532918278)),\n",
       " ('GL', (0.047863636, 0.40470758822889663)))"
      ]
     },
     "execution_count": 39,
     "metadata": {},
     "output_type": "execute_result"
    }
   ],
   "source": [
    "best_left_split = get_best_split(left_splits)\n",
    "best_right_split = get_best_split(right_splits)\n",
    "best_left_split, best_right_split"
   ]
  },
  {
   "cell_type": "code",
   "execution_count": 40,
   "id": "e2c06b1a",
   "metadata": {
    "execution": {
     "iopub.execute_input": "2023-07-24T16:45:10.874736Z",
     "iopub.status.busy": "2023-07-24T16:45:10.873888Z",
     "iopub.status.idle": "2023-07-24T16:45:10.893869Z",
     "shell.execute_reply": "2023-07-24T16:45:10.892807Z"
    },
    "papermill": {
     "duration": 0.049636,
     "end_time": "2023-07-24T16:45:10.896584",
     "exception": false,
     "start_time": "2023-07-24T16:45:10.846948",
     "status": "completed"
    },
    "tags": []
   },
   "outputs": [],
   "source": [
    "model = DecisionTreeClassifier(max_leaf_nodes=4).fit(model_train_x, model_train_y)"
   ]
  },
  {
   "cell_type": "code",
   "execution_count": 41,
   "id": "05da0a60",
   "metadata": {
    "execution": {
     "iopub.execute_input": "2023-07-24T16:45:10.950149Z",
     "iopub.status.busy": "2023-07-24T16:45:10.949300Z",
     "iopub.status.idle": "2023-07-24T16:45:10.956395Z",
     "shell.execute_reply": "2023-07-24T16:45:10.955404Z"
    },
    "papermill": {
     "duration": 0.036988,
     "end_time": "2023-07-24T16:45:10.958987",
     "exception": false,
     "start_time": "2023-07-24T16:45:10.921999",
     "status": "completed"
    },
    "tags": []
   },
   "outputs": [],
   "source": [
    "def draw_tree(tree, df, size=10, ratio=0.6, precision=2, **kwargs):\n",
    "    dot_format = export_graphviz(tree, out_file=None, feature_names=df.columns, filled=True, rounded=True,\n",
    "                                special_characters=True, rotate=False, precision=precision, **kwargs)\n",
    "    return graphviz.Source(re.sub('Tree {', f'Tree {{ size={size}; ratio={ratio}', dot_format))"
   ]
  },
  {
   "cell_type": "code",
   "execution_count": 42,
   "id": "150a5f26",
   "metadata": {
    "execution": {
     "iopub.execute_input": "2023-07-24T16:45:11.016195Z",
     "iopub.status.busy": "2023-07-24T16:45:11.015706Z",
     "iopub.status.idle": "2023-07-24T16:45:11.021318Z",
     "shell.execute_reply": "2023-07-24T16:45:11.020015Z"
    },
    "papermill": {
     "duration": 0.038888,
     "end_time": "2023-07-24T16:45:11.024293",
     "exception": false,
     "start_time": "2023-07-24T16:45:10.985405",
     "status": "completed"
    },
    "tags": []
   },
   "outputs": [],
   "source": [
    "#draw_tree(model, model_train_x, size=10)"
   ]
  },
  {
   "cell_type": "code",
   "execution_count": 43,
   "id": "6ec6bbe6",
   "metadata": {
    "execution": {
     "iopub.execute_input": "2023-07-24T16:45:11.077510Z",
     "iopub.status.busy": "2023-07-24T16:45:11.077074Z",
     "iopub.status.idle": "2023-07-24T16:45:11.083150Z",
     "shell.execute_reply": "2023-07-24T16:45:11.081749Z"
    },
    "papermill": {
     "duration": 0.036188,
     "end_time": "2023-07-24T16:45:11.086010",
     "exception": false,
     "start_time": "2023-07-24T16:45:11.049822",
     "status": "completed"
    },
    "tags": []
   },
   "outputs": [],
   "source": [
    "def gini(df, condition):\n",
    "    actual = df.loc[condition, dependent]\n",
    "    return 1 - actual.mean()**2 - (1-actual).mean()**2"
   ]
  },
  {
   "cell_type": "code",
   "execution_count": 44,
   "id": "0a5a233d",
   "metadata": {
    "execution": {
     "iopub.execute_input": "2023-07-24T16:45:11.140927Z",
     "iopub.status.busy": "2023-07-24T16:45:11.140516Z",
     "iopub.status.idle": "2023-07-24T16:45:11.151094Z",
     "shell.execute_reply": "2023-07-24T16:45:11.149586Z"
    },
    "papermill": {
     "duration": 0.041471,
     "end_time": "2023-07-24T16:45:11.153859",
     "exception": false,
     "start_time": "2023-07-24T16:45:11.112388",
     "status": "completed"
    },
    "tags": []
   },
   "outputs": [
    {
     "data": {
      "text/plain": [
       "(0.16940873380267307, 0.47061524334251614)"
      ]
     },
     "execution_count": 44,
     "metadata": {},
     "output_type": "execute_result"
    }
   ],
   "source": [
    "gini(model_train, model_train['DU'] <= 2.28), gini(model_train, model_train['DU'] > 2.28)"
   ]
  },
  {
   "cell_type": "code",
   "execution_count": 45,
   "id": "776f15c6",
   "metadata": {
    "execution": {
     "iopub.execute_input": "2023-07-24T16:45:11.207742Z",
     "iopub.status.busy": "2023-07-24T16:45:11.207279Z",
     "iopub.status.idle": "2023-07-24T16:45:11.219968Z",
     "shell.execute_reply": "2023-07-24T16:45:11.218553Z"
    },
    "papermill": {
     "duration": 0.042482,
     "end_time": "2023-07-24T16:45:11.222553",
     "exception": false,
     "start_time": "2023-07-24T16:45:11.180071",
     "status": "completed"
    },
    "tags": []
   },
   "outputs": [
    {
     "data": {
      "text/plain": [
       "0.11612903225806452"
      ]
     },
     "execution_count": 45,
     "metadata": {},
     "output_type": "execute_result"
    }
   ],
   "source": [
    "preds = model.predict(model_val_x)\n",
    "mean_absolute_error(model_val_y, preds)"
   ]
  },
  {
   "cell_type": "code",
   "execution_count": 46,
   "id": "9a94dbfa",
   "metadata": {
    "execution": {
     "iopub.execute_input": "2023-07-24T16:45:11.276408Z",
     "iopub.status.busy": "2023-07-24T16:45:11.275966Z",
     "iopub.status.idle": "2023-07-24T16:45:11.283919Z",
     "shell.execute_reply": "2023-07-24T16:45:11.282776Z"
    },
    "papermill": {
     "duration": 0.037821,
     "end_time": "2023-07-24T16:45:11.286249",
     "exception": false,
     "start_time": "2023-07-24T16:45:11.248428",
     "status": "completed"
    },
    "tags": []
   },
   "outputs": [
    {
     "data": {
      "text/plain": [
       "5.549265256402579"
      ]
     },
     "execution_count": 46,
     "metadata": {},
     "output_type": "execute_result"
    }
   ],
   "source": [
    "balanced_logarithmic_loss(model_val_y.to_numpy(), preds)"
   ]
  },
  {
   "cell_type": "code",
   "execution_count": 47,
   "id": "8fe100ca",
   "metadata": {
    "execution": {
     "iopub.execute_input": "2023-07-24T16:45:11.340440Z",
     "iopub.status.busy": "2023-07-24T16:45:11.339472Z",
     "iopub.status.idle": "2023-07-24T16:45:11.365194Z",
     "shell.execute_reply": "2023-07-24T16:45:11.364004Z"
    },
    "papermill": {
     "duration": 0.055722,
     "end_time": "2023-07-24T16:45:11.367845",
     "exception": false,
     "start_time": "2023-07-24T16:45:11.312123",
     "status": "completed"
    },
    "tags": []
   },
   "outputs": [
    {
     "data": {
      "text/html": [
       "<style>#sk-container-id-1 {color: black;background-color: white;}#sk-container-id-1 pre{padding: 0;}#sk-container-id-1 div.sk-toggleable {background-color: white;}#sk-container-id-1 label.sk-toggleable__label {cursor: pointer;display: block;width: 100%;margin-bottom: 0;padding: 0.3em;box-sizing: border-box;text-align: center;}#sk-container-id-1 label.sk-toggleable__label-arrow:before {content: \"▸\";float: left;margin-right: 0.25em;color: #696969;}#sk-container-id-1 label.sk-toggleable__label-arrow:hover:before {color: black;}#sk-container-id-1 div.sk-estimator:hover label.sk-toggleable__label-arrow:before {color: black;}#sk-container-id-1 div.sk-toggleable__content {max-height: 0;max-width: 0;overflow: hidden;text-align: left;background-color: #f0f8ff;}#sk-container-id-1 div.sk-toggleable__content pre {margin: 0.2em;color: black;border-radius: 0.25em;background-color: #f0f8ff;}#sk-container-id-1 input.sk-toggleable__control:checked~div.sk-toggleable__content {max-height: 200px;max-width: 100%;overflow: auto;}#sk-container-id-1 input.sk-toggleable__control:checked~label.sk-toggleable__label-arrow:before {content: \"▾\";}#sk-container-id-1 div.sk-estimator input.sk-toggleable__control:checked~label.sk-toggleable__label {background-color: #d4ebff;}#sk-container-id-1 div.sk-label input.sk-toggleable__control:checked~label.sk-toggleable__label {background-color: #d4ebff;}#sk-container-id-1 input.sk-hidden--visually {border: 0;clip: rect(1px 1px 1px 1px);clip: rect(1px, 1px, 1px, 1px);height: 1px;margin: -1px;overflow: hidden;padding: 0;position: absolute;width: 1px;}#sk-container-id-1 div.sk-estimator {font-family: monospace;background-color: #f0f8ff;border: 1px dotted black;border-radius: 0.25em;box-sizing: border-box;margin-bottom: 0.5em;}#sk-container-id-1 div.sk-estimator:hover {background-color: #d4ebff;}#sk-container-id-1 div.sk-parallel-item::after {content: \"\";width: 100%;border-bottom: 1px solid gray;flex-grow: 1;}#sk-container-id-1 div.sk-label:hover label.sk-toggleable__label {background-color: #d4ebff;}#sk-container-id-1 div.sk-serial::before {content: \"\";position: absolute;border-left: 1px solid gray;box-sizing: border-box;top: 0;bottom: 0;left: 50%;z-index: 0;}#sk-container-id-1 div.sk-serial {display: flex;flex-direction: column;align-items: center;background-color: white;padding-right: 0.2em;padding-left: 0.2em;position: relative;}#sk-container-id-1 div.sk-item {position: relative;z-index: 1;}#sk-container-id-1 div.sk-parallel {display: flex;align-items: stretch;justify-content: center;background-color: white;position: relative;}#sk-container-id-1 div.sk-item::before, #sk-container-id-1 div.sk-parallel-item::before {content: \"\";position: absolute;border-left: 1px solid gray;box-sizing: border-box;top: 0;bottom: 0;left: 50%;z-index: -1;}#sk-container-id-1 div.sk-parallel-item {display: flex;flex-direction: column;z-index: 1;position: relative;background-color: white;}#sk-container-id-1 div.sk-parallel-item:first-child::after {align-self: flex-end;width: 50%;}#sk-container-id-1 div.sk-parallel-item:last-child::after {align-self: flex-start;width: 50%;}#sk-container-id-1 div.sk-parallel-item:only-child::after {width: 0;}#sk-container-id-1 div.sk-dashed-wrapped {border: 1px dashed gray;margin: 0 0.4em 0.5em 0.4em;box-sizing: border-box;padding-bottom: 0.4em;background-color: white;}#sk-container-id-1 div.sk-label label {font-family: monospace;font-weight: bold;display: inline-block;line-height: 1.2em;}#sk-container-id-1 div.sk-label-container {text-align: center;}#sk-container-id-1 div.sk-container {/* jupyter's `normalize.less` sets `[hidden] { display: none; }` but bootstrap.min.css set `[hidden] { display: none !important; }` so we also need the `!important` here to be able to override the default hidden behavior on the sphinx rendered scikit-learn.org. See: https://github.com/scikit-learn/scikit-learn/issues/21755 */display: inline-block !important;position: relative;}#sk-container-id-1 div.sk-text-repr-fallback {display: none;}</style><div id=\"sk-container-id-1\" class=\"sk-top-container\"><div class=\"sk-text-repr-fallback\"><pre>DecisionTreeClassifier(min_samples_leaf=50)</pre><b>In a Jupyter environment, please rerun this cell to show the HTML representation or trust the notebook. <br />On GitHub, the HTML representation is unable to render, please try loading this page with nbviewer.org.</b></div><div class=\"sk-container\" hidden><div class=\"sk-item\"><div class=\"sk-estimator sk-toggleable\"><input class=\"sk-toggleable__control sk-hidden--visually\" id=\"sk-estimator-id-1\" type=\"checkbox\" checked><label for=\"sk-estimator-id-1\" class=\"sk-toggleable__label sk-toggleable__label-arrow\">DecisionTreeClassifier</label><div class=\"sk-toggleable__content\"><pre>DecisionTreeClassifier(min_samples_leaf=50)</pre></div></div></div></div></div>"
      ],
      "text/plain": [
       "DecisionTreeClassifier(min_samples_leaf=50)"
      ]
     },
     "execution_count": 47,
     "metadata": {},
     "output_type": "execute_result"
    }
   ],
   "source": [
    "model = DecisionTreeClassifier(min_samples_leaf=50)\n",
    "model.fit(model_train_x, model_train_y)\n",
    "#draw_tree(model, model_train_x, size=12)"
   ]
  },
  {
   "cell_type": "code",
   "execution_count": 48,
   "id": "a09cfd81",
   "metadata": {
    "execution": {
     "iopub.execute_input": "2023-07-24T16:45:11.424536Z",
     "iopub.status.busy": "2023-07-24T16:45:11.423634Z",
     "iopub.status.idle": "2023-07-24T16:45:11.435158Z",
     "shell.execute_reply": "2023-07-24T16:45:11.434167Z"
    },
    "papermill": {
     "duration": 0.041775,
     "end_time": "2023-07-24T16:45:11.437438",
     "exception": false,
     "start_time": "2023-07-24T16:45:11.395663",
     "status": "completed"
    },
    "tags": []
   },
   "outputs": [
    {
     "data": {
      "text/plain": [
       "(0.12903225806451613, 8.450509680016193)"
      ]
     },
     "execution_count": 48,
     "metadata": {},
     "output_type": "execute_result"
    }
   ],
   "source": [
    "preds = model.predict(model_val_x)\n",
    "\n",
    "mean_absolute_error(model_val_y, preds), balanced_logarithmic_loss(model_val_y.to_numpy(), preds)"
   ]
  },
  {
   "cell_type": "code",
   "execution_count": 49,
   "id": "c7718f8a",
   "metadata": {
    "execution": {
     "iopub.execute_input": "2023-07-24T16:45:11.493323Z",
     "iopub.status.busy": "2023-07-24T16:45:11.492895Z",
     "iopub.status.idle": "2023-07-24T16:45:11.500648Z",
     "shell.execute_reply": "2023-07-24T16:45:11.499687Z"
    },
    "papermill": {
     "duration": 0.038846,
     "end_time": "2023-07-24T16:45:11.503195",
     "exception": false,
     "start_time": "2023-07-24T16:45:11.464349",
     "status": "completed"
    },
    "tags": []
   },
   "outputs": [],
   "source": [
    "def get_tree(proportion=0.75):\n",
    "    n = len(model_train_y)\n",
    "    indexes = random.choice(n, int(n*proportion))\n",
    "    return DecisionTreeClassifier(min_samples_leaf=5).fit(model_train_x.iloc[indexes], model_train_y.iloc[indexes])  "
   ]
  },
  {
   "cell_type": "code",
   "execution_count": 50,
   "id": "960eb86f",
   "metadata": {
    "execution": {
     "iopub.execute_input": "2023-07-24T16:45:11.560281Z",
     "iopub.status.busy": "2023-07-24T16:45:11.559868Z",
     "iopub.status.idle": "2023-07-24T16:45:12.735484Z",
     "shell.execute_reply": "2023-07-24T16:45:12.734570Z"
    },
    "papermill": {
     "duration": 1.207827,
     "end_time": "2023-07-24T16:45:12.737879",
     "exception": false,
     "start_time": "2023-07-24T16:45:11.530052",
     "status": "completed"
    },
    "tags": []
   },
   "outputs": [
    {
     "data": {
      "text/plain": [
       "[DecisionTreeClassifier(min_samples_leaf=5),\n",
       " DecisionTreeClassifier(min_samples_leaf=5),\n",
       " DecisionTreeClassifier(min_samples_leaf=5),\n",
       " DecisionTreeClassifier(min_samples_leaf=5),\n",
       " DecisionTreeClassifier(min_samples_leaf=5)]"
      ]
     },
     "execution_count": 50,
     "metadata": {},
     "output_type": "execute_result"
    }
   ],
   "source": [
    "trees = [get_tree() for _ in range(100)]\n",
    "trees[:5]"
   ]
  },
  {
   "cell_type": "code",
   "execution_count": 51,
   "id": "074c183c",
   "metadata": {
    "execution": {
     "iopub.execute_input": "2023-07-24T16:45:12.794020Z",
     "iopub.status.busy": "2023-07-24T16:45:12.793553Z",
     "iopub.status.idle": "2023-07-24T16:45:12.998165Z",
     "shell.execute_reply": "2023-07-24T16:45:12.996879Z"
    },
    "papermill": {
     "duration": 0.236135,
     "end_time": "2023-07-24T16:45:13.001084",
     "exception": false,
     "start_time": "2023-07-24T16:45:12.764949",
     "status": "completed"
    },
    "tags": []
   },
   "outputs": [],
   "source": [
    "all_preds = [t.predict(model_val_x) for t in trees]\n",
    "avg_preds = np.stack(all_preds).mean(axis=0)"
   ]
  },
  {
   "cell_type": "code",
   "execution_count": 52,
   "id": "0151ead3",
   "metadata": {
    "execution": {
     "iopub.execute_input": "2023-07-24T16:45:13.057911Z",
     "iopub.status.busy": "2023-07-24T16:45:13.057470Z",
     "iopub.status.idle": "2023-07-24T16:45:13.066854Z",
     "shell.execute_reply": "2023-07-24T16:45:13.065709Z"
    },
    "papermill": {
     "duration": 0.040619,
     "end_time": "2023-07-24T16:45:13.069001",
     "exception": false,
     "start_time": "2023-07-24T16:45:13.028382",
     "status": "completed"
    },
    "tags": []
   },
   "outputs": [
    {
     "data": {
      "text/plain": [
       "(0.1665806451612903, 0.4201347888809029)"
      ]
     },
     "execution_count": 52,
     "metadata": {},
     "output_type": "execute_result"
    }
   ],
   "source": [
    "mean_absolute_error(model_val_y, avg_preds), balanced_logarithmic_loss(model_val_y.to_numpy(), avg_preds)"
   ]
  },
  {
   "cell_type": "code",
   "execution_count": 53,
   "id": "7485c5b0",
   "metadata": {
    "execution": {
     "iopub.execute_input": "2023-07-24T16:45:13.125923Z",
     "iopub.status.busy": "2023-07-24T16:45:13.124630Z",
     "iopub.status.idle": "2023-07-24T16:45:13.509858Z",
     "shell.execute_reply": "2023-07-24T16:45:13.508406Z"
    },
    "papermill": {
     "duration": 0.417005,
     "end_time": "2023-07-24T16:45:13.513124",
     "exception": false,
     "start_time": "2023-07-24T16:45:13.096119",
     "status": "completed"
    },
    "tags": []
   },
   "outputs": [
    {
     "data": {
      "text/plain": [
       "(0.05806451612903226, 5.180816459236603)"
      ]
     },
     "execution_count": 53,
     "metadata": {},
     "output_type": "execute_result"
    }
   ],
   "source": [
    "rf = RandomForestClassifier(n_estimators=100, min_samples_leaf=5)\n",
    "rf.fit(model_train_x, model_train_y)\n",
    "\n",
    "preds =  rf.predict(model_val_x)\n",
    "\n",
    "\n",
    "mean_absolute_error(model_val_y, preds), balanced_logarithmic_loss(model_val_y.to_numpy(), preds)"
   ]
  },
  {
   "cell_type": "code",
   "execution_count": 54,
   "id": "ab271362",
   "metadata": {
    "execution": {
     "iopub.execute_input": "2023-07-24T16:45:13.569934Z",
     "iopub.status.busy": "2023-07-24T16:45:13.569468Z",
     "iopub.status.idle": "2023-07-24T16:45:13.583324Z",
     "shell.execute_reply": "2023-07-24T16:45:13.582374Z"
    },
    "papermill": {
     "duration": 0.044952,
     "end_time": "2023-07-24T16:45:13.585642",
     "exception": false,
     "start_time": "2023-07-24T16:45:13.540690",
     "status": "completed"
    },
    "tags": []
   },
   "outputs": [
    {
     "data": {
      "text/html": [
       "<div>\n",
       "<style scoped>\n",
       "    .dataframe tbody tr th:only-of-type {\n",
       "        vertical-align: middle;\n",
       "    }\n",
       "\n",
       "    .dataframe tbody tr th {\n",
       "        vertical-align: top;\n",
       "    }\n",
       "\n",
       "    .dataframe thead th {\n",
       "        text-align: right;\n",
       "    }\n",
       "</style>\n",
       "<table border=\"1\" class=\"dataframe\">\n",
       "  <thead>\n",
       "    <tr style=\"text-align: right;\">\n",
       "      <th></th>\n",
       "      <th>EJ</th>\n",
       "    </tr>\n",
       "  </thead>\n",
       "  <tbody>\n",
       "    <tr>\n",
       "      <th>0</th>\n",
       "      <td>0</td>\n",
       "    </tr>\n",
       "    <tr>\n",
       "      <th>1</th>\n",
       "      <td>0</td>\n",
       "    </tr>\n",
       "    <tr>\n",
       "      <th>2</th>\n",
       "      <td>0</td>\n",
       "    </tr>\n",
       "    <tr>\n",
       "      <th>3</th>\n",
       "      <td>0</td>\n",
       "    </tr>\n",
       "    <tr>\n",
       "      <th>4</th>\n",
       "      <td>0</td>\n",
       "    </tr>\n",
       "  </tbody>\n",
       "</table>\n",
       "</div>"
      ],
      "text/plain": [
       "   EJ\n",
       "0   0\n",
       "1   0\n",
       "2   0\n",
       "3   0\n",
       "4   0"
      ]
     },
     "execution_count": 54,
     "metadata": {},
     "output_type": "execute_result"
    }
   ],
   "source": [
    "test_df_n = test_df.copy()\n",
    "test_df_n[categoricals] = test_df_n[categoricals].apply(lambda x: x.cat.codes)\n",
    "test_df_n[categoricals].head()"
   ]
  },
  {
   "cell_type": "code",
   "execution_count": 55,
   "id": "6b55ebf4",
   "metadata": {
    "execution": {
     "iopub.execute_input": "2023-07-24T16:45:13.646524Z",
     "iopub.status.busy": "2023-07-24T16:45:13.645977Z",
     "iopub.status.idle": "2023-07-24T16:45:13.676183Z",
     "shell.execute_reply": "2023-07-24T16:45:13.674914Z"
    },
    "papermill": {
     "duration": 0.063396,
     "end_time": "2023-07-24T16:45:13.678929",
     "exception": false,
     "start_time": "2023-07-24T16:45:13.615533",
     "status": "completed"
    },
    "tags": []
   },
   "outputs": [
    {
     "data": {
      "text/plain": [
       "array([[0.58356527, 0.41643473],\n",
       "       [0.58356527, 0.41643473],\n",
       "       [0.58356527, 0.41643473],\n",
       "       [0.58356527, 0.41643473],\n",
       "       [0.58356527, 0.41643473]])"
      ]
     },
     "execution_count": 55,
     "metadata": {},
     "output_type": "execute_result"
    }
   ],
   "source": [
    "columns = conts + categoricals\n",
    "test_probs = rf.predict_proba(test_df_n[columns])\n",
    "test_probs"
   ]
  },
  {
   "cell_type": "code",
   "execution_count": 56,
   "id": "2175d336",
   "metadata": {
    "execution": {
     "iopub.execute_input": "2023-07-24T16:45:13.737857Z",
     "iopub.status.busy": "2023-07-24T16:45:13.736621Z",
     "iopub.status.idle": "2023-07-24T16:45:13.742994Z",
     "shell.execute_reply": "2023-07-24T16:45:13.741783Z"
    },
    "papermill": {
     "duration": 0.038114,
     "end_time": "2023-07-24T16:45:13.745698",
     "exception": false,
     "start_time": "2023-07-24T16:45:13.707584",
     "status": "completed"
    },
    "tags": []
   },
   "outputs": [],
   "source": [
    "sample_submission_df[[\"class_0\", \"class_1\"]] = test_probs"
   ]
  },
  {
   "cell_type": "code",
   "execution_count": 57,
   "id": "93798a36",
   "metadata": {
    "execution": {
     "iopub.execute_input": "2023-07-24T16:45:13.802864Z",
     "iopub.status.busy": "2023-07-24T16:45:13.802409Z",
     "iopub.status.idle": "2023-07-24T16:45:13.811331Z",
     "shell.execute_reply": "2023-07-24T16:45:13.810078Z"
    },
    "papermill": {
     "duration": 0.040514,
     "end_time": "2023-07-24T16:45:13.814026",
     "exception": false,
     "start_time": "2023-07-24T16:45:13.773512",
     "status": "completed"
    },
    "tags": []
   },
   "outputs": [],
   "source": [
    "sample_submission_df.to_csv(\"submission.csv\", index=False)"
   ]
  },
  {
   "cell_type": "code",
   "execution_count": 58,
   "id": "62831b36",
   "metadata": {
    "execution": {
     "iopub.execute_input": "2023-07-24T16:45:13.871255Z",
     "iopub.status.busy": "2023-07-24T16:45:13.870405Z",
     "iopub.status.idle": "2023-07-24T16:45:14.906497Z",
     "shell.execute_reply": "2023-07-24T16:45:14.905184Z"
    },
    "papermill": {
     "duration": 1.067668,
     "end_time": "2023-07-24T16:45:14.909118",
     "exception": false,
     "start_time": "2023-07-24T16:45:13.841450",
     "status": "completed"
    },
    "tags": []
   },
   "outputs": [
    {
     "data": {
      "image/png": "[encoded data removed]",
      "text/plain": [
       "<Figure size 800x2000 with 1 Axes>"
      ]
     },
     "metadata": {},
     "output_type": "display_data"
    }
   ],
   "source": [
    "pd.DataFrame(dict(cols=model_train_x.columns, imp=rf.feature_importances_)).plot('cols', 'imp', 'barh', figsize=(8, 20));"
   ]
  },
  {
   "cell_type": "code",
   "execution_count": 59,
   "id": "6086949d",
   "metadata": {
    "execution": {
     "iopub.execute_input": "2023-07-24T16:45:14.967939Z",
     "iopub.status.busy": "2023-07-24T16:45:14.967498Z",
     "iopub.status.idle": "2023-07-24T16:45:14.980540Z",
     "shell.execute_reply": "2023-07-24T16:45:14.979376Z"
    },
    "papermill": {
     "duration": 0.04537,
     "end_time": "2023-07-24T16:45:14.982989",
     "exception": false,
     "start_time": "2023-07-24T16:45:14.937619",
     "status": "completed"
    },
    "tags": []
   },
   "outputs": [
    {
     "data": {
      "text/html": [
       "<div>\n",
       "<style scoped>\n",
       "    .dataframe tbody tr th:only-of-type {\n",
       "        vertical-align: middle;\n",
       "    }\n",
       "\n",
       "    .dataframe tbody tr th {\n",
       "        vertical-align: top;\n",
       "    }\n",
       "\n",
       "    .dataframe thead th {\n",
       "        text-align: right;\n",
       "    }\n",
       "</style>\n",
       "<table border=\"1\" class=\"dataframe\">\n",
       "  <thead>\n",
       "    <tr style=\"text-align: right;\">\n",
       "      <th></th>\n",
       "      <th>Id</th>\n",
       "      <th>class_0</th>\n",
       "      <th>class_1</th>\n",
       "    </tr>\n",
       "  </thead>\n",
       "  <tbody>\n",
       "    <tr>\n",
       "      <th>0</th>\n",
       "      <td>00eed32682bb</td>\n",
       "      <td>0.583565</td>\n",
       "      <td>0.416435</td>\n",
       "    </tr>\n",
       "    <tr>\n",
       "      <th>1</th>\n",
       "      <td>010ebe33f668</td>\n",
       "      <td>0.583565</td>\n",
       "      <td>0.416435</td>\n",
       "    </tr>\n",
       "    <tr>\n",
       "      <th>2</th>\n",
       "      <td>02fa521e1838</td>\n",
       "      <td>0.583565</td>\n",
       "      <td>0.416435</td>\n",
       "    </tr>\n",
       "    <tr>\n",
       "      <th>3</th>\n",
       "      <td>040e15f562a2</td>\n",
       "      <td>0.583565</td>\n",
       "      <td>0.416435</td>\n",
       "    </tr>\n",
       "    <tr>\n",
       "      <th>4</th>\n",
       "      <td>046e85c7cc7f</td>\n",
       "      <td>0.583565</td>\n",
       "      <td>0.416435</td>\n",
       "    </tr>\n",
       "  </tbody>\n",
       "</table>\n",
       "</div>"
      ],
      "text/plain": [
       "             Id   class_0   class_1\n",
       "0  00eed32682bb  0.583565  0.416435\n",
       "1  010ebe33f668  0.583565  0.416435\n",
       "2  02fa521e1838  0.583565  0.416435\n",
       "3  040e15f562a2  0.583565  0.416435\n",
       "4  046e85c7cc7f  0.583565  0.416435"
      ]
     },
     "execution_count": 59,
     "metadata": {},
     "output_type": "execute_result"
    }
   ],
   "source": [
    "sample_submission_df.head()"
   ]
  }
 ],
 "metadata": {
  "kernelspec": {
   "display_name": "Python 3",
   "language": "python",
   "name": "python3"
  },
  "language_info": {
   "codemirror_mode": {
    "name": "ipython",
    "version": 3
   },
   "file_extension": ".py",
   "mimetype": "text/x-python",
   "name": "python",
   "nbconvert_exporter": "python",
   "pygments_lexer": "ipython3",
   "version": "3.10.12"
  },
  "papermill": {
   "default_parameters": {},
   "duration": 77.807742,
   "end_time": "2023-07-24T16:45:16.137577",
   "environment_variables": {},
   "exception": null,
   "input_path": "__notebook__.ipynb",
   "output_path": "__notebook__.ipynb",
   "parameters": {},
   "start_time": "2023-07-24T16:43:58.329835",
   "version": "2.4.0"
  }
 },
 "nbformat": 4,
 "nbformat_minor": 5
}
