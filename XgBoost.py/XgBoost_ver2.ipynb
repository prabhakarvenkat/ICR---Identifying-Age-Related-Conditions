{
 "cells": [
  {
   "cell_type": "code",
   "execution_count": 1,
   "id": "459944e1",
   "metadata": {
    "_cell_guid": "b1076dfc-b9ad-4769-8c92-a6c4dae69d19",
    "_uuid": "8f2839f25d086af736a60e9eeb907d3b93b6e0e5",
    "execution": {
     "iopub.execute_input": "2023-07-16T14:00:17.517706Z",
     "iopub.status.busy": "2023-07-16T14:00:17.517322Z",
     "iopub.status.idle": "2023-07-16T14:00:17.532915Z",
     "shell.execute_reply": "2023-07-16T14:00:17.531918Z"
    },
    "papermill": {
     "duration": 0.028949,
     "end_time": "2023-07-16T14:00:17.535784",
     "exception": false,
     "start_time": "2023-07-16T14:00:17.506835",
     "status": "completed"
    },
    "tags": []
   },
   "outputs": [
    {
     "name": "stdout",
     "output_type": "stream",
     "text": [
      "/kaggle/input/icr-identify-age-related-conditions/sample_submission.csv\n",
      "/kaggle/input/icr-identify-age-related-conditions/greeks.csv\n",
      "/kaggle/input/icr-identify-age-related-conditions/train.csv\n",
      "/kaggle/input/icr-identify-age-related-conditions/test.csv\n"
     ]
    }
   ],
   "source": [
    "# This Python 3 environment comes with many helpful analytics libraries installed\n",
    "# It is defined by the kaggle/python Docker image: https://github.com/kaggle/docker-python\n",
    "# For example, here's several helpful packages to load\n",
    "\n",
    "import numpy as np # linear algebra\n",
    "import pandas as pd # data processing, CSV file I/O (e.g. pd.read_csv)\n",
    "\n",
    "# Input data files are available in the read-only \"../input/\" directory\n",
    "# For example, running this (by clicking run or pressing Shift+Enter) will list all files under the input directory\n",
    "\n",
    "import os\n",
    "for dirname, _, filenames in os.walk('/kaggle/input'):\n",
    "    for filename in filenames:\n",
    "        print(os.path.join(dirname, filename))\n",
    "\n",
    "# You can write up to 20GB to the current directory (/kaggle/working/) that gets preserved as output when you create a version using \"Save & Run All\" \n",
    "# You can also write temporary files to /kaggle/temp/, but they won't be saved outside of the current session"
   ]
  },
  {
   "cell_type": "code",
   "execution_count": 2,
   "id": "6f1fa358",
   "metadata": {
    "execution": {
     "iopub.execute_input": "2023-07-16T14:00:17.554886Z",
     "iopub.status.busy": "2023-07-16T14:00:17.553876Z",
     "iopub.status.idle": "2023-07-16T14:00:21.000320Z",
     "shell.execute_reply": "2023-07-16T14:00:20.998572Z"
    },
    "papermill": {
     "duration": 3.459261,
     "end_time": "2023-07-16T14:00:21.003513",
     "exception": false,
     "start_time": "2023-07-16T14:00:17.544252",
     "status": "completed"
    },
    "tags": []
   },
   "outputs": [
    {
     "name": "stderr",
     "output_type": "stream",
     "text": [
      "/opt/conda/lib/python3.10/site-packages/scipy/__init__.py:146: UserWarning: A NumPy version >=1.16.5 and <1.23.0 is required for this version of SciPy (detected version 1.23.5\n",
      "  warnings.warn(f\"A NumPy version >={np_minversion} and <{np_maxversion}\"\n"
     ]
    }
   ],
   "source": [
    "import numpy as np\n",
    "import pandas as pd\n",
    "from sklearn.preprocessing import LabelEncoder,normalize\n",
    "from sklearn.ensemble import GradientBoostingClassifier,RandomForestClassifier\n",
    "from sklearn.metrics import accuracy_score\n",
    "from sklearn.impute import SimpleImputer\n",
    "import imblearn\n",
    "from imblearn.over_sampling import RandomOverSampler\n",
    "from imblearn.under_sampling import RandomUnderSampler\n",
    "import xgboost\n",
    "import inspect\n",
    "from collections import defaultdict\n",
    "#from tabpfn import TabPFNClassifier\n",
    "import lightgbm as lgb\n",
    "import warnings\n",
    "warnings.filterwarnings('ignore')\n",
    "from sklearn.model_selection import KFold as KF, GridSearchCV\n",
    "from tqdm.notebook import tqdm\n",
    "from datetime import datetime"
   ]
  },
  {
   "cell_type": "code",
   "execution_count": 3,
   "id": "edcd8543",
   "metadata": {
    "execution": {
     "iopub.execute_input": "2023-07-16T14:00:21.023332Z",
     "iopub.status.busy": "2023-07-16T14:00:21.022856Z",
     "iopub.status.idle": "2023-07-16T14:00:21.088898Z",
     "shell.execute_reply": "2023-07-16T14:00:21.087472Z"
    },
    "papermill": {
     "duration": 0.079354,
     "end_time": "2023-07-16T14:00:21.092191",
     "exception": false,
     "start_time": "2023-07-16T14:00:21.012837",
     "status": "completed"
    },
    "tags": []
   },
   "outputs": [],
   "source": [
    "\n",
    "train_df = pd.read_csv(\"/kaggle/input/icr-identify-age-related-conditions/train.csv\")\n",
    "test_df = pd.read_csv(\"/kaggle/input/icr-identify-age-related-conditions/test.csv\")\n",
    "greeks_df = pd.read_csv(\"/kaggle/input/icr-identify-age-related-conditions/greeks.csv\")\n",
    "sample_submission = pd.read_csv(\"/kaggle/input/icr-identify-age-related-conditions/sample_submission.csv\")"
   ]
  },
  {
   "cell_type": "code",
   "execution_count": 4,
   "id": "4da67da3",
   "metadata": {
    "execution": {
     "iopub.execute_input": "2023-07-16T14:00:21.111296Z",
     "iopub.status.busy": "2023-07-16T14:00:21.110878Z",
     "iopub.status.idle": "2023-07-16T14:00:21.126219Z",
     "shell.execute_reply": "2023-07-16T14:00:21.125017Z"
    },
    "papermill": {
     "duration": 0.028324,
     "end_time": "2023-07-16T14:00:21.129087",
     "exception": false,
     "start_time": "2023-07-16T14:00:21.100763",
     "status": "completed"
    },
    "tags": []
   },
   "outputs": [],
   "source": [
    "\n",
    "first_category = train_df.EJ.unique()[0]\n",
    "train_df.EJ = train_df.EJ.eq(first_category).astype('int')\n",
    "test_df.EJ = test_df.EJ.eq(first_category).astype('int')"
   ]
  },
  {
   "cell_type": "code",
   "execution_count": 5,
   "id": "5d460a95",
   "metadata": {
    "execution": {
     "iopub.execute_input": "2023-07-16T14:00:21.148826Z",
     "iopub.status.busy": "2023-07-16T14:00:21.148442Z",
     "iopub.status.idle": "2023-07-16T14:00:21.155072Z",
     "shell.execute_reply": "2023-07-16T14:00:21.153937Z"
    },
    "papermill": {
     "duration": 0.020215,
     "end_time": "2023-07-16T14:00:21.157532",
     "exception": false,
     "start_time": "2023-07-16T14:00:21.137317",
     "status": "completed"
    },
    "tags": []
   },
   "outputs": [],
   "source": [
    "\n",
    "def random_under_sampler(df):\n",
    " neg, pos = np.bincount(df['Class'])\n",
    " one_df = df.loc[df['Class'] == 1]\n",
    " zero_df = df.loc[df['Class'] == 0]\n",
    " zero_df = zero_df.sample(n=pos)\n",
    " undersampled_df = pd.concat([zero_df, one_df])\n",
    " return undersampled_df.sample(frac = 1)\n"
   ]
  },
  {
   "cell_type": "code",
   "execution_count": 6,
   "id": "20ce7205",
   "metadata": {
    "execution": {
     "iopub.execute_input": "2023-07-16T14:00:21.175607Z",
     "iopub.status.busy": "2023-07-16T14:00:21.174813Z",
     "iopub.status.idle": "2023-07-16T14:00:21.188987Z",
     "shell.execute_reply": "2023-07-16T14:00:21.187603Z"
    },
    "papermill": {
     "duration": 0.0262,
     "end_time": "2023-07-16T14:00:21.191636",
     "exception": false,
     "start_time": "2023-07-16T14:00:21.165436",
     "status": "completed"
    },
    "tags": []
   },
   "outputs": [],
   "source": [
    "train_df_good = random_under_sampler(train_df)"
   ]
  },
  {
   "cell_type": "code",
   "execution_count": 7,
   "id": "f5cb2e31",
   "metadata": {
    "execution": {
     "iopub.execute_input": "2023-07-16T14:00:21.210828Z",
     "iopub.status.busy": "2023-07-16T14:00:21.209550Z",
     "iopub.status.idle": "2023-07-16T14:00:21.219108Z",
     "shell.execute_reply": "2023-07-16T14:00:21.217884Z"
    },
    "papermill": {
     "duration": 0.021809,
     "end_time": "2023-07-16T14:00:21.221645",
     "exception": false,
     "start_time": "2023-07-16T14:00:21.199836",
     "status": "completed"
    },
    "tags": []
   },
   "outputs": [
    {
     "data": {
      "text/plain": [
       "(216, 58)"
      ]
     },
     "execution_count": 7,
     "metadata": {},
     "output_type": "execute_result"
    }
   ],
   "source": [
    "\n",
    "train_df_good.shape"
   ]
  },
  {
   "cell_type": "code",
   "execution_count": 8,
   "id": "6b3c6991",
   "metadata": {
    "execution": {
     "iopub.execute_input": "2023-07-16T14:00:21.241474Z",
     "iopub.status.busy": "2023-07-16T14:00:21.241030Z",
     "iopub.status.idle": "2023-07-16T14:00:21.251174Z",
     "shell.execute_reply": "2023-07-16T14:00:21.249737Z"
    },
    "papermill": {
     "duration": 0.02339,
     "end_time": "2023-07-16T14:00:21.253719",
     "exception": false,
     "start_time": "2023-07-16T14:00:21.230329",
     "status": "completed"
    },
    "tags": []
   },
   "outputs": [],
   "source": [
    "predictor_columns = [n for n in train_df.columns if n != 'Class' and n != 'Id']\n",
    "x= train_df[predictor_columns]\n",
    "y = train_df['Class']"
   ]
  },
  {
   "cell_type": "code",
   "execution_count": 9,
   "id": "7bb0f756",
   "metadata": {
    "execution": {
     "iopub.execute_input": "2023-07-16T14:00:21.273356Z",
     "iopub.status.busy": "2023-07-16T14:00:21.272869Z",
     "iopub.status.idle": "2023-07-16T14:00:21.278998Z",
     "shell.execute_reply": "2023-07-16T14:00:21.277841Z"
    },
    "papermill": {
     "duration": 0.018676,
     "end_time": "2023-07-16T14:00:21.281241",
     "exception": false,
     "start_time": "2023-07-16T14:00:21.262565",
     "status": "completed"
    },
    "tags": []
   },
   "outputs": [],
   "source": [
    "cv_outer = KF(n_splits = 10, shuffle=True, random_state=42)\n",
    "cv_inner = KF(n_splits = 5, shuffle=True, random_state=42)"
   ]
  },
  {
   "cell_type": "code",
   "execution_count": 10,
   "id": "2cf318d7",
   "metadata": {
    "execution": {
     "iopub.execute_input": "2023-07-16T14:00:21.300708Z",
     "iopub.status.busy": "2023-07-16T14:00:21.299943Z",
     "iopub.status.idle": "2023-07-16T14:00:21.308230Z",
     "shell.execute_reply": "2023-07-16T14:00:21.307088Z"
    },
    "papermill": {
     "duration": 0.020883,
     "end_time": "2023-07-16T14:00:21.310917",
     "exception": false,
     "start_time": "2023-07-16T14:00:21.290034",
     "status": "completed"
    },
    "tags": []
   },
   "outputs": [],
   "source": [
    "def balanced_log_loss(y_true, y_pred):\n",
    " N_0 = np.sum(1 - y_true)\n",
    " N_1 = np.sum(y_true)\n",
    " \n",
    " w_0 = 1 / N_0\n",
    " w_1 = 1 / N_1\n",
    " p_1 = np.clip(y_pred, 1e-15, 1 - 1e-15)\n",
    " p_0 = 1 - p_1\n",
    " log_loss_0 = -np.sum((1 - y_true) * np.log(p_0))\n",
    " log_loss_1 = -np.sum(y_true * np.log(p_1))\n",
    " balanced_log_loss = 2*(w_0 * log_loss_0 + w_1 * log_loss_1) / (w_0 + w_1)\n",
    " return balanced_log_loss/(N_0+N_1)"
   ]
  },
  {
   "cell_type": "code",
   "execution_count": 11,
   "id": "e21b0bd7",
   "metadata": {
    "execution": {
     "iopub.execute_input": "2023-07-16T14:00:21.331052Z",
     "iopub.status.busy": "2023-07-16T14:00:21.330612Z",
     "iopub.status.idle": "2023-07-16T14:00:21.343946Z",
     "shell.execute_reply": "2023-07-16T14:00:21.343016Z"
    },
    "papermill": {
     "duration": 0.026312,
     "end_time": "2023-07-16T14:00:21.346767",
     "exception": false,
     "start_time": "2023-07-16T14:00:21.320455",
     "status": "completed"
    },
    "tags": []
   },
   "outputs": [],
   "source": [
    "class Ensemble():\n",
    "    def __init__(self):\n",
    "        self.imputer = SimpleImputer(missing_values=np.nan, strategy='median')\n",
    "        self.classifiers =[xgboost.XGBClassifier(n_estimators=100,max_depth=3,learning_rate=0.2,subsample=0.9,colsample_bytree=0.85),\n",
    "                           xgboost.XGBClassifier()]\n",
    "                           #TabPFNClassifier(N_ensemble_configurations=128),\n",
    "                           #TabPFNClassifier(N_ensemble_configurations=48)]\n",
    "    \n",
    "    def fit(self,X,y):\n",
    "        y = y.values\n",
    "        unique_classes, y = np.unique(y, return_inverse=True)\n",
    "        self.classes_ = unique_classes\n",
    "        first_category = X.EJ.unique()[0]\n",
    "        X.EJ = X.EJ.eq(first_category).astype('int')\n",
    "        X = self.imputer.fit_transform(X)\n",
    "\n",
    "        for classifier in self.classifiers:\n",
    "            #if classifier==self.classifiers[2] or classifier==self.classifiers[3]:\n",
    "               # classifier.fit(X,y,overwrite_warning =True)\n",
    "           # else :\n",
    "                classifier.fit(X, y)\n",
    "     \n",
    "    def predict_proba(self, x):\n",
    "        x = self.imputer.transform(x)\n",
    "        probabilities = np.stack([classifier.predict_proba(x) for classifier in self.classifiers])\n",
    "        averaged_probabilities = np.mean(probabilities, axis=0)\n",
    "        class_0_est_instances = averaged_probabilities[:, 0].sum()\n",
    "        others_est_instances = averaged_probabilities[:, 1:].sum()\n",
    "        # Weighted probabilities based on class imbalance\n",
    "        new_probabilities = averaged_probabilities * np.array([[1/(class_0_est_instances if i==0 else others_est_instances) for i in range(averaged_probabilities.shape[1])]])\n",
    "        return new_probabilities / np.sum(new_probabilities, axis=1, keepdims=1) \n"
   ]
  },
  {
   "cell_type": "code",
   "execution_count": 12,
   "id": "38907581",
   "metadata": {
    "execution": {
     "iopub.execute_input": "2023-07-16T14:00:21.367308Z",
     "iopub.status.busy": "2023-07-16T14:00:21.366896Z",
     "iopub.status.idle": "2023-07-16T14:00:21.379770Z",
     "shell.execute_reply": "2023-07-16T14:00:21.378370Z"
    },
    "papermill": {
     "duration": 0.026467,
     "end_time": "2023-07-16T14:00:21.382714",
     "exception": false,
     "start_time": "2023-07-16T14:00:21.356247",
     "status": "completed"
    },
    "tags": []
   },
   "outputs": [],
   "source": [
    "def training(model, x,y,y_meta):\n",
    "    outer_results = list()\n",
    "    best_loss = np.inf\n",
    "    split = 0\n",
    "    splits = 5\n",
    "    for train_idx,val_idx in tqdm(cv_inner.split(x), total = splits):\n",
    "        split+=1\n",
    "        x_train, x_val = x.iloc[train_idx],x.iloc[val_idx]\n",
    "        y_train, y_val = y_meta.iloc[train_idx], y.iloc[val_idx]\n",
    "                \n",
    "        model.fit(x_train, y_train)\n",
    "        y_pred = model.predict_proba(x_val)\n",
    "        probabilities = np.concatenate((y_pred[:,:1], np.sum(y_pred[:,1:], 1, keepdims=True)), axis=1)\n",
    "        p0 = probabilities[:,:1]\n",
    "        p0[p0 > 0.86] = 1\n",
    "        p0[p0 < 0.14] = 0\n",
    "        y_p = np.empty((y_pred.shape[0],))\n",
    "        for i in range(y_pred.shape[0]):\n",
    "            if p0[i]>=0.5:\n",
    "                y_p[i]= False\n",
    "            else :\n",
    "                y_p[i]=True\n",
    "        y_p = y_p.astype(int)\n",
    "        loss = balanced_log_loss(y_val,y_p)\n",
    "\n",
    "        if loss<best_loss:\n",
    "            best_model = model\n",
    "            best_loss = loss\n",
    "            print('best_model_saved')\n",
    "        outer_results.append(loss)\n",
    "        print('>val_loss=%.5f, split = %.1f' % (loss,split))\n",
    "    print('LOSS: %.5f' % (np.mean(outer_results)))\n",
    "    return best_model"
   ]
  },
  {
   "cell_type": "code",
   "execution_count": 13,
   "id": "5783c385",
   "metadata": {
    "execution": {
     "iopub.execute_input": "2023-07-16T14:00:21.401915Z",
     "iopub.status.busy": "2023-07-16T14:00:21.401467Z",
     "iopub.status.idle": "2023-07-16T14:00:21.425585Z",
     "shell.execute_reply": "2023-07-16T14:00:21.424538Z"
    },
    "papermill": {
     "duration": 0.036977,
     "end_time": "2023-07-16T14:00:21.428411",
     "exception": false,
     "start_time": "2023-07-16T14:00:21.391434",
     "status": "completed"
    },
    "tags": []
   },
   "outputs": [],
   "source": [
    "times = greeks_df.Epsilon.copy()\n",
    "times[greeks_df.Epsilon != 'Unknown'] = greeks_df.Epsilon[greeks_df.Epsilon != 'Unknown'].map(lambda x: datetime.strptime(x,'%m/%d/%Y').toordinal())\n",
    "times[greeks_df.Epsilon == 'Unknown'] = np.nan"
   ]
  },
  {
   "cell_type": "code",
   "execution_count": 14,
   "id": "b0264cd3",
   "metadata": {
    "execution": {
     "iopub.execute_input": "2023-07-16T14:00:21.449211Z",
     "iopub.status.busy": "2023-07-16T14:00:21.448215Z",
     "iopub.status.idle": "2023-07-16T14:00:21.463314Z",
     "shell.execute_reply": "2023-07-16T14:00:21.462240Z"
    },
    "papermill": {
     "duration": 0.028401,
     "end_time": "2023-07-16T14:00:21.466328",
     "exception": false,
     "start_time": "2023-07-16T14:00:21.437927",
     "status": "completed"
    },
    "tags": []
   },
   "outputs": [],
   "source": [
    "train_pred_and_time = pd.concat((train_df, times), axis=1)\n",
    "test_predictors = test_df[predictor_columns]\n",
    "first_category = test_predictors.EJ.unique()[0]\n",
    "test_predictors.EJ = test_predictors.EJ.eq(first_category).astype('int')\n",
    "test_pred_and_time = np.concatenate((test_predictors, np.zeros((len(test_predictors), 1)) + train_pred_and_time.Epsilon.max() + 1), axis=1)"
   ]
  },
  {
   "cell_type": "code",
   "execution_count": 15,
   "id": "9c0d5363",
   "metadata": {
    "execution": {
     "iopub.execute_input": "2023-07-16T14:00:21.487186Z",
     "iopub.status.busy": "2023-07-16T14:00:21.486384Z",
     "iopub.status.idle": "2023-07-16T14:00:21.530196Z",
     "shell.execute_reply": "2023-07-16T14:00:21.528975Z"
    },
    "papermill": {
     "duration": 0.057986,
     "end_time": "2023-07-16T14:00:21.533007",
     "exception": false,
     "start_time": "2023-07-16T14:00:21.475021",
     "status": "completed"
    },
    "tags": []
   },
   "outputs": [
    {
     "name": "stdout",
     "output_type": "stream",
     "text": [
      "Original dataset shape\n",
      "A    509\n",
      "B     61\n",
      "G     29\n",
      "D     18\n",
      "Name: Alpha, dtype: int64\n",
      "Resample dataset shape\n",
      "B    509\n",
      "A    509\n",
      "D    509\n",
      "G    509\n",
      "Name: Alpha, dtype: int64\n"
     ]
    }
   ],
   "source": [
    "ros = RandomOverSampler(random_state=42)\n",
    "train_ros, y_ros = ros.fit_resample(train_pred_and_time, greeks_df.Alpha)\n",
    "print('Original dataset shape')\n",
    "print(greeks_df.Alpha.value_counts())\n",
    "print('Resample dataset shape')\n",
    "print( y_ros.value_counts())"
   ]
  },
  {
   "cell_type": "code",
   "execution_count": 16,
   "id": "e375c3b6",
   "metadata": {
    "execution": {
     "iopub.execute_input": "2023-07-16T14:00:21.552682Z",
     "iopub.status.busy": "2023-07-16T14:00:21.551996Z",
     "iopub.status.idle": "2023-07-16T14:00:21.560722Z",
     "shell.execute_reply": "2023-07-16T14:00:21.559571Z"
    },
    "papermill": {
     "duration": 0.021784,
     "end_time": "2023-07-16T14:00:21.563678",
     "exception": false,
     "start_time": "2023-07-16T14:00:21.541894",
     "status": "completed"
    },
    "tags": []
   },
   "outputs": [],
   "source": [
    "\n",
    "x_ros = train_ros.drop(['Class', 'Id'],axis=1)\n",
    "y_ = train_ros.Class"
   ]
  },
  {
   "cell_type": "code",
   "execution_count": 17,
   "id": "cdeca513",
   "metadata": {
    "execution": {
     "iopub.execute_input": "2023-07-16T14:00:21.582486Z",
     "iopub.status.busy": "2023-07-16T14:00:21.582001Z",
     "iopub.status.idle": "2023-07-16T14:00:21.587344Z",
     "shell.execute_reply": "2023-07-16T14:00:21.586235Z"
    },
    "papermill": {
     "duration": 0.017561,
     "end_time": "2023-07-16T14:00:21.589728",
     "exception": false,
     "start_time": "2023-07-16T14:00:21.572167",
     "status": "completed"
    },
    "tags": []
   },
   "outputs": [],
   "source": [
    "\n",
    "yt = Ensemble()"
   ]
  },
  {
   "cell_type": "code",
   "execution_count": 18,
   "id": "01637483",
   "metadata": {
    "execution": {
     "iopub.execute_input": "2023-07-16T14:00:21.608991Z",
     "iopub.status.busy": "2023-07-16T14:00:21.608586Z",
     "iopub.status.idle": "2023-07-16T14:00:29.681349Z",
     "shell.execute_reply": "2023-07-16T14:00:29.680406Z"
    },
    "papermill": {
     "duration": 8.085504,
     "end_time": "2023-07-16T14:00:29.683798",
     "exception": false,
     "start_time": "2023-07-16T14:00:21.598294",
     "status": "completed"
    },
    "tags": []
   },
   "outputs": [
    {
     "data": {
      "application/vnd.jupyter.widget-view+json": {
       "model_id": "18b1b7454e0e48319b05b5a993f47cbd",
       "version_major": 2,
       "version_minor": 0
      },
      "text/plain": [
       "  0%|          | 0/5 [00:00<?, ?it/s]"
      ]
     },
     "metadata": {},
     "output_type": "display_data"
    },
    {
     "name": "stdout",
     "output_type": "stream",
     "text": [
      "best_model_saved\n",
      ">val_loss=0.49134, split = 1.0\n",
      "best_model_saved\n",
      ">val_loss=0.24771, split = 2.0\n",
      "best_model_saved\n",
      ">val_loss=0.00000, split = 3.0\n",
      ">val_loss=0.13220, split = 4.0\n",
      ">val_loss=0.40159, split = 5.0\n",
      "LOSS: 0.25457\n"
     ]
    }
   ],
   "source": [
    "\n",
    "m = training(yt,x_ros,y_,y_ros)"
   ]
  },
  {
   "cell_type": "code",
   "execution_count": 19,
   "id": "52603914",
   "metadata": {
    "execution": {
     "iopub.execute_input": "2023-07-16T14:00:29.705219Z",
     "iopub.status.busy": "2023-07-16T14:00:29.704713Z",
     "iopub.status.idle": "2023-07-16T14:00:29.715873Z",
     "shell.execute_reply": "2023-07-16T14:00:29.714582Z"
    },
    "papermill": {
     "duration": 0.025774,
     "end_time": "2023-07-16T14:00:29.718965",
     "exception": false,
     "start_time": "2023-07-16T14:00:29.693191",
     "status": "completed"
    },
    "tags": []
   },
   "outputs": [
    {
     "data": {
      "text/plain": [
       "1    0.75\n",
       "0    0.25\n",
       "Name: Class, dtype: float64"
      ]
     },
     "execution_count": 19,
     "metadata": {},
     "output_type": "execute_result"
    }
   ],
   "source": [
    "y_.value_counts()/y_.shape[0]"
   ]
  },
  {
   "cell_type": "code",
   "execution_count": 20,
   "id": "754e9c23",
   "metadata": {
    "execution": {
     "iopub.execute_input": "2023-07-16T14:00:29.740372Z",
     "iopub.status.busy": "2023-07-16T14:00:29.739879Z",
     "iopub.status.idle": "2023-07-16T14:00:29.752997Z",
     "shell.execute_reply": "2023-07-16T14:00:29.752086Z"
    },
    "papermill": {
     "duration": 0.027082,
     "end_time": "2023-07-16T14:00:29.755427",
     "exception": false,
     "start_time": "2023-07-16T14:00:29.728345",
     "status": "completed"
    },
    "tags": []
   },
   "outputs": [],
   "source": [
    "\n",
    "y_pred = m.predict_proba(test_pred_and_time)\n",
    "probabilities = np.concatenate((y_pred[:,:1], np.sum(y_pred[:,1:], 1, keepdims=True)), axis=1)\n",
    "p0 = probabilities[:,:1]\n",
    "p0[p0 > 0.59] = 1\n",
    "p0[p0 < 0.28] = 0"
   ]
  },
  {
   "cell_type": "code",
   "execution_count": 21,
   "id": "b6505a78",
   "metadata": {
    "execution": {
     "iopub.execute_input": "2023-07-16T14:00:29.777401Z",
     "iopub.status.busy": "2023-07-16T14:00:29.776987Z",
     "iopub.status.idle": "2023-07-16T14:00:29.790086Z",
     "shell.execute_reply": "2023-07-16T14:00:29.788839Z"
    },
    "papermill": {
     "duration": 0.026657,
     "end_time": "2023-07-16T14:00:29.793006",
     "exception": false,
     "start_time": "2023-07-16T14:00:29.766349",
     "status": "completed"
    },
    "tags": []
   },
   "outputs": [],
   "source": [
    "\n",
    "submission = pd.DataFrame(test_df[\"Id\"], columns=[\"Id\"])\n",
    "submission[\"class_0\"] = p0\n",
    "submission[\"class_1\"] = 1 - p0\n",
    "submission.to_csv('submission.csv', index=False)"
   ]
  },
  {
   "cell_type": "code",
   "execution_count": 22,
   "id": "a185d0b6",
   "metadata": {
    "execution": {
     "iopub.execute_input": "2023-07-16T14:00:29.812749Z",
     "iopub.status.busy": "2023-07-16T14:00:29.812370Z",
     "iopub.status.idle": "2023-07-16T14:00:29.832503Z",
     "shell.execute_reply": "2023-07-16T14:00:29.831080Z"
    },
    "papermill": {
     "duration": 0.033126,
     "end_time": "2023-07-16T14:00:29.835328",
     "exception": false,
     "start_time": "2023-07-16T14:00:29.802202",
     "status": "completed"
    },
    "tags": []
   },
   "outputs": [
    {
     "data": {
      "text/html": [
       "<div>\n",
       "<style scoped>\n",
       "    .dataframe tbody tr th:only-of-type {\n",
       "        vertical-align: middle;\n",
       "    }\n",
       "\n",
       "    .dataframe tbody tr th {\n",
       "        vertical-align: top;\n",
       "    }\n",
       "\n",
       "    .dataframe thead th {\n",
       "        text-align: right;\n",
       "    }\n",
       "</style>\n",
       "<table border=\"1\" class=\"dataframe\">\n",
       "  <thead>\n",
       "    <tr style=\"text-align: right;\">\n",
       "      <th></th>\n",
       "      <th>Id</th>\n",
       "      <th>class_0</th>\n",
       "      <th>class_1</th>\n",
       "    </tr>\n",
       "  </thead>\n",
       "  <tbody>\n",
       "    <tr>\n",
       "      <th>0</th>\n",
       "      <td>00eed32682bb</td>\n",
       "      <td>0.5</td>\n",
       "      <td>0.5</td>\n",
       "    </tr>\n",
       "    <tr>\n",
       "      <th>1</th>\n",
       "      <td>010ebe33f668</td>\n",
       "      <td>0.5</td>\n",
       "      <td>0.5</td>\n",
       "    </tr>\n",
       "    <tr>\n",
       "      <th>2</th>\n",
       "      <td>02fa521e1838</td>\n",
       "      <td>0.5</td>\n",
       "      <td>0.5</td>\n",
       "    </tr>\n",
       "    <tr>\n",
       "      <th>3</th>\n",
       "      <td>040e15f562a2</td>\n",
       "      <td>0.5</td>\n",
       "      <td>0.5</td>\n",
       "    </tr>\n",
       "    <tr>\n",
       "      <th>4</th>\n",
       "      <td>046e85c7cc7f</td>\n",
       "      <td>0.5</td>\n",
       "      <td>0.5</td>\n",
       "    </tr>\n",
       "  </tbody>\n",
       "</table>\n",
       "</div>"
      ],
      "text/plain": [
       "             Id  class_0  class_1\n",
       "0  00eed32682bb      0.5      0.5\n",
       "1  010ebe33f668      0.5      0.5\n",
       "2  02fa521e1838      0.5      0.5\n",
       "3  040e15f562a2      0.5      0.5\n",
       "4  046e85c7cc7f      0.5      0.5"
      ]
     },
     "execution_count": 22,
     "metadata": {},
     "output_type": "execute_result"
    }
   ],
   "source": [
    "submission_df = pd.read_csv('submission.csv')\n",
    "submission_df"
   ]
  }
 ],
 "metadata": {
  "kernelspec": {
   "display_name": "Python 3",
   "language": "python",
   "name": "python3"
  },
  "language_info": {
   "codemirror_mode": {
    "name": "ipython",
    "version": 3
   },
   "file_extension": ".py",
   "mimetype": "text/x-python",
   "name": "python",
   "nbconvert_exporter": "python",
   "pygments_lexer": "ipython3",
   "version": "3.10.12"
  },
  "papermill": {
   "default_parameters": {},
   "duration": 25.292095,
   "end_time": "2023-07-16T14:00:30.969842",
   "environment_variables": {},
   "exception": null,
   "input_path": "__notebook__.ipynb",
   "output_path": "__notebook__.ipynb",
   "parameters": {},
   "start_time": "2023-07-16T14:00:05.677747",
   "version": "2.4.0"
  },
  "widgets": {
   "application/vnd.jupyter.widget-state+json": {
    "state": {
     "016218d199874567ad89e22e2df78d64": {
      "model_module": "@jupyter-widgets/controls",
      "model_module_version": "1.5.0",
      "model_name": "DescriptionStyleModel",
      "state": {
       "_model_module": "@jupyter-widgets/controls",
       "_model_module_version": "1.5.0",
       "_model_name": "DescriptionStyleModel",
       "_view_count": null,
       "_view_module": "@jupyter-widgets/base",
       "_view_module_version": "1.2.0",
       "_view_name": "StyleView",
       "description_width": ""
      }
     },
     "03bdf5df19ba49cd96e4b5209e92c6ab": {
      "model_module": "@jupyter-widgets/controls",
      "model_module_version": "1.5.0",
      "model_name": "ProgressStyleModel",
      "state": {
       "_model_module": "@jupyter-widgets/controls",
       "_model_module_version": "1.5.0",
       "_model_name": "ProgressStyleModel",
       "_view_count": null,
       "_view_module": "@jupyter-widgets/base",
       "_view_module_version": "1.2.0",
       "_view_name": "StyleView",
       "bar_color": null,
       "description_width": ""
      }
     },
     "03e57d986f05468b899b8030b167a552": {
      "model_module": "@jupyter-widgets/base",
      "model_module_version": "1.2.0",
      "model_name": "LayoutModel",
      "state": {
       "_model_module": "@jupyter-widgets/base",
       "_model_module_version": "1.2.0",
       "_model_name": "LayoutModel",
       "_view_count": null,
       "_view_module": "@jupyter-widgets/base",
       "_view_module_version": "1.2.0",
       "_view_name": "LayoutView",
       "align_content": null,
       "align_items": null,
       "align_self": null,
       "border": null,
       "bottom": null,
       "display": null,
       "flex": null,
       "flex_flow": null,
       "grid_area": null,
       "grid_auto_columns": null,
       "grid_auto_flow": null,
       "grid_auto_rows": null,
       "grid_column": null,
       "grid_gap": null,
       "grid_row": null,
       "grid_template_areas": null,
       "grid_template_columns": null,
       "grid_template_rows": null,
       "height": null,
       "justify_content": null,
       "justify_items": null,
       "left": null,
       "margin": null,
       "max_height": null,
       "max_width": null,
       "min_height": null,
       "min_width": null,
       "object_fit": null,
       "object_position": null,
       "order": null,
       "overflow": null,
       "overflow_x": null,
       "overflow_y": null,
       "padding": null,
       "right": null,
       "top": null,
       "visibility": null,
       "width": null
      }
     },
     "13642f0614b145fd9bb3043dac743a62": {
      "model_module": "@jupyter-widgets/base",
      "model_module_version": "1.2.0",
      "model_name": "LayoutModel",
      "state": {
       "_model_module": "@jupyter-widgets/base",
       "_model_module_version": "1.2.0",
       "_model_name": "LayoutModel",
       "_view_count": null,
       "_view_module": "@jupyter-widgets/base",
       "_view_module_version": "1.2.0",
       "_view_name": "LayoutView",
       "align_content": null,
       "align_items": null,
       "align_self": null,
       "border": null,
       "bottom": null,
       "display": null,
       "flex": null,
       "flex_flow": null,
       "grid_area": null,
       "grid_auto_columns": null,
       "grid_auto_flow": null,
       "grid_auto_rows": null,
       "grid_column": null,
       "grid_gap": null,
       "grid_row": null,
       "grid_template_areas": null,
       "grid_template_columns": null,
       "grid_template_rows": null,
       "height": null,
       "justify_content": null,
       "justify_items": null,
       "left": null,
       "margin": null,
       "max_height": null,
       "max_width": null,
       "min_height": null,
       "min_width": null,
       "object_fit": null,
       "object_position": null,
       "order": null,
       "overflow": null,
       "overflow_x": null,
       "overflow_y": null,
       "padding": null,
       "right": null,
       "top": null,
       "visibility": null,
       "width": null
      }
     },
     "18b1b7454e0e48319b05b5a993f47cbd": {
      "model_module": "@jupyter-widgets/controls",
      "model_module_version": "1.5.0",
      "model_name": "HBoxModel",
      "state": {
       "_dom_classes": [],
       "_model_module": "@jupyter-widgets/controls",
       "_model_module_version": "1.5.0",
       "_model_name": "HBoxModel",
       "_view_count": null,
       "_view_module": "@jupyter-widgets/controls",
       "_view_module_version": "1.5.0",
       "_view_name": "HBoxView",
       "box_style": "",
       "children": [
        "IPY_MODEL_6c64067679314b1fbda62eaa0ea1c212",
        "IPY_MODEL_dd388a4e894d44f5b3b44bf9a8804c11",
        "IPY_MODEL_212e14b55d984de5958562a66c4e3a79"
       ],
       "layout": "IPY_MODEL_adba34cf672e4fde858e50d870323f36"
      }
     },
     "212e14b55d984de5958562a66c4e3a79": {
      "model_module": "@jupyter-widgets/controls",
      "model_module_version": "1.5.0",
      "model_name": "HTMLModel",
      "state": {
       "_dom_classes": [],
       "_model_module": "@jupyter-widgets/controls",
       "_model_module_version": "1.5.0",
       "_model_name": "HTMLModel",
       "_view_count": null,
       "_view_module": "@jupyter-widgets/controls",
       "_view_module_version": "1.5.0",
       "_view_name": "HTMLView",
       "description": "",
       "description_tooltip": null,
       "layout": "IPY_MODEL_13642f0614b145fd9bb3043dac743a62",
       "placeholder": "​",
       "style": "IPY_MODEL_016218d199874567ad89e22e2df78d64",
       "value": " 5/5 [00:08&lt;00:00,  1.61s/it]"
      }
     },
     "307cdcab85c640fa9230e743fc8a4849": {
      "model_module": "@jupyter-widgets/base",
      "model_module_version": "1.2.0",
      "model_name": "LayoutModel",
      "state": {
       "_model_module": "@jupyter-widgets/base",
       "_model_module_version": "1.2.0",
       "_model_name": "LayoutModel",
       "_view_count": null,
       "_view_module": "@jupyter-widgets/base",
       "_view_module_version": "1.2.0",
       "_view_name": "LayoutView",
       "align_content": null,
       "align_items": null,
       "align_self": null,
       "border": null,
       "bottom": null,
       "display": null,
       "flex": null,
       "flex_flow": null,
       "grid_area": null,
       "grid_auto_columns": null,
       "grid_auto_flow": null,
       "grid_auto_rows": null,
       "grid_column": null,
       "grid_gap": null,
       "grid_row": null,
       "grid_template_areas": null,
       "grid_template_columns": null,
       "grid_template_rows": null,
       "height": null,
       "justify_content": null,
       "justify_items": null,
       "left": null,
       "margin": null,
       "max_height": null,
       "max_width": null,
       "min_height": null,
       "min_width": null,
       "object_fit": null,
       "object_position": null,
       "order": null,
       "overflow": null,
       "overflow_x": null,
       "overflow_y": null,
       "padding": null,
       "right": null,
       "top": null,
       "visibility": null,
       "width": null
      }
     },
     "65aed14b169c438495157fc4afebbb6e": {
      "model_module": "@jupyter-widgets/controls",
      "model_module_version": "1.5.0",
      "model_name": "DescriptionStyleModel",
      "state": {
       "_model_module": "@jupyter-widgets/controls",
       "_model_module_version": "1.5.0",
       "_model_name": "DescriptionStyleModel",
       "_view_count": null,
       "_view_module": "@jupyter-widgets/base",
       "_view_module_version": "1.2.0",
       "_view_name": "StyleView",
       "description_width": ""
      }
     },
     "6c64067679314b1fbda62eaa0ea1c212": {
      "model_module": "@jupyter-widgets/controls",
      "model_module_version": "1.5.0",
      "model_name": "HTMLModel",
      "state": {
       "_dom_classes": [],
       "_model_module": "@jupyter-widgets/controls",
       "_model_module_version": "1.5.0",
       "_model_name": "HTMLModel",
       "_view_count": null,
       "_view_module": "@jupyter-widgets/controls",
       "_view_module_version": "1.5.0",
       "_view_name": "HTMLView",
       "description": "",
       "description_tooltip": null,
       "layout": "IPY_MODEL_03e57d986f05468b899b8030b167a552",
       "placeholder": "​",
       "style": "IPY_MODEL_65aed14b169c438495157fc4afebbb6e",
       "value": "100%"
      }
     },
     "adba34cf672e4fde858e50d870323f36": {
      "model_module": "@jupyter-widgets/base",
      "model_module_version": "1.2.0",
      "model_name": "LayoutModel",
      "state": {
       "_model_module": "@jupyter-widgets/base",
       "_model_module_version": "1.2.0",
       "_model_name": "LayoutModel",
       "_view_count": null,
       "_view_module": "@jupyter-widgets/base",
       "_view_module_version": "1.2.0",
       "_view_name": "LayoutView",
       "align_content": null,
       "align_items": null,
       "align_self": null,
       "border": null,
       "bottom": null,
       "display": null,
       "flex": null,
       "flex_flow": null,
       "grid_area": null,
       "grid_auto_columns": null,
       "grid_auto_flow": null,
       "grid_auto_rows": null,
       "grid_column": null,
       "grid_gap": null,
       "grid_row": null,
       "grid_template_areas": null,
       "grid_template_columns": null,
       "grid_template_rows": null,
       "height": null,
       "justify_content": null,
       "justify_items": null,
       "left": null,
       "margin": null,
       "max_height": null,
       "max_width": null,
       "min_height": null,
       "min_width": null,
       "object_fit": null,
       "object_position": null,
       "order": null,
       "overflow": null,
       "overflow_x": null,
       "overflow_y": null,
       "padding": null,
       "right": null,
       "top": null,
       "visibility": null,
       "width": null
      }
     },
     "dd388a4e894d44f5b3b44bf9a8804c11": {
      "model_module": "@jupyter-widgets/controls",
      "model_module_version": "1.5.0",
      "model_name": "FloatProgressModel",
      "state": {
       "_dom_classes": [],
       "_model_module": "@jupyter-widgets/controls",
       "_model_module_version": "1.5.0",
       "_model_name": "FloatProgressModel",
       "_view_count": null,
       "_view_module": "@jupyter-widgets/controls",
       "_view_module_version": "1.5.0",
       "_view_name": "ProgressView",
       "bar_style": "success",
       "description": "",
       "description_tooltip": null,
       "layout": "IPY_MODEL_307cdcab85c640fa9230e743fc8a4849",
       "max": 5.0,
       "min": 0.0,
       "orientation": "horizontal",
       "style": "IPY_MODEL_03bdf5df19ba49cd96e4b5209e92c6ab",
       "value": 5.0
      }
     }
    },
    "version_major": 2,
    "version_minor": 0
   }
  }
 },
 "nbformat": 4,
 "nbformat_minor": 5
}
