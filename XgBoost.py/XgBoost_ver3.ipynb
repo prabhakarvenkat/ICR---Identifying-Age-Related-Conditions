{
 "cells": [
  {
   "cell_type": "code",
   "execution_count": 1,
   "id": "4ce707b2",
   "metadata": {
    "_cell_guid": "b1076dfc-b9ad-4769-8c92-a6c4dae69d19",
    "_uuid": "8f2839f25d086af736a60e9eeb907d3b93b6e0e5",
    "execution": {
     "iopub.execute_input": "2023-07-21T15:52:46.226344Z",
     "iopub.status.busy": "2023-07-21T15:52:46.225376Z",
     "iopub.status.idle": "2023-07-21T15:52:46.245756Z",
     "shell.execute_reply": "2023-07-21T15:52:46.244748Z"
    },
    "papermill": {
     "duration": 0.034273,
     "end_time": "2023-07-21T15:52:46.248766",
     "exception": false,
     "start_time": "2023-07-21T15:52:46.214493",
     "status": "completed"
    },
    "tags": []
   },
   "outputs": [
    {
     "name": "stdout",
     "output_type": "stream",
     "text": [
      "/kaggle/input/icr-identify-age-related-conditions/sample_submission.csv\n",
      "/kaggle/input/icr-identify-age-related-conditions/greeks.csv\n",
      "/kaggle/input/icr-identify-age-related-conditions/train.csv\n",
      "/kaggle/input/icr-identify-age-related-conditions/test.csv\n",
      "/kaggle/input/tabpfn-019-whl/tabpfn-0.1.9-py3-none-any.whl\n",
      "/kaggle/input/tabpfn-019-whl/prior_diff_real_checkpoint_n_0_epoch_42.cpkt\n",
      "/kaggle/input/tabpfn-019-whl/prior_diff_real_checkpoint_n_0_epoch_100.cpkt\n"
     ]
    }
   ],
   "source": [
    "# This Python 3 environment comes with many helpful analytics libraries installed\n",
    "# It is defined by the kaggle/python Docker image: https://github.com/kaggle/docker-python\n",
    "# For example, here's several helpful packages to load\n",
    "\n",
    "import numpy as np # linear algebra\n",
    "import pandas as pd # data processing, CSV file I/O (e.g. pd.read_csv)\n",
    "\n",
    "# Input data files are available in the read-only \"../input/\" directory\n",
    "# For example, running this (by clicking run or pressing Shift+Enter) will list all files under the input directory\n",
    "\n",
    "import os\n",
    "for dirname, _, filenames in os.walk('/kaggle/input'):\n",
    "    for filename in filenames:\n",
    "        print(os.path.join(dirname, filename))\n",
    "\n",
    "# You can write up to 20GB to the current directory (/kaggle/working/) that gets preserved as output when you create a version using \"Save & Run All\" \n",
    "# You can also write temporary files to /kaggle/temp/, but they won't be saved outside of the current session"
   ]
  },
  {
   "cell_type": "code",
   "execution_count": 2,
   "id": "9dd44f97",
   "metadata": {
    "execution": {
     "iopub.execute_input": "2023-07-21T15:52:46.269079Z",
     "iopub.status.busy": "2023-07-21T15:52:46.268284Z",
     "iopub.status.idle": "2023-07-21T15:53:21.724129Z",
     "shell.execute_reply": "2023-07-21T15:53:21.722662Z"
    },
    "papermill": {
     "duration": 35.469555,
     "end_time": "2023-07-21T15:53:21.727323",
     "exception": false,
     "start_time": "2023-07-21T15:52:46.257768",
     "status": "completed"
    },
    "tags": []
   },
   "outputs": [
    {
     "name": "stdout",
     "output_type": "stream",
     "text": [
      "Processing /kaggle/input/tabpfn-019-whl/tabpfn-0.1.9-py3-none-any.whl\r\n",
      "Requirement already satisfied: numpy>=1.21.2 in /opt/conda/lib/python3.10/site-packages (from tabpfn==0.1.9) (1.23.5)\r\n",
      "Requirement already satisfied: pyyaml>=5.4.1 in /opt/conda/lib/python3.10/site-packages (from tabpfn==0.1.9) (6.0)\r\n",
      "Requirement already satisfied: requests>=2.23.0 in /opt/conda/lib/python3.10/site-packages (from tabpfn==0.1.9) (2.31.0)\r\n",
      "Requirement already satisfied: scikit-learn>=0.24.2 in /opt/conda/lib/python3.10/site-packages (from tabpfn==0.1.9) (1.2.2)\r\n",
      "Requirement already satisfied: torch>=1.9.0 in /opt/conda/lib/python3.10/site-packages (from tabpfn==0.1.9) (2.0.0+cpu)\r\n",
      "Requirement already satisfied: charset-normalizer<4,>=2 in /opt/conda/lib/python3.10/site-packages (from requests>=2.23.0->tabpfn==0.1.9) (3.1.0)\r\n",
      "Requirement already satisfied: idna<4,>=2.5 in /opt/conda/lib/python3.10/site-packages (from requests>=2.23.0->tabpfn==0.1.9) (3.4)\r\n",
      "Requirement already satisfied: urllib3<3,>=1.21.1 in /opt/conda/lib/python3.10/site-packages (from requests>=2.23.0->tabpfn==0.1.9) (1.26.15)\r\n",
      "Requirement already satisfied: certifi>=2017.4.17 in /opt/conda/lib/python3.10/site-packages (from requests>=2.23.0->tabpfn==0.1.9) (2023.5.7)\r\n",
      "Requirement already satisfied: scipy>=1.3.2 in /opt/conda/lib/python3.10/site-packages (from scikit-learn>=0.24.2->tabpfn==0.1.9) (1.11.1)\r\n",
      "Requirement already satisfied: joblib>=1.1.1 in /opt/conda/lib/python3.10/site-packages (from scikit-learn>=0.24.2->tabpfn==0.1.9) (1.2.0)\r\n",
      "Requirement already satisfied: threadpoolctl>=2.0.0 in /opt/conda/lib/python3.10/site-packages (from scikit-learn>=0.24.2->tabpfn==0.1.9) (3.1.0)\r\n",
      "Requirement already satisfied: filelock in /opt/conda/lib/python3.10/site-packages (from torch>=1.9.0->tabpfn==0.1.9) (3.12.2)\r\n",
      "Requirement already satisfied: typing-extensions in /opt/conda/lib/python3.10/site-packages (from torch>=1.9.0->tabpfn==0.1.9) (4.6.3)\r\n",
      "Requirement already satisfied: sympy in /opt/conda/lib/python3.10/site-packages (from torch>=1.9.0->tabpfn==0.1.9) (1.12)\r\n",
      "Requirement already satisfied: networkx in /opt/conda/lib/python3.10/site-packages (from torch>=1.9.0->tabpfn==0.1.9) (3.1)\r\n",
      "Requirement already satisfied: jinja2 in /opt/conda/lib/python3.10/site-packages (from torch>=1.9.0->tabpfn==0.1.9) (3.1.2)\r\n",
      "Requirement already satisfied: MarkupSafe>=2.0 in /opt/conda/lib/python3.10/site-packages (from jinja2->torch>=1.9.0->tabpfn==0.1.9) (2.1.3)\r\n",
      "Requirement already satisfied: mpmath>=0.19 in /opt/conda/lib/python3.10/site-packages (from sympy->torch>=1.9.0->tabpfn==0.1.9) (1.3.0)\r\n",
      "Installing collected packages: tabpfn\r\n",
      "Successfully installed tabpfn-0.1.9\r\n"
     ]
    }
   ],
   "source": [
    "!pip install /kaggle/input/tabpfn-019-whl/tabpfn-0.1.9-py3-none-any.whl"
   ]
  },
  {
   "cell_type": "code",
   "execution_count": 3,
   "id": "c9b8d056",
   "metadata": {
    "execution": {
     "iopub.execute_input": "2023-07-21T15:53:21.748477Z",
     "iopub.status.busy": "2023-07-21T15:53:21.748021Z",
     "iopub.status.idle": "2023-07-21T15:53:24.917894Z",
     "shell.execute_reply": "2023-07-21T15:53:24.916503Z"
    },
    "papermill": {
     "duration": 3.183937,
     "end_time": "2023-07-21T15:53:24.920802",
     "exception": false,
     "start_time": "2023-07-21T15:53:21.736865",
     "status": "completed"
    },
    "tags": []
   },
   "outputs": [],
   "source": [
    "!mkdir /opt/conda/lib/python3.10/site-packages/tabpfn/models_diff\n",
    "!cp /kaggle/input/tabpfn-019-whl/prior_diff_real_checkpoint_n_0_epoch_100.cpkt /opt/conda/lib/python3.10/site-packages/tabpfn/models_diff/"
   ]
  },
  {
   "cell_type": "code",
   "execution_count": 4,
   "id": "a30dcb9b",
   "metadata": {
    "execution": {
     "iopub.execute_input": "2023-07-21T15:53:24.945098Z",
     "iopub.status.busy": "2023-07-21T15:53:24.944662Z",
     "iopub.status.idle": "2023-07-21T15:53:32.364411Z",
     "shell.execute_reply": "2023-07-21T15:53:32.363046Z"
    },
    "papermill": {
     "duration": 7.435592,
     "end_time": "2023-07-21T15:53:32.367513",
     "exception": false,
     "start_time": "2023-07-21T15:53:24.931921",
     "status": "completed"
    },
    "tags": []
   },
   "outputs": [
    {
     "name": "stderr",
     "output_type": "stream",
     "text": [
      "/opt/conda/lib/python3.10/site-packages/scipy/__init__.py:146: UserWarning: A NumPy version >=1.16.5 and <1.23.0 is required for this version of SciPy (detected version 1.23.5\n",
      "  warnings.warn(f\"A NumPy version >={np_minversion} and <{np_maxversion}\"\n"
     ]
    }
   ],
   "source": [
    "import numpy as np\n",
    "import pandas as pd\n",
    "from sklearn.preprocessing import LabelEncoder,normalize\n",
    "from sklearn.ensemble import GradientBoostingClassifier,RandomForestClassifier\n",
    "from sklearn.metrics import accuracy_score\n",
    "from sklearn.impute import SimpleImputer\n",
    "import imblearn\n",
    "from imblearn.over_sampling import RandomOverSampler\n",
    "from imblearn.under_sampling import RandomUnderSampler\n",
    "import xgboost\n",
    "import inspect\n",
    "from collections import defaultdict\n",
    "from tabpfn import TabPFNClassifier\n",
    "import lightgbm as lgb\n",
    "import warnings\n",
    "warnings.filterwarnings('ignore')\n",
    "from sklearn.model_selection import KFold as KF, GridSearchCV\n",
    "from tqdm.notebook import tqdm\n",
    "from datetime import datetime"
   ]
  },
  {
   "cell_type": "code",
   "execution_count": 5,
   "id": "f0d7a8de",
   "metadata": {
    "execution": {
     "iopub.execute_input": "2023-07-21T15:53:32.388083Z",
     "iopub.status.busy": "2023-07-21T15:53:32.387679Z",
     "iopub.status.idle": "2023-07-21T15:53:32.456602Z",
     "shell.execute_reply": "2023-07-21T15:53:32.455535Z"
    },
    "papermill": {
     "duration": 0.082612,
     "end_time": "2023-07-21T15:53:32.459479",
     "exception": false,
     "start_time": "2023-07-21T15:53:32.376867",
     "status": "completed"
    },
    "tags": []
   },
   "outputs": [],
   "source": [
    "\n",
    "train_df = pd.read_csv(\"/kaggle/input/icr-identify-age-related-conditions/train.csv\")\n",
    "test_df = pd.read_csv(\"/kaggle/input/icr-identify-age-related-conditions/test.csv\")\n",
    "greeks_df = pd.read_csv(\"/kaggle/input/icr-identify-age-related-conditions/greeks.csv\")\n",
    "sample_submission = pd.read_csv(\"/kaggle/input/icr-identify-age-related-conditions/sample_submission.csv\")"
   ]
  },
  {
   "cell_type": "code",
   "execution_count": 6,
   "id": "4f425c0c",
   "metadata": {
    "execution": {
     "iopub.execute_input": "2023-07-21T15:53:32.480524Z",
     "iopub.status.busy": "2023-07-21T15:53:32.479901Z",
     "iopub.status.idle": "2023-07-21T15:53:32.496468Z",
     "shell.execute_reply": "2023-07-21T15:53:32.495077Z"
    },
    "papermill": {
     "duration": 0.029964,
     "end_time": "2023-07-21T15:53:32.498999",
     "exception": false,
     "start_time": "2023-07-21T15:53:32.469035",
     "status": "completed"
    },
    "tags": []
   },
   "outputs": [],
   "source": [
    "\n",
    "f_c = train_df.EJ.unique()[0]\n",
    "train_df.EJ = train_df.EJ.eq(f_c).astype('int')\n",
    "test_df.EJ = test_df.EJ.eq(f_c).astype('int')"
   ]
  },
  {
   "cell_type": "code",
   "execution_count": 7,
   "id": "a2d05095",
   "metadata": {
    "execution": {
     "iopub.execute_input": "2023-07-21T15:53:32.519923Z",
     "iopub.status.busy": "2023-07-21T15:53:32.519160Z",
     "iopub.status.idle": "2023-07-21T15:53:32.526632Z",
     "shell.execute_reply": "2023-07-21T15:53:32.525280Z"
    },
    "papermill": {
     "duration": 0.020616,
     "end_time": "2023-07-21T15:53:32.529035",
     "exception": false,
     "start_time": "2023-07-21T15:53:32.508419",
     "status": "completed"
    },
    "tags": []
   },
   "outputs": [],
   "source": [
    "\n",
    "def random_under_sampler(df):\n",
    " neg, pos = np.bincount(df['Class'])\n",
    " one_df = df.loc[df['Class'] == 1]\n",
    " zero_df = df.loc[df['Class'] == 0]\n",
    " zero_df = zero_df.sample(n=pos)\n",
    " undersampled_df = pd.concat([zero_df, one_df])\n",
    " return undersampled_df.sample(frac = 1)\n"
   ]
  },
  {
   "cell_type": "code",
   "execution_count": 8,
   "id": "4dbfd096",
   "metadata": {
    "execution": {
     "iopub.execute_input": "2023-07-21T15:53:32.550312Z",
     "iopub.status.busy": "2023-07-21T15:53:32.549074Z",
     "iopub.status.idle": "2023-07-21T15:53:32.563566Z",
     "shell.execute_reply": "2023-07-21T15:53:32.562452Z"
    },
    "papermill": {
     "duration": 0.028002,
     "end_time": "2023-07-21T15:53:32.566324",
     "exception": false,
     "start_time": "2023-07-21T15:53:32.538322",
     "status": "completed"
    },
    "tags": []
   },
   "outputs": [],
   "source": [
    "train_df_good = random_under_sampler(train_df)"
   ]
  },
  {
   "cell_type": "code",
   "execution_count": 9,
   "id": "6bd48549",
   "metadata": {
    "execution": {
     "iopub.execute_input": "2023-07-21T15:53:32.586802Z",
     "iopub.status.busy": "2023-07-21T15:53:32.586406Z",
     "iopub.status.idle": "2023-07-21T15:53:32.594042Z",
     "shell.execute_reply": "2023-07-21T15:53:32.592939Z"
    },
    "papermill": {
     "duration": 0.021077,
     "end_time": "2023-07-21T15:53:32.596735",
     "exception": false,
     "start_time": "2023-07-21T15:53:32.575658",
     "status": "completed"
    },
    "tags": []
   },
   "outputs": [
    {
     "data": {
      "text/plain": [
       "(216, 58)"
      ]
     },
     "execution_count": 9,
     "metadata": {},
     "output_type": "execute_result"
    }
   ],
   "source": [
    "\n",
    "train_df_good.shape"
   ]
  },
  {
   "cell_type": "code",
   "execution_count": 10,
   "id": "fe4cad4c",
   "metadata": {
    "execution": {
     "iopub.execute_input": "2023-07-21T15:53:32.617381Z",
     "iopub.status.busy": "2023-07-21T15:53:32.616958Z",
     "iopub.status.idle": "2023-07-21T15:53:32.626930Z",
     "shell.execute_reply": "2023-07-21T15:53:32.625603Z"
    },
    "papermill": {
     "duration": 0.023274,
     "end_time": "2023-07-21T15:53:32.629359",
     "exception": false,
     "start_time": "2023-07-21T15:53:32.606085",
     "status": "completed"
    },
    "tags": []
   },
   "outputs": [],
   "source": [
    "predictor_columns = [n for n in train_df.columns if n != 'Class' and n != 'Id']\n",
    "x= train_df[predictor_columns]\n",
    "y = train_df['Class']"
   ]
  },
  {
   "cell_type": "code",
   "execution_count": 11,
   "id": "dc4251ec",
   "metadata": {
    "execution": {
     "iopub.execute_input": "2023-07-21T15:53:32.650279Z",
     "iopub.status.busy": "2023-07-21T15:53:32.649843Z",
     "iopub.status.idle": "2023-07-21T15:53:32.654686Z",
     "shell.execute_reply": "2023-07-21T15:53:32.653811Z"
    },
    "papermill": {
     "duration": 0.017862,
     "end_time": "2023-07-21T15:53:32.656879",
     "exception": false,
     "start_time": "2023-07-21T15:53:32.639017",
     "status": "completed"
    },
    "tags": []
   },
   "outputs": [],
   "source": [
    "cv_outer = KF(n_splits = 10, shuffle=True, random_state=42)\n",
    "cv_inner = KF(n_splits = 5, shuffle=True, random_state=42)"
   ]
  },
  {
   "cell_type": "code",
   "execution_count": 12,
   "id": "55f481b0",
   "metadata": {
    "execution": {
     "iopub.execute_input": "2023-07-21T15:53:32.677484Z",
     "iopub.status.busy": "2023-07-21T15:53:32.677040Z",
     "iopub.status.idle": "2023-07-21T15:53:32.684784Z",
     "shell.execute_reply": "2023-07-21T15:53:32.683665Z"
    },
    "papermill": {
     "duration": 0.020651,
     "end_time": "2023-07-21T15:53:32.687050",
     "exception": false,
     "start_time": "2023-07-21T15:53:32.666399",
     "status": "completed"
    },
    "tags": []
   },
   "outputs": [],
   "source": [
    "def balanced_log_loss(y_true, y_pred):\n",
    " N_0 = np.sum(1 - y_true)\n",
    " N_1 = np.sum(y_true)\n",
    " \n",
    " w_0 = 1 / N_0\n",
    " w_1 = 1 / N_1\n",
    " p_1 = np.clip(y_pred, 1e-15, 1 - 1e-15)\n",
    " p_0 = 1 - p_1\n",
    " log_loss_0 = -np.sum((1 - y_true) * np.log(p_0))\n",
    " log_loss_1 = -np.sum(y_true * np.log(p_1))\n",
    " balanced_log_loss = 2*(w_0 * log_loss_0 + w_1 * log_loss_1) / (w_0 + w_1)\n",
    " return balanced_log_loss/(N_0+N_1)"
   ]
  },
  {
   "cell_type": "code",
   "execution_count": 13,
   "id": "8a4e9d35",
   "metadata": {
    "execution": {
     "iopub.execute_input": "2023-07-21T15:53:32.707920Z",
     "iopub.status.busy": "2023-07-21T15:53:32.707502Z",
     "iopub.status.idle": "2023-07-21T15:53:32.721521Z",
     "shell.execute_reply": "2023-07-21T15:53:32.720277Z"
    },
    "papermill": {
     "duration": 0.027412,
     "end_time": "2023-07-21T15:53:32.723937",
     "exception": false,
     "start_time": "2023-07-21T15:53:32.696525",
     "status": "completed"
    },
    "tags": []
   },
   "outputs": [],
   "source": [
    "class Ensemble():\n",
    "    def __init__(self):\n",
    "        self.imputer = SimpleImputer(missing_values=np.nan, strategy='median')\n",
    "        self.classifiers =[xgboost.XGBClassifier(n_estimators=100,max_depth=3,learning_rate=0.2,subsample=0.9,colsample_bytree=0.85),\n",
    "                           xgboost.XGBClassifier(),\n",
    "                           TabPFNClassifier(N_ensemble_configurations=128),\n",
    "                           TabPFNClassifier(N_ensemble_configurations=48)]\n",
    "    \n",
    "    def fit(self,X,y):\n",
    "        y = y.values\n",
    "        unique_classes, y = np.unique(y, return_inverse=True)\n",
    "        self.classes_ = unique_classes\n",
    "        first_category = X.EJ.unique()[0]\n",
    "        X.EJ = X.EJ.eq(first_category).astype('int')\n",
    "        X = self.imputer.fit_transform(X)\n",
    "\n",
    "        for classifier in self.classifiers:\n",
    "            if classifier==self.classifiers[2] or classifier==self.classifiers[3]:\n",
    "                classifier.fit(X,y,overwrite_warning =True)\n",
    "            else :\n",
    "                classifier.fit(X, y)\n",
    "     \n",
    "    def predict_proba(self, x):\n",
    "        x = self.imputer.transform(x)\n",
    "        probabilities = np.stack([classifier.predict_proba(x) for classifier in self.classifiers])\n",
    "        averaged_probabilities = np.mean(probabilities, axis=0)\n",
    "        class_0_est_instances = averaged_probabilities[:, 0].sum()\n",
    "        others_est_instances = averaged_probabilities[:, 1:].sum()\n",
    "        # Weighted probabilities based on class imbalance\n",
    "        new_probabilities = averaged_probabilities * np.array([[1/(class_0_est_instances if i==0 else others_est_instances) for i in range(averaged_probabilities.shape[1])]])\n",
    "        return new_probabilities / np.sum(new_probabilities, axis=1, keepdims=1) "
   ]
  },
  {
   "cell_type": "code",
   "execution_count": 14,
   "id": "2d8e9bac",
   "metadata": {
    "execution": {
     "iopub.execute_input": "2023-07-21T15:53:32.745072Z",
     "iopub.status.busy": "2023-07-21T15:53:32.744663Z",
     "iopub.status.idle": "2023-07-21T15:53:32.757423Z",
     "shell.execute_reply": "2023-07-21T15:53:32.756143Z"
    },
    "papermill": {
     "duration": 0.026546,
     "end_time": "2023-07-21T15:53:32.760075",
     "exception": false,
     "start_time": "2023-07-21T15:53:32.733529",
     "status": "completed"
    },
    "tags": []
   },
   "outputs": [],
   "source": [
    "def training(model, x,y,y_meta):\n",
    "    outer_results = list()\n",
    "    best_loss = np.inf\n",
    "    split = 0\n",
    "    splits = 5\n",
    "    for train_idx,val_idx in tqdm(cv_inner.split(x), total = splits):\n",
    "        split+=1\n",
    "        x_train, x_val = x.iloc[train_idx],x.iloc[val_idx]\n",
    "        y_train, y_val = y_meta.iloc[train_idx], y.iloc[val_idx]\n",
    "                \n",
    "        model.fit(x_train, y_train)\n",
    "        y_pred = model.predict_proba(x_val)\n",
    "        probabilities = np.concatenate((y_pred[:,:1], np.sum(y_pred[:,1:], 1, keepdims=True)), axis=1)\n",
    "        p0 = probabilities[:,:1]\n",
    "        p0[p0 > 0.86] = 1\n",
    "        p0[p0 < 0.14] = 0\n",
    "        y_p = np.empty((y_pred.shape[0],))\n",
    "        for i in range(y_pred.shape[0]):\n",
    "            if p0[i]>=0.5:\n",
    "                y_p[i]= False\n",
    "            else :\n",
    "                y_p[i]=True\n",
    "        y_p = y_p.astype(int)\n",
    "        loss = balanced_log_loss(y_val,y_p)\n",
    "\n",
    "        if loss<best_loss:\n",
    "            best_model = model\n",
    "            best_loss = loss\n",
    "            print('best_model_saved')\n",
    "        outer_results.append(loss)\n",
    "        print('>val_loss=%.5f, split = %.1f' % (loss,split))\n",
    "    print('LOSS: %.5f' % (np.mean(outer_results)))\n",
    "    return best_model"
   ]
  },
  {
   "cell_type": "code",
   "execution_count": 15,
   "id": "eac85a04",
   "metadata": {
    "execution": {
     "iopub.execute_input": "2023-07-21T15:53:32.780758Z",
     "iopub.status.busy": "2023-07-21T15:53:32.780354Z",
     "iopub.status.idle": "2023-07-21T15:53:32.804335Z",
     "shell.execute_reply": "2023-07-21T15:53:32.802984Z"
    },
    "papermill": {
     "duration": 0.03723,
     "end_time": "2023-07-21T15:53:32.806892",
     "exception": false,
     "start_time": "2023-07-21T15:53:32.769662",
     "status": "completed"
    },
    "tags": []
   },
   "outputs": [],
   "source": [
    "times = greeks_df.Epsilon.copy()\n",
    "times[greeks_df.Epsilon != 'Unknown'] = greeks_df.Epsilon[greeks_df.Epsilon != 'Unknown'].map(lambda x: datetime.strptime(x,'%m/%d/%Y').toordinal())\n",
    "times[greeks_df.Epsilon == 'Unknown'] = np.nan"
   ]
  },
  {
   "cell_type": "code",
   "execution_count": 16,
   "id": "13f7db8f",
   "metadata": {
    "execution": {
     "iopub.execute_input": "2023-07-21T15:53:32.827820Z",
     "iopub.status.busy": "2023-07-21T15:53:32.827408Z",
     "iopub.status.idle": "2023-07-21T15:53:32.842949Z",
     "shell.execute_reply": "2023-07-21T15:53:32.841736Z"
    },
    "papermill": {
     "duration": 0.029024,
     "end_time": "2023-07-21T15:53:32.845462",
     "exception": false,
     "start_time": "2023-07-21T15:53:32.816438",
     "status": "completed"
    },
    "tags": []
   },
   "outputs": [],
   "source": [
    "train_pred_and_time = pd.concat((train_df, times), axis=1)\n",
    "test_predictors = test_df[predictor_columns]\n",
    "f_c = test_predictors.EJ.unique()[0]\n",
    "test_predictors.EJ = test_predictors.EJ.eq(f_c).astype('int')\n",
    "test_pred_and_time = np.concatenate((test_predictors, np.zeros((len(test_predictors), 1)) + train_pred_and_time.Epsilon.max() + 1), axis=1)"
   ]
  },
  {
   "cell_type": "code",
   "execution_count": 17,
   "id": "7c59e8fa",
   "metadata": {
    "execution": {
     "iopub.execute_input": "2023-07-21T15:53:32.866481Z",
     "iopub.status.busy": "2023-07-21T15:53:32.866028Z",
     "iopub.status.idle": "2023-07-21T15:53:32.909710Z",
     "shell.execute_reply": "2023-07-21T15:53:32.908189Z"
    },
    "papermill": {
     "duration": 0.057234,
     "end_time": "2023-07-21T15:53:32.912386",
     "exception": false,
     "start_time": "2023-07-21T15:53:32.855152",
     "status": "completed"
    },
    "tags": []
   },
   "outputs": [
    {
     "name": "stdout",
     "output_type": "stream",
     "text": [
      "Original dataset shape\n",
      "A    509\n",
      "B     61\n",
      "G     29\n",
      "D     18\n",
      "Name: Alpha, dtype: int64\n",
      "Resample dataset shape\n",
      "B    509\n",
      "A    509\n",
      "D    509\n",
      "G    509\n",
      "Name: Alpha, dtype: int64\n"
     ]
    }
   ],
   "source": [
    "ros = RandomOverSampler(random_state=42)\n",
    "train_ros, y_ros = ros.fit_resample(train_pred_and_time, greeks_df.Alpha)\n",
    "print('Original dataset shape')\n",
    "print(greeks_df.Alpha.value_counts())\n",
    "print('Resample dataset shape')\n",
    "print( y_ros.value_counts())"
   ]
  },
  {
   "cell_type": "code",
   "execution_count": 18,
   "id": "24f93672",
   "metadata": {
    "execution": {
     "iopub.execute_input": "2023-07-21T15:53:32.934654Z",
     "iopub.status.busy": "2023-07-21T15:53:32.934203Z",
     "iopub.status.idle": "2023-07-21T15:53:32.943106Z",
     "shell.execute_reply": "2023-07-21T15:53:32.941927Z"
    },
    "papermill": {
     "duration": 0.023743,
     "end_time": "2023-07-21T15:53:32.945785",
     "exception": false,
     "start_time": "2023-07-21T15:53:32.922042",
     "status": "completed"
    },
    "tags": []
   },
   "outputs": [],
   "source": [
    "\n",
    "x_ros = train_ros.drop(['Class', 'Id'],axis=1)\n",
    "y_ = train_ros.Class"
   ]
  },
  {
   "cell_type": "code",
   "execution_count": 19,
   "id": "3bb22cb9",
   "metadata": {
    "execution": {
     "iopub.execute_input": "2023-07-21T15:53:32.969825Z",
     "iopub.status.busy": "2023-07-21T15:53:32.969410Z",
     "iopub.status.idle": "2023-07-21T15:53:34.012308Z",
     "shell.execute_reply": "2023-07-21T15:53:34.011458Z"
    },
    "papermill": {
     "duration": 1.058482,
     "end_time": "2023-07-21T15:53:34.015114",
     "exception": false,
     "start_time": "2023-07-21T15:53:32.956632",
     "status": "completed"
    },
    "tags": []
   },
   "outputs": [
    {
     "name": "stdout",
     "output_type": "stream",
     "text": [
      "Loading model that can be used for inference only\n",
      "Using a Transformer with 25.82 M parameters\n",
      "Loading model that can be used for inference only\n",
      "Using a Transformer with 25.82 M parameters\n"
     ]
    }
   ],
   "source": [
    "\n",
    "yt = Ensemble()"
   ]
  },
  {
   "cell_type": "code",
   "execution_count": 20,
   "id": "2f4be2ee",
   "metadata": {
    "execution": {
     "iopub.execute_input": "2023-07-21T15:53:34.038390Z",
     "iopub.status.busy": "2023-07-21T15:53:34.037910Z",
     "iopub.status.idle": "2023-07-21T16:36:53.086642Z",
     "shell.execute_reply": "2023-07-21T16:36:53.085438Z"
    },
    "papermill": {
     "duration": 2599.074078,
     "end_time": "2023-07-21T16:36:53.100516",
     "exception": false,
     "start_time": "2023-07-21T15:53:34.026438",
     "status": "completed"
    },
    "tags": []
   },
   "outputs": [
    {
     "data": {
      "application/vnd.jupyter.widget-view+json": {
       "model_id": "1486711fdccc430bb8f19ffe0003cdf5",
       "version_major": 2,
       "version_minor": 0
      },
      "text/plain": [
       "  0%|          | 0/5 [00:00<?, ?it/s]"
      ]
     },
     "metadata": {},
     "output_type": "display_data"
    },
    {
     "name": "stdout",
     "output_type": "stream",
     "text": [
      "best_model_saved\n",
      ">val_loss=0.12283, split = 1.0\n"
     ]
    },
    {
     "name": "stderr",
     "output_type": "stream",
     "text": [
      "/tmp/ipykernel_20/772101332.py:14: SettingWithCopyWarning: \n",
      "A value is trying to be set on a copy of a slice from a DataFrame.\n",
      "Try using .loc[row_indexer,col_indexer] = value instead\n",
      "\n",
      "See the caveats in the documentation: https://pandas.pydata.org/pandas-docs/stable/user_guide/indexing.html#returning-a-view-versus-a-copy\n",
      "  X.EJ = X.EJ.eq(first_category).astype('int')\n"
     ]
    },
    {
     "name": "stdout",
     "output_type": "stream",
     "text": [
      "best_model_saved\n",
      ">val_loss=0.00000, split = 2.0\n"
     ]
    },
    {
     "name": "stderr",
     "output_type": "stream",
     "text": [
      "/tmp/ipykernel_20/772101332.py:14: SettingWithCopyWarning: \n",
      "A value is trying to be set on a copy of a slice from a DataFrame.\n",
      "Try using .loc[row_indexer,col_indexer] = value instead\n",
      "\n",
      "See the caveats in the documentation: https://pandas.pydata.org/pandas-docs/stable/user_guide/indexing.html#returning-a-view-versus-a-copy\n",
      "  X.EJ = X.EJ.eq(first_category).astype('int')\n"
     ]
    },
    {
     "name": "stdout",
     "output_type": "stream",
     "text": [
      ">val_loss=0.00000, split = 3.0\n"
     ]
    },
    {
     "name": "stderr",
     "output_type": "stream",
     "text": [
      "/tmp/ipykernel_20/772101332.py:14: SettingWithCopyWarning: \n",
      "A value is trying to be set on a copy of a slice from a DataFrame.\n",
      "Try using .loc[row_indexer,col_indexer] = value instead\n",
      "\n",
      "See the caveats in the documentation: https://pandas.pydata.org/pandas-docs/stable/user_guide/indexing.html#returning-a-view-versus-a-copy\n",
      "  X.EJ = X.EJ.eq(first_category).astype('int')\n"
     ]
    },
    {
     "name": "stdout",
     "output_type": "stream",
     "text": [
      ">val_loss=0.13220, split = 4.0\n"
     ]
    },
    {
     "name": "stderr",
     "output_type": "stream",
     "text": [
      "/tmp/ipykernel_20/772101332.py:14: SettingWithCopyWarning: \n",
      "A value is trying to be set on a copy of a slice from a DataFrame.\n",
      "Try using .loc[row_indexer,col_indexer] = value instead\n",
      "\n",
      "See the caveats in the documentation: https://pandas.pydata.org/pandas-docs/stable/user_guide/indexing.html#returning-a-view-versus-a-copy\n",
      "  X.EJ = X.EJ.eq(first_category).astype('int')\n"
     ]
    },
    {
     "name": "stdout",
     "output_type": "stream",
     "text": [
      ">val_loss=0.13386, split = 5.0\n",
      "LOSS: 0.07778\n"
     ]
    }
   ],
   "source": [
    "\n",
    "m = training(yt,x_ros,y_,y_ros)"
   ]
  },
  {
   "cell_type": "code",
   "execution_count": 21,
   "id": "d96b306f",
   "metadata": {
    "execution": {
     "iopub.execute_input": "2023-07-21T16:36:53.124238Z",
     "iopub.status.busy": "2023-07-21T16:36:53.123776Z",
     "iopub.status.idle": "2023-07-21T16:36:53.134302Z",
     "shell.execute_reply": "2023-07-21T16:36:53.133149Z"
    },
    "papermill": {
     "duration": 0.025325,
     "end_time": "2023-07-21T16:36:53.136690",
     "exception": false,
     "start_time": "2023-07-21T16:36:53.111365",
     "status": "completed"
    },
    "tags": []
   },
   "outputs": [
    {
     "data": {
      "text/plain": [
       "1    0.75\n",
       "0    0.25\n",
       "Name: Class, dtype: float64"
      ]
     },
     "execution_count": 21,
     "metadata": {},
     "output_type": "execute_result"
    }
   ],
   "source": [
    "y_.value_counts()/y_.shape[0]"
   ]
  },
  {
   "cell_type": "code",
   "execution_count": 22,
   "id": "c45bd72b",
   "metadata": {
    "execution": {
     "iopub.execute_input": "2023-07-21T16:36:53.161504Z",
     "iopub.status.busy": "2023-07-21T16:36:53.160656Z",
     "iopub.status.idle": "2023-07-21T16:44:01.043865Z",
     "shell.execute_reply": "2023-07-21T16:44:01.042239Z"
    },
    "papermill": {
     "duration": 427.900911,
     "end_time": "2023-07-21T16:44:01.048717",
     "exception": false,
     "start_time": "2023-07-21T16:36:53.147806",
     "status": "completed"
    },
    "tags": []
   },
   "outputs": [
    {
     "name": "stderr",
     "output_type": "stream",
     "text": [
      "/opt/conda/lib/python3.10/site-packages/sklearn/base.py:439: UserWarning: X does not have valid feature names, but SimpleImputer was fitted with feature names\n",
      "  warnings.warn(\n"
     ]
    }
   ],
   "source": [
    "\n",
    "y_pred = m.predict_proba(test_pred_and_time)\n",
    "probabilities = np.concatenate((y_pred[:,:1], np.sum(y_pred[:,1:], 1, keepdims=True)), axis=1)\n",
    "p0 = probabilities[:,:1]\n",
    "p0[p0 > 0.59] = 1\n",
    "p0[p0 < 0.28] = 0"
   ]
  },
  {
   "cell_type": "code",
   "execution_count": 23,
   "id": "967ed14e",
   "metadata": {
    "execution": {
     "iopub.execute_input": "2023-07-21T16:44:01.076361Z",
     "iopub.status.busy": "2023-07-21T16:44:01.075908Z",
     "iopub.status.idle": "2023-07-21T16:44:01.090619Z",
     "shell.execute_reply": "2023-07-21T16:44:01.089411Z"
    },
    "papermill": {
     "duration": 0.030936,
     "end_time": "2023-07-21T16:44:01.093502",
     "exception": false,
     "start_time": "2023-07-21T16:44:01.062566",
     "status": "completed"
    },
    "tags": []
   },
   "outputs": [],
   "source": [
    "\n",
    "submission = pd.DataFrame(test_df[\"Id\"], columns=[\"Id\"])\n",
    "submission[\"class_0\"] = p0\n",
    "submission[\"class_1\"] = 1 - p0\n",
    "submission.to_csv('submission.csv', index=False)"
   ]
  },
  {
   "cell_type": "code",
   "execution_count": 24,
   "id": "f9b4a7c5",
   "metadata": {
    "execution": {
     "iopub.execute_input": "2023-07-21T16:44:01.118941Z",
     "iopub.status.busy": "2023-07-21T16:44:01.118283Z",
     "iopub.status.idle": "2023-07-21T16:44:01.136373Z",
     "shell.execute_reply": "2023-07-21T16:44:01.135160Z"
    },
    "papermill": {
     "duration": 0.03388,
     "end_time": "2023-07-21T16:44:01.139087",
     "exception": false,
     "start_time": "2023-07-21T16:44:01.105207",
     "status": "completed"
    },
    "tags": []
   },
   "outputs": [
    {
     "data": {
      "text/html": [
       "<div>\n",
       "<style scoped>\n",
       "    .dataframe tbody tr th:only-of-type {\n",
       "        vertical-align: middle;\n",
       "    }\n",
       "\n",
       "    .dataframe tbody tr th {\n",
       "        vertical-align: top;\n",
       "    }\n",
       "\n",
       "    .dataframe thead th {\n",
       "        text-align: right;\n",
       "    }\n",
       "</style>\n",
       "<table border=\"1\" class=\"dataframe\">\n",
       "  <thead>\n",
       "    <tr style=\"text-align: right;\">\n",
       "      <th></th>\n",
       "      <th>Id</th>\n",
       "      <th>class_0</th>\n",
       "      <th>class_1</th>\n",
       "    </tr>\n",
       "  </thead>\n",
       "  <tbody>\n",
       "    <tr>\n",
       "      <th>0</th>\n",
       "      <td>00eed32682bb</td>\n",
       "      <td>0.5</td>\n",
       "      <td>0.5</td>\n",
       "    </tr>\n",
       "    <tr>\n",
       "      <th>1</th>\n",
       "      <td>010ebe33f668</td>\n",
       "      <td>0.5</td>\n",
       "      <td>0.5</td>\n",
       "    </tr>\n",
       "    <tr>\n",
       "      <th>2</th>\n",
       "      <td>02fa521e1838</td>\n",
       "      <td>0.5</td>\n",
       "      <td>0.5</td>\n",
       "    </tr>\n",
       "    <tr>\n",
       "      <th>3</th>\n",
       "      <td>040e15f562a2</td>\n",
       "      <td>0.5</td>\n",
       "      <td>0.5</td>\n",
       "    </tr>\n",
       "    <tr>\n",
       "      <th>4</th>\n",
       "      <td>046e85c7cc7f</td>\n",
       "      <td>0.5</td>\n",
       "      <td>0.5</td>\n",
       "    </tr>\n",
       "  </tbody>\n",
       "</table>\n",
       "</div>"
      ],
      "text/plain": [
       "             Id  class_0  class_1\n",
       "0  00eed32682bb      0.5      0.5\n",
       "1  010ebe33f668      0.5      0.5\n",
       "2  02fa521e1838      0.5      0.5\n",
       "3  040e15f562a2      0.5      0.5\n",
       "4  046e85c7cc7f      0.5      0.5"
      ]
     },
     "execution_count": 24,
     "metadata": {},
     "output_type": "execute_result"
    }
   ],
   "source": [
    "submission_df = pd.read_csv('submission.csv')\n",
    "submission_df"
   ]
  }
 ],
 "metadata": {
  "kernelspec": {
   "display_name": "Python 3",
   "language": "python",
   "name": "python3"
  },
  "language_info": {
   "codemirror_mode": {
    "name": "ipython",
    "version": 3
   },
   "file_extension": ".py",
   "mimetype": "text/x-python",
   "name": "python",
   "nbconvert_exporter": "python",
   "pygments_lexer": "ipython3",
   "version": "3.10.12"
  },
  "papermill": {
   "default_parameters": {},
   "duration": 3089.637665,
   "end_time": "2023-07-21T16:44:03.814098",
   "environment_variables": {},
   "exception": null,
   "input_path": "__notebook__.ipynb",
   "output_path": "__notebook__.ipynb",
   "parameters": {},
   "start_time": "2023-07-21T15:52:34.176433",
   "version": "2.4.0"
  },
  "widgets": {
   "application/vnd.jupyter.widget-state+json": {
    "state": {
     "0eb183199e764348bf581e2ffce05ecf": {
      "model_module": "@jupyter-widgets/base",
      "model_module_version": "1.2.0",
      "model_name": "LayoutModel",
      "state": {
       "_model_module": "@jupyter-widgets/base",
       "_model_module_version": "1.2.0",
       "_model_name": "LayoutModel",
       "_view_count": null,
       "_view_module": "@jupyter-widgets/base",
       "_view_module_version": "1.2.0",
       "_view_name": "LayoutView",
       "align_content": null,
       "align_items": null,
       "align_self": null,
       "border": null,
       "bottom": null,
       "display": null,
       "flex": null,
       "flex_flow": null,
       "grid_area": null,
       "grid_auto_columns": null,
       "grid_auto_flow": null,
       "grid_auto_rows": null,
       "grid_column": null,
       "grid_gap": null,
       "grid_row": null,
       "grid_template_areas": null,
       "grid_template_columns": null,
       "grid_template_rows": null,
       "height": null,
       "justify_content": null,
       "justify_items": null,
       "left": null,
       "margin": null,
       "max_height": null,
       "max_width": null,
       "min_height": null,
       "min_width": null,
       "object_fit": null,
       "object_position": null,
       "order": null,
       "overflow": null,
       "overflow_x": null,
       "overflow_y": null,
       "padding": null,
       "right": null,
       "top": null,
       "visibility": null,
       "width": null
      }
     },
     "1486711fdccc430bb8f19ffe0003cdf5": {
      "model_module": "@jupyter-widgets/controls",
      "model_module_version": "1.5.0",
      "model_name": "HBoxModel",
      "state": {
       "_dom_classes": [],
       "_model_module": "@jupyter-widgets/controls",
       "_model_module_version": "1.5.0",
       "_model_name": "HBoxModel",
       "_view_count": null,
       "_view_module": "@jupyter-widgets/controls",
       "_view_module_version": "1.5.0",
       "_view_name": "HBoxView",
       "box_style": "",
       "children": [
        "IPY_MODEL_f0a7e9ffa8394babae8a609317de1970",
        "IPY_MODEL_d75596a40df548e8a3c16233b0c56d18",
        "IPY_MODEL_ee353ab052bc474ead46fd0f9ed9e203"
       ],
       "layout": "IPY_MODEL_b2f3a43388b041edba2a3f9834a28a94"
      }
     },
     "27e595e199224d0d93832f5dd41379e8": {
      "model_module": "@jupyter-widgets/controls",
      "model_module_version": "1.5.0",
      "model_name": "DescriptionStyleModel",
      "state": {
       "_model_module": "@jupyter-widgets/controls",
       "_model_module_version": "1.5.0",
       "_model_name": "DescriptionStyleModel",
       "_view_count": null,
       "_view_module": "@jupyter-widgets/base",
       "_view_module_version": "1.2.0",
       "_view_name": "StyleView",
       "description_width": ""
      }
     },
     "44e788a6798c486db6f6a9d4d910eb9e": {
      "model_module": "@jupyter-widgets/base",
      "model_module_version": "1.2.0",
      "model_name": "LayoutModel",
      "state": {
       "_model_module": "@jupyter-widgets/base",
       "_model_module_version": "1.2.0",
       "_model_name": "LayoutModel",
       "_view_count": null,
       "_view_module": "@jupyter-widgets/base",
       "_view_module_version": "1.2.0",
       "_view_name": "LayoutView",
       "align_content": null,
       "align_items": null,
       "align_self": null,
       "border": null,
       "bottom": null,
       "display": null,
       "flex": null,
       "flex_flow": null,
       "grid_area": null,
       "grid_auto_columns": null,
       "grid_auto_flow": null,
       "grid_auto_rows": null,
       "grid_column": null,
       "grid_gap": null,
       "grid_row": null,
       "grid_template_areas": null,
       "grid_template_columns": null,
       "grid_template_rows": null,
       "height": null,
       "justify_content": null,
       "justify_items": null,
       "left": null,
       "margin": null,
       "max_height": null,
       "max_width": null,
       "min_height": null,
       "min_width": null,
       "object_fit": null,
       "object_position": null,
       "order": null,
       "overflow": null,
       "overflow_x": null,
       "overflow_y": null,
       "padding": null,
       "right": null,
       "top": null,
       "visibility": null,
       "width": null
      }
     },
     "ae831dbd067b467ab82639cf32c7c94d": {
      "model_module": "@jupyter-widgets/controls",
      "model_module_version": "1.5.0",
      "model_name": "ProgressStyleModel",
      "state": {
       "_model_module": "@jupyter-widgets/controls",
       "_model_module_version": "1.5.0",
       "_model_name": "ProgressStyleModel",
       "_view_count": null,
       "_view_module": "@jupyter-widgets/base",
       "_view_module_version": "1.2.0",
       "_view_name": "StyleView",
       "bar_color": null,
       "description_width": ""
      }
     },
     "b2f3a43388b041edba2a3f9834a28a94": {
      "model_module": "@jupyter-widgets/base",
      "model_module_version": "1.2.0",
      "model_name": "LayoutModel",
      "state": {
       "_model_module": "@jupyter-widgets/base",
       "_model_module_version": "1.2.0",
       "_model_name": "LayoutModel",
       "_view_count": null,
       "_view_module": "@jupyter-widgets/base",
       "_view_module_version": "1.2.0",
       "_view_name": "LayoutView",
       "align_content": null,
       "align_items": null,
       "align_self": null,
       "border": null,
       "bottom": null,
       "display": null,
       "flex": null,
       "flex_flow": null,
       "grid_area": null,
       "grid_auto_columns": null,
       "grid_auto_flow": null,
       "grid_auto_rows": null,
       "grid_column": null,
       "grid_gap": null,
       "grid_row": null,
       "grid_template_areas": null,
       "grid_template_columns": null,
       "grid_template_rows": null,
       "height": null,
       "justify_content": null,
       "justify_items": null,
       "left": null,
       "margin": null,
       "max_height": null,
       "max_width": null,
       "min_height": null,
       "min_width": null,
       "object_fit": null,
       "object_position": null,
       "order": null,
       "overflow": null,
       "overflow_x": null,
       "overflow_y": null,
       "padding": null,
       "right": null,
       "top": null,
       "visibility": null,
       "width": null
      }
     },
     "bfd66578853d48eeb16725dccf2b9065": {
      "model_module": "@jupyter-widgets/controls",
      "model_module_version": "1.5.0",
      "model_name": "DescriptionStyleModel",
      "state": {
       "_model_module": "@jupyter-widgets/controls",
       "_model_module_version": "1.5.0",
       "_model_name": "DescriptionStyleModel",
       "_view_count": null,
       "_view_module": "@jupyter-widgets/base",
       "_view_module_version": "1.2.0",
       "_view_name": "StyleView",
       "description_width": ""
      }
     },
     "d75596a40df548e8a3c16233b0c56d18": {
      "model_module": "@jupyter-widgets/controls",
      "model_module_version": "1.5.0",
      "model_name": "FloatProgressModel",
      "state": {
       "_dom_classes": [],
       "_model_module": "@jupyter-widgets/controls",
       "_model_module_version": "1.5.0",
       "_model_name": "FloatProgressModel",
       "_view_count": null,
       "_view_module": "@jupyter-widgets/controls",
       "_view_module_version": "1.5.0",
       "_view_name": "ProgressView",
       "bar_style": "success",
       "description": "",
       "description_tooltip": null,
       "layout": "IPY_MODEL_0eb183199e764348bf581e2ffce05ecf",
       "max": 5.0,
       "min": 0.0,
       "orientation": "horizontal",
       "style": "IPY_MODEL_ae831dbd067b467ab82639cf32c7c94d",
       "value": 5.0
      }
     },
     "ee353ab052bc474ead46fd0f9ed9e203": {
      "model_module": "@jupyter-widgets/controls",
      "model_module_version": "1.5.0",
      "model_name": "HTMLModel",
      "state": {
       "_dom_classes": [],
       "_model_module": "@jupyter-widgets/controls",
       "_model_module_version": "1.5.0",
       "_model_name": "HTMLModel",
       "_view_count": null,
       "_view_module": "@jupyter-widgets/controls",
       "_view_module_version": "1.5.0",
       "_view_name": "HTMLView",
       "description": "",
       "description_tooltip": null,
       "layout": "IPY_MODEL_ee7ef555c90e4457b64ff561bf94a63c",
       "placeholder": "​",
       "style": "IPY_MODEL_bfd66578853d48eeb16725dccf2b9065",
       "value": " 5/5 [43:19&lt;00:00, 520.03s/it]"
      }
     },
     "ee7ef555c90e4457b64ff561bf94a63c": {
      "model_module": "@jupyter-widgets/base",
      "model_module_version": "1.2.0",
      "model_name": "LayoutModel",
      "state": {
       "_model_module": "@jupyter-widgets/base",
       "_model_module_version": "1.2.0",
       "_model_name": "LayoutModel",
       "_view_count": null,
       "_view_module": "@jupyter-widgets/base",
       "_view_module_version": "1.2.0",
       "_view_name": "LayoutView",
       "align_content": null,
       "align_items": null,
       "align_self": null,
       "border": null,
       "bottom": null,
       "display": null,
       "flex": null,
       "flex_flow": null,
       "grid_area": null,
       "grid_auto_columns": null,
       "grid_auto_flow": null,
       "grid_auto_rows": null,
       "grid_column": null,
       "grid_gap": null,
       "grid_row": null,
       "grid_template_areas": null,
       "grid_template_columns": null,
       "grid_template_rows": null,
       "height": null,
       "justify_content": null,
       "justify_items": null,
       "left": null,
       "margin": null,
       "max_height": null,
       "max_width": null,
       "min_height": null,
       "min_width": null,
       "object_fit": null,
       "object_position": null,
       "order": null,
       "overflow": null,
       "overflow_x": null,
       "overflow_y": null,
       "padding": null,
       "right": null,
       "top": null,
       "visibility": null,
       "width": null
      }
     },
     "f0a7e9ffa8394babae8a609317de1970": {
      "model_module": "@jupyter-widgets/controls",
      "model_module_version": "1.5.0",
      "model_name": "HTMLModel",
      "state": {
       "_dom_classes": [],
       "_model_module": "@jupyter-widgets/controls",
       "_model_module_version": "1.5.0",
       "_model_name": "HTMLModel",
       "_view_count": null,
       "_view_module": "@jupyter-widgets/controls",
       "_view_module_version": "1.5.0",
       "_view_name": "HTMLView",
       "description": "",
       "description_tooltip": null,
       "layout": "IPY_MODEL_44e788a6798c486db6f6a9d4d910eb9e",
       "placeholder": "​",
       "style": "IPY_MODEL_27e595e199224d0d93832f5dd41379e8",
       "value": "100%"
      }
     }
    },
    "version_major": 2,
    "version_minor": 0
   }
  }
 },
 "nbformat": 4,
 "nbformat_minor": 5
}
